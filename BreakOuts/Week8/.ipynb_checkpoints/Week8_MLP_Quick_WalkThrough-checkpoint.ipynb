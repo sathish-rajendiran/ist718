{
 "cells": [
  {
   "cell_type": "markdown",
   "metadata": {
    "colab_type": "text",
    "id": "view-in-github"
   },
   "source": [
    "<a href=\"https://colab.research.google.com/github/2SUBDA/Breakouts/blob/Week8/Week8_MLP_Quick_WalkThrough.ipynb\" target=\"_parent\"><img src=\"https://colab.research.google.com/assets/colab-badge.svg\" alt=\"Open In Colab\"/></a>"
   ]
  },
  {
   "cell_type": "code",
   "execution_count": 1,
   "metadata": {
    "id": "Y0zqqZwotK_2"
   },
   "outputs": [],
   "source": [
    "# BASIC WALK THROUGH FOR FASHION-MNIST MLP\n",
    "# BASED ON SKLEARN TUTORIALS \n",
    "# ALTERNATIVE TO CREATING MLP MODEL THE OLD FASHIONED WAY\n",
    "\n",
    "from sklearn import datasets, metrics\n",
    "from sklearn.neural_network import MLPClassifier\n",
    "from sklearn.model_selection import train_test_split"
   ]
  },
  {
   "cell_type": "code",
   "execution_count": 2,
   "metadata": {
    "id": "lhm5xXKytg76"
   },
   "outputs": [],
   "source": [
    "# OBTAIN\n",
    "\n",
    "digits = datasets.load_digits()"
   ]
  },
  {
   "cell_type": "code",
   "execution_count": 3,
   "metadata": {
    "id": "fZfbEMtFtr4X"
   },
   "outputs": [],
   "source": [
    "# SCRUB\n",
    "# NORMALIZE INPUTS FROM RGB TO 0-1\n",
    "\n",
    "X = digits.data / 255\n",
    "y = digits.target\n",
    "\n",
    "X_train, X_test, y_train, y_test = train_test_split(X, y, test_size=0.3, random_state=42)"
   ]
  },
  {
   "cell_type": "code",
   "execution_count": 13,
   "metadata": {
    "id": "4XWy-mvFuQxf"
   },
   "outputs": [],
   "source": [
    "# MODEL\n",
    "# Build basic model using MLP Classifier\n",
    "# Additional configurations available:  https://scikit-learn.org/stable/modules/generated/sklearn.neural_network.MLPClassifier.html\n",
    "\n",
    "\n",
    "mlp = MLPClassifier(hidden_layer_sizes=(100,), max_iter=100, alpha=1e-4, solver=\"adam\",  \n",
    "                    verbose = 10, tol=1e-4, random_state=1, learning_rate_init=.1)\n",
    "\n",
    "\n",
    "# mlp = MLPClassifier(hidden_layer_sizes=(100,), max_iter=100, alpha=1e-4, solver=\"sgd\",  \n",
    "#                     verbose = 10, tol=1e-4, random_state=1, learning_rate_init=.1)\n",
    "  \n",
    "    \n",
    "# mlp = MLPClassifier(hidden_layer_sizes=(100,), max_iter=100, alpha=1e-4, solver=\"lbfgs\",  \n",
    "#                     verbose = 10, tol=1e-4, random_state=1, learning_rate_init=.1)"
   ]
  },
  {
   "cell_type": "code",
   "execution_count": 11,
   "metadata": {
    "colab": {
     "base_uri": "https://localhost:8080/"
    },
    "id": "YHpS6DI-utYP",
    "outputId": "c6ba2593-6fda-4fb4-d34d-bb17835bb8a6"
   },
   "outputs": [
    {
     "name": "stderr",
     "output_type": "stream",
     "text": [
      "/Users/sathishrajendiran/opt/anaconda3/lib/python3.8/site-packages/sklearn/neural_network/_multilayer_perceptron.py:471: ConvergenceWarning: lbfgs failed to converge (status=1):\n",
      "STOP: TOTAL NO. of ITERATIONS REACHED LIMIT.\n",
      "\n",
      "Increase the number of iterations (max_iter) or scale the data as shown in:\n",
      "    https://scikit-learn.org/stable/modules/preprocessing.html\n",
      "  self.n_iter_ = _check_optimize_result(\"lbfgs\", opt_res, self.max_iter)\n"
     ]
    },
    {
     "data": {
      "text/plain": [
       "MLPClassifier(learning_rate_init=0.1, max_iter=100, random_state=1,\n",
       "              solver='lbfgs', verbose=10)"
      ]
     },
     "execution_count": 11,
     "metadata": {},
     "output_type": "execute_result"
    }
   ],
   "source": [
    "# MODEL\n",
    "# FIT\n",
    "\n",
    "mlp.fit(X_train, y_train)"
   ]
  },
  {
   "cell_type": "code",
   "execution_count": 12,
   "metadata": {
    "colab": {
     "base_uri": "https://localhost:8080/"
    },
    "id": "mFBQCovJu7yP",
    "outputId": "214a7881-29f7-408c-9215-f14fca6a9670"
   },
   "outputs": [
    {
     "name": "stdout",
     "output_type": "stream",
     "text": [
      "Training set score: 0.9713603818615751\n",
      "\n",
      "Test set score: 0.9537037037037037\n"
     ]
    }
   ],
   "source": [
    "# RECOMMMEND\n",
    "# Performance of model\n",
    "\n",
    "print(\"Training set score: {0}\".format(mlp.score(X_train, y_train)))\n",
    "print()\n",
    "print(\"Test set score: {0}\".format(mlp.score(X_test, y_test)))\n"
   ]
  }
 ],
 "metadata": {
  "colab": {
   "include_colab_link": true,
   "name": "Week8_MLP_Quick_WalkThrough.ipynb",
   "provenance": []
  },
  "kernelspec": {
   "display_name": "Python 3",
   "language": "python",
   "name": "python3"
  },
  "language_info": {
   "codemirror_mode": {
    "name": "ipython",
    "version": 3
   },
   "file_extension": ".py",
   "mimetype": "text/x-python",
   "name": "python",
   "nbconvert_exporter": "python",
   "pygments_lexer": "ipython3",
   "version": "3.8.5"
  }
 },
 "nbformat": 4,
 "nbformat_minor": 1
}
