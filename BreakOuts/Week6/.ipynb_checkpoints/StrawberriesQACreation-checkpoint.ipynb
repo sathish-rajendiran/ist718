{
 "cells": [
  {
   "cell_type": "markdown",
   "metadata": {
    "colab_type": "text",
    "id": "view-in-github"
   },
   "source": [
    "<a href=\"https://colab.research.google.com/github/2SUBDA/Breakouts/blob/Week6/StrawberriesQACreation.ipynb\" target=\"_parent\"><img src=\"https://colab.research.google.com/assets/colab-badge.svg\" alt=\"Open In Colab\"/></a>"
   ]
  },
  {
   "cell_type": "code",
   "execution_count": 1,
   "metadata": {
    "colab": {},
    "colab_type": "code",
    "id": "AYeXUeczsbb8"
   },
   "outputs": [],
   "source": [
    "# BASED ON EXAMPLE FROM STACKEXCHANGE - JahKnows (2018)\n",
    "import numpy as np\n",
    "import pandas as pd\n",
    "\n",
    "from mpl_toolkits.mplot3d import Axes3D\n",
    "import matplotlib.pyplot as plt"
   ]
  },
  {
   "cell_type": "code",
   "execution_count": 2,
   "metadata": {
    "colab": {},
    "colab_type": "code",
    "id": "b8K6YzDmsmS1"
   },
   "outputs": [],
   "source": [
    "# OBTAIN - OR RATHER CREATE SAMPLES BASED ON COLTON TEST DATA\n",
    "\n",
    "# Number of Samples\n",
    "n = 200000\n",
    "\n",
    "data = []\n",
    "for i in range(n):\n",
    "    temp = {}\n",
    "    \n",
    "    # RANDOM NORMAL BASED ON COLTON - MEAN = 34  VARIANCE = 3\n",
    "    # DISTRIBUTION CHOICES BASED ON ANALYSIS OF HISTORICAL OBSERVATIONS\n",
    "    temp.update({'temperature': np.random.normal(34, 3)})\n",
    "    \n",
    "    # GET A COLOR\n",
    "    color = 'red'\n",
    "    color_random_value = np.random.randint(0,10)\n",
    "    if color_random_value == 8:\n",
    "        color = 'yellow'\n",
    "    elif color_random_value == 9:\n",
    "        color = 'green'\n",
    "    temp.update({'color': color})\n",
    "    \n",
    "    # Get a random normally distributed moisture mean=96 and variance=2\n",
    "    temp.update({'moisture': np.random.normal(96, 2)})\n",
    "\n",
    "    # Verify if the instance is edible (label=0) or not (label=1)\n",
    "    label = 0\n",
    "    if temp['temperature'] < 31 or temp['temperature'] > 37:\n",
    "        label = 1\n",
    "    elif temp['color'] != 'red':\n",
    "        label = 1\n",
    "    elif temp['moisture'] < 94 or temp['moisture'] > 98:\n",
    "        label = 1\n",
    "    temp.update({'label': label})\n",
    "\n",
    "    data.append(temp)\n",
    "    \n",
    "    "
   ]
  },
  {
   "cell_type": "code",
   "execution_count": 3,
   "metadata": {
    "colab": {
     "base_uri": "https://localhost:8080/",
     "height": 198
    },
    "colab_type": "code",
    "id": "giV1xRWq3aN6",
    "outputId": "0778beea-984e-4416-e25e-f590bbd5e4a3"
   },
   "outputs": [
    {
     "data": {
      "text/html": [
       "<div>\n",
       "<style scoped>\n",
       "    .dataframe tbody tr th:only-of-type {\n",
       "        vertical-align: middle;\n",
       "    }\n",
       "\n",
       "    .dataframe tbody tr th {\n",
       "        vertical-align: top;\n",
       "    }\n",
       "\n",
       "    .dataframe thead th {\n",
       "        text-align: right;\n",
       "    }\n",
       "</style>\n",
       "<table border=\"1\" class=\"dataframe\">\n",
       "  <thead>\n",
       "    <tr style=\"text-align: right;\">\n",
       "      <th></th>\n",
       "      <th>temperature</th>\n",
       "      <th>color</th>\n",
       "      <th>moisture</th>\n",
       "      <th>label</th>\n",
       "    </tr>\n",
       "  </thead>\n",
       "  <tbody>\n",
       "    <tr>\n",
       "      <th>0</th>\n",
       "      <td>35.910471</td>\n",
       "      <td>red</td>\n",
       "      <td>96.158484</td>\n",
       "      <td>0</td>\n",
       "    </tr>\n",
       "    <tr>\n",
       "      <th>1</th>\n",
       "      <td>33.782099</td>\n",
       "      <td>red</td>\n",
       "      <td>93.815875</td>\n",
       "      <td>1</td>\n",
       "    </tr>\n",
       "    <tr>\n",
       "      <th>2</th>\n",
       "      <td>30.632797</td>\n",
       "      <td>green</td>\n",
       "      <td>100.382106</td>\n",
       "      <td>1</td>\n",
       "    </tr>\n",
       "    <tr>\n",
       "      <th>3</th>\n",
       "      <td>33.719007</td>\n",
       "      <td>red</td>\n",
       "      <td>99.814180</td>\n",
       "      <td>1</td>\n",
       "    </tr>\n",
       "    <tr>\n",
       "      <th>4</th>\n",
       "      <td>36.235675</td>\n",
       "      <td>red</td>\n",
       "      <td>97.701770</td>\n",
       "      <td>0</td>\n",
       "    </tr>\n",
       "  </tbody>\n",
       "</table>\n",
       "</div>"
      ],
      "text/plain": [
       "   temperature  color    moisture  label\n",
       "0    35.910471    red   96.158484      0\n",
       "1    33.782099    red   93.815875      1\n",
       "2    30.632797  green  100.382106      1\n",
       "3    33.719007    red   99.814180      1\n",
       "4    36.235675    red   97.701770      0"
      ]
     },
     "execution_count": 3,
     "metadata": {},
     "output_type": "execute_result"
    }
   ],
   "source": [
    "df = pd.DataFrame(data=data)\n",
    "df.head()"
   ]
  },
  {
   "cell_type": "code",
   "execution_count": 4,
   "metadata": {
    "colab": {},
    "colab_type": "code",
    "id": "PNL9Gt8I4jSR"
   },
   "outputs": [],
   "source": [
    "# SCRUB\n",
    "\n",
    "df['color_codes'] =df['color'].astype('category').cat.codes\n"
   ]
  },
  {
   "cell_type": "code",
   "execution_count": 5,
   "metadata": {
    "colab": {},
    "colab_type": "code",
    "id": "LJvuSdVR5Y_T"
   },
   "outputs": [],
   "source": [
    "# SCRUB\n",
    "\n",
    "X = np.asarray(df[['color_codes', 'moisture', 'temperature']])\n",
    "y = np.asarray(df['label'])"
   ]
  },
  {
   "cell_type": "code",
   "execution_count": 6,
   "metadata": {
    "colab": {
     "base_uri": "https://localhost:8080/",
     "height": 248
    },
    "colab_type": "code",
    "id": "CLCx0NRY5kjK",
    "outputId": "b7d090d3-c4b0-4864-e38c-b3fba2b935a4"
   },
   "outputs": [
    {
     "data": {
      "image/png": "[encoded data removed]",
      "text/plain": [
       "<Figure size 432x288 with 1 Axes>"
      ]
     },
     "metadata": {
      "needs_background": "light"
     },
     "output_type": "display_data"
    }
   ],
   "source": [
    "fig = plt.figure()\n",
    "ax = fig.add_subplot(111, projection='3d')\n",
    "\n",
    "ax.scatter(X[:,0], X[:,1], X[:,2], c=y)\n",
    "\n",
    "ax.set_xlabel('Color')\n",
    "ax.set_ylabel('Moisture')\n",
    "ax.set_zlabel('Temperature')\n",
    "\n",
    "plt.show()"
   ]
  },
  {
   "cell_type": "code",
   "execution_count": 7,
   "metadata": {
    "colab": {},
    "colab_type": "code",
    "id": "49jb0-KG5dnS"
   },
   "outputs": [],
   "source": [
    "from sklearn.model_selection import train_test_split\n",
    "\n",
    "X_train, X_test, y_train, y_test = train_test_split(X, y, test_size=0.33)"
   ]
  },
  {
   "cell_type": "code",
   "execution_count": 8,
   "metadata": {
    "colab": {
     "base_uri": "https://localhost:8080/",
     "height": 295
    },
    "colab_type": "code",
    "id": "reO6716G5sEq",
    "outputId": "1c446891-aed3-4950-efd2-4ad39ca5613e"
   },
   "outputs": [
    {
     "data": {
      "image/png": "[encoded data removed]",
      "text/plain": [
       "<Figure size 432x288 with 1 Axes>"
      ]
     },
     "metadata": {
      "needs_background": "light"
     },
     "output_type": "display_data"
    }
   ],
   "source": [
    "n_classes = 2\n",
    "\n",
    "training_counts = [None] * n_classes \n",
    "testing_counts = [None] * n_classes\n",
    "for i in range(n_classes):\n",
    "    training_counts[i] = len(y_train[y_train == i])/len(y_train)\n",
    "    testing_counts[i] = len(y_test[y_test == i])/len(y_test)\n",
    "\n",
    "# the histogram of the data\n",
    "train_bar = plt.bar(np.arange(n_classes)-0.2, training_counts, align='center', color = 'r', alpha=0.75, width = 0.41, label='Training')\n",
    "test_bar = plt.bar(np.arange(n_classes)+0.2, testing_counts, align='center', color = 'b', alpha=0.75, width = 0.41, label = 'Testing')\n",
    "\n",
    "plt.xlabel('Labels')\n",
    "plt.xticks((0,1))\n",
    "plt.ylabel('Count (%)')\n",
    "plt.title('Label distribution in the training and test set')\n",
    "plt.legend(bbox_to_anchor=(1.05, 1), handles=[train_bar, test_bar], loc=2)\n",
    "plt.grid(True)\n",
    "plt.show()"
   ]
  },
  {
   "cell_type": "code",
   "execution_count": 9,
   "metadata": {
    "colab": {
     "base_uri": "https://localhost:8080/",
     "height": 35
    },
    "colab_type": "code",
    "id": "ePtV9KYq5zhB",
    "outputId": "a3928f00-5029-4ef0-89ee-a2aa61d653c7"
   },
   "outputs": [
    {
     "data": {
      "text/plain": [
       "0.6263939393939394"
      ]
     },
     "execution_count": 9,
     "metadata": {},
     "output_type": "execute_result"
    }
   ],
   "source": [
    "# MODEL BUILD - LINEAR\n",
    "\n",
    "from sklearn import linear_model\n",
    "clf = linear_model.SGDClassifier(max_iter=1000)\n",
    "clf.fit(X_train, y_train)\n",
    "clf.score(X_test, y_test)"
   ]
  },
  {
   "cell_type": "code",
   "execution_count": 10,
   "metadata": {
    "colab": {
     "base_uri": "https://localhost:8080/",
     "height": 35
    },
    "colab_type": "code",
    "id": "QnNs-TC_58Sa",
    "outputId": "9ef3cd58-0a93-48b2-b6b5-4b45c5bd1ef3"
   },
   "outputs": [
    {
     "data": {
      "text/plain": [
       "0.6263939393939394"
      ]
     },
     "execution_count": 10,
     "metadata": {},
     "output_type": "execute_result"
    }
   ],
   "source": [
    "# MODEL BUILD - SUPPORT VECTOR\n",
    "\n",
    "from sklearn.svm import SVC\n",
    "clf = SVC()\n",
    "clf.fit(X_train, y_train)\n",
    "clf.score(X_test, y_test)"
   ]
  },
  {
   "cell_type": "code",
   "execution_count": 11,
   "metadata": {
    "colab": {
     "base_uri": "https://localhost:8080/",
     "height": 35
    },
    "colab_type": "code",
    "id": "pfkor84H5_IS",
    "outputId": "3a2b077c-58b2-464d-8c0d-0f4e964735ad"
   },
   "outputs": [
    {
     "data": {
      "text/plain": [
       "0.9981212121212121"
      ]
     },
     "execution_count": 11,
     "metadata": {},
     "output_type": "execute_result"
    }
   ],
   "source": [
    "# MODEL BUILD - K-Nearest Neighbors\n",
    "\n",
    "from sklearn.neighbors import KNeighborsClassifier\n",
    "neigh = KNeighborsClassifier(n_neighbors=3)\n",
    "neigh.fit(X_train, y_train)\n",
    "neigh.score(X_test, y_test)"
   ]
  },
  {
   "cell_type": "code",
   "execution_count": 12,
   "metadata": {
    "colab": {
     "base_uri": "https://localhost:8080/",
     "height": 35
    },
    "colab_type": "code",
    "id": "2n2ctDbGqlkH",
    "outputId": "ba49947c-28f7-417d-9821-606db9b3ba05"
   },
   "outputs": [
    {
     "data": {
      "text/plain": [
       "0.9991641791044776"
      ]
     },
     "execution_count": 12,
     "metadata": {},
     "output_type": "execute_result"
    }
   ],
   "source": [
    "# MODEL BUILD - K-Nearest Neighbors - Just fit/score Train\n",
    "\n",
    "neigh = KNeighborsClassifier(n_neighbors=3)\n",
    "neigh.fit(X_train, y_train)\n",
    "neigh.score(X_train, y_train)\n"
   ]
  },
  {
   "cell_type": "code",
   "execution_count": 13,
   "metadata": {
    "colab": {
     "base_uri": "https://localhost:8080/",
     "height": 35
    },
    "colab_type": "code",
    "id": "ggZ8vtOzrkyq",
    "outputId": "0a1ea14c-9544-41f1-fde0-e26f6c5998ed"
   },
   "outputs": [
    {
     "data": {
      "text/plain": [
       "0.998969696969697"
      ]
     },
     "execution_count": 13,
     "metadata": {},
     "output_type": "execute_result"
    }
   ],
   "source": [
    "# MODEL BUILD - K-Nearest Neighbors - Just fit/score Test\n",
    "\n",
    "neigh = KNeighborsClassifier(n_neighbors=3)\n",
    "neigh.fit(X_test, y_test)\n",
    "neigh.score(X_test, y_test)"
   ]
  },
  {
   "cell_type": "code",
   "execution_count": 14,
   "metadata": {
    "colab": {
     "base_uri": "https://localhost:8080/",
     "height": 35
    },
    "colab_type": "code",
    "id": "rL9NQieErH_Z",
    "outputId": "a43a6d9b-9706-4dcd-c665-15da2e5b6d60"
   },
   "outputs": [
    {
     "data": {
      "text/plain": [
       "0.999395"
      ]
     },
     "execution_count": 14,
     "metadata": {},
     "output_type": "execute_result"
    }
   ],
   "source": [
    "# MODEL BUILD - K-Nearest Neighbors - Just fit/score entire sample\n",
    "\n",
    "neigh = KNeighborsClassifier(n_neighbors=3)\n",
    "neigh.fit(X, y)\n",
    "neigh.score(X, y)\n"
   ]
  },
  {
   "cell_type": "markdown",
   "metadata": {
    "colab_type": "text",
    "id": "-uSxBwo8r6cK"
   },
   "source": [
    "NOTE:  K-Nearest Neighbors is a \"lazy\" algorithm - the separation of test & training is not truly necessary - we simply present the separation to align with the concept of comparing strawberries to strawberries :)\n",
    "More details available at https://scikit-learn.org/stable/modules/neighbors.html\n",
    "Shout out to Suzy Park for the catch & comments!"
   ]
  },
  {
   "cell_type": "code",
   "execution_count": 15,
   "metadata": {
    "colab": {
     "base_uri": "https://localhost:8080/",
     "height": 35
    },
    "colab_type": "code",
    "id": "amh-7-qd6CHj",
    "outputId": "43b45c29-129b-45e5-e318-534784f252b6"
   },
   "outputs": [
    {
     "name": "stdout",
     "output_type": "stream",
     "text": [
      "Score:  0.9999545454545454\n"
     ]
    }
   ],
   "source": [
    "# MODEL BUILD - RANDOM FORESTS\n",
    "\n",
    "from sklearn.ensemble import RandomForestClassifier \n",
    "\n",
    "forest = RandomForestClassifier(n_estimators = 100)\n",
    "forest.fit(X_train, y_train)\n",
    "print('Score: ', forest.score(X_test, y_test))\n",
    "predictions = forest.predict(X_test)"
   ]
  }
 ],
 "metadata": {
  "colab": {
   "collapsed_sections": [],
   "include_colab_link": true,
   "name": "StrawberriesQACreation.ipynb",
   "provenance": []
  },
  "kernelspec": {
   "display_name": "Python 3",
   "language": "python",
   "name": "python3"
  },
  "language_info": {
   "codemirror_mode": {
    "name": "ipython",
    "version": 3
   },
   "file_extension": ".py",
   "mimetype": "text/x-python",
   "name": "python",
   "nbconvert_exporter": "python",
   "pygments_lexer": "ipython3",
   "version": "3.8.5"
  }
 },
 "nbformat": 4,
 "nbformat_minor": 1
}
