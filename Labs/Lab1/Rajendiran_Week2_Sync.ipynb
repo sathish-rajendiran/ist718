{
 "cells": [
  {
   "cell_type": "code",
   "execution_count": 1,
   "metadata": {},
   "outputs": [
    {
     "data": {
      "text/plain": [
       "'/Users/sathishrajendiran/ist718-python/Labs/Lab1'"
      ]
     },
     "execution_count": 1,
     "metadata": {},
     "output_type": "execute_result"
    }
   ],
   "source": [
    "pwd"
   ]
  },
  {
   "cell_type": "markdown",
   "metadata": {},
   "source": [
    "*   Course: IST 718\n",
    "*   Authors: Sathish Kumar Rajediran\n",
    "*   Task: Week2 Sync\n",
    "*   Task Item: Best Salary Recommendation fo Syracuse Head Football Coach\n",
    "*   Date: April 19,2021"
   ]
  },
  {
   "cell_type": "markdown",
   "metadata": {},
   "source": [
    "## Objective\n",
    "This case study provides an opportunity to demonstrate our ability to combine datasets and produce meaningful analysis. Specifically, we would like to provide a decision maker with more than just data—we want to provide insights, understanding, and wisdom. This exercise allows the student an opportunity to demonstrate progress (or mastery) of learning objectives 1, 2, 3, 4, and 5.\n",
    "* 1) Obtain data and understand data structures and data elements.\n",
    "* 2) Scrub data using scripting methods, to include debugging, for data manipulation in R and other tools.\n",
    "* 3) Explore data using essential qualitative analysis techniques, including descriptive statistics.\n",
    "* 4) Model relationships between data using the appropriate analytical methodologies matched to the information and the needs of clients and users.\n",
    "* 5) Interpret the data, model, analysis, and findings, and communicate the results in a meaningful way."
   ]
  },
  {
   "cell_type": "markdown",
   "metadata": {},
   "source": [
    "## Instructions\n",
    " The research question is, how can we recommend the best salary (total compensation, minus bonus) for our next head football coach?\n",
    "* Start with the data Coaches.\n",
    "* Review the data—clean as appropriate.\n",
    "* Consider the base worksheet and the additional data.\n",
    "   * Stadium size\n",
    "   * Graduation rate:\n",
    "   * Available from http://fs.ncaa.org/Docs/newmedia/public/rates/index.html\n",
    "   * Use the 2006 cohort and include both GSR and FGR\n",
    "   * Annual donations to program (if available)\n",
    "* Develop an additional vector for each school using last year’s record.\n",
    "* Build a data frame for your analysis.\n",
    "* Conduct an initial data analysis.\n",
    "* Fit a regression model with the salary as the response and the relevant predictors (i.e., you will need more than one predictor).\n",
    "* Answer the following questions in your report:\n",
    "   * What is the recommended salary for the Syracuse football coach?\n",
    "   * What would his salary be if we were still in the Big East? What if we went to the Big Ten?\n",
    "   * What schools did we drop from our data, and why?\n",
    "   * What effect does graduation rate have on the projected salary?\n",
    "   * How good is our model?\n",
    "   * What is the single biggest impact on salary size?\n",
    "* Bonus:\n",
    "   * Develop a geographic visualization that in your view best depicts the conferences’ median salary.\n",
    "   * Fit a hierarchical model based on conference.\n",
    "* Double bonus:\n",
    "   * Using some additional materials—https://apsportal.ibm.com/analytics—recreate your code for the basic regression model with a training and test set, but do not use conference as a predictor.\n",
    "   \n",
    "## Additional Instructions\n",
    "* Don’t forget what you learned in your previous courses; do your own work, document any assistance, and use comments for clarity.\n",
    "\n",
    "## Submission Items\n",
    "* Case study report with data analysis, graphics, and answers to specific questions\n",
    "* Supporting notebook for the report—be sure to include comments regarding how you combined additional data into your analysis"
   ]
  },
  {
   "cell_type": "code",
   "execution_count": 2,
   "metadata": {},
   "outputs": [
    {
     "name": "stdout",
     "output_type": "stream",
     "text": [
      "Libraries imported successfully!\n",
      "\n"
     ]
    },
    {
     "data": {
      "text/plain": [
       "'/Users/sathishrajendiran/ist718-python/Labs/Lab1'"
      ]
     },
     "execution_count": 2,
     "metadata": {},
     "output_type": "execute_result"
    }
   ],
   "source": [
    "# ***********************************************************************************\n",
    "#      import libraries\n",
    "# ***********************************************************************************\n",
    "\n",
    "# standard library\n",
    "import os\n",
    "import sys\n",
    "from datetime import datetime\n",
    "import time\n",
    "import timeit\n",
    "\n",
    "\n",
    "# import packages for analysis and modeling\n",
    "import pandas as pd  # data frame operations\n",
    "\n",
    "import numpy as np  # arrays and math functions\n",
    "from scipy.stats import uniform  # for training-and-test split\n",
    "import statsmodels.api as sm  # statistical models (including regression)\n",
    "import statsmodels.formula.api as smf  # R-like model specification\n",
    "import matplotlib.pyplot as plt  # 2D plotting\n",
    "\n",
    "import seaborn as sns  # PROVIDES TRELLIS AND SMALL MULTIPLE PLOTTING\n",
    "\n",
    "\n",
    "\n",
    "print('Libraries imported successfully!\\n')\n",
    "\n",
    "os.getcwd()"
   ]
  },
  {
   "cell_type": "code",
   "execution_count": 3,
   "metadata": {},
   "outputs": [
    {
     "name": "stdout",
     "output_type": "stream",
     "text": [
      "Coaches9.csv           CollegeRecords.csv     Rajendiran_Lab1.ipynb\r\n",
      "CollegeRank.csv        GraduationRates.csv    Stadiums.csv\r\n"
     ]
    }
   ],
   "source": [
    "ls"
   ]
  },
  {
   "cell_type": "code",
   "execution_count": 4,
   "metadata": {},
   "outputs": [
    {
     "name": "stdout",
     "output_type": "stream",
     "text": [
      "Coaches data - Total Number of rows Processed:  129\n"
     ]
    }
   ],
   "source": [
    "# ***********************************************************************************\n",
    "#       Working with files  \n",
    "# ***********************************************************************************\n",
    "\n",
    "# Read the train and test tsv files from the corpus folder into dataframes\n",
    "\n",
    "# !pwd\n",
    "\n",
    "fpath = \"/Users/sathishrajendiran/ist718-python/Labs/Lab1/\"\n",
    "\n",
    "try: \n",
    "    Coaches = pd.read_csv(fpath + \"Coaches9.csv\")\n",
    "    print('Coaches data - Total Number of rows Processed: ',len(Coaches))\n",
    "except:\n",
    "    print(\"Is the file in correct directory?\")\n"
   ]
  },
  {
   "cell_type": "code",
   "execution_count": 5,
   "metadata": {},
   "outputs": [],
   "source": [
    "# Show all columns and do not truncate in the data frame\n",
    "pd.set_option('display.max_columns', None)\n",
    "pd.set_option('display.max_colwidth', None)"
   ]
  },
  {
   "cell_type": "code",
   "execution_count": 6,
   "metadata": {},
   "outputs": [
    {
     "name": "stdout",
     "output_type": "stream",
     "text": [
      "<class 'pandas.core.frame.DataFrame'>\n",
      "RangeIndex: 129 entries, 0 to 128\n",
      "Data columns (total 9 columns):\n",
      " #   Column        Non-Null Count  Dtype \n",
      "---  ------        --------------  ----- \n",
      " 0   School        129 non-null    object\n",
      " 1   Conference    129 non-null    object\n",
      " 2   Coach         129 non-null    object\n",
      " 3   SchoolPay     129 non-null    object\n",
      " 4   TotalPay      129 non-null    object\n",
      " 5   Bonus         129 non-null    object\n",
      " 6   BonusPaid     129 non-null    object\n",
      " 7   AssistantPay  129 non-null    object\n",
      " 8   Buyout        129 non-null    object\n",
      "dtypes: object(9)\n",
      "memory usage: 9.2+ KB\n",
      "None\n"
     ]
    }
   ],
   "source": [
    "print(Coaches.info())"
   ]
  },
  {
   "cell_type": "code",
   "execution_count": 7,
   "metadata": {},
   "outputs": [
    {
     "data": {
      "text/html": [
       "<div>\n",
       "<style scoped>\n",
       "    .dataframe tbody tr th:only-of-type {\n",
       "        vertical-align: middle;\n",
       "    }\n",
       "\n",
       "    .dataframe tbody tr th {\n",
       "        vertical-align: top;\n",
       "    }\n",
       "\n",
       "    .dataframe thead th {\n",
       "        text-align: right;\n",
       "    }\n",
       "</style>\n",
       "<table border=\"1\" class=\"dataframe\">\n",
       "  <thead>\n",
       "    <tr style=\"text-align: right;\">\n",
       "      <th></th>\n",
       "      <th>School</th>\n",
       "      <th>Conference</th>\n",
       "      <th>Coach</th>\n",
       "      <th>SchoolPay</th>\n",
       "      <th>TotalPay</th>\n",
       "      <th>Bonus</th>\n",
       "      <th>BonusPaid</th>\n",
       "      <th>AssistantPay</th>\n",
       "      <th>Buyout</th>\n",
       "    </tr>\n",
       "  </thead>\n",
       "  <tbody>\n",
       "    <tr>\n",
       "      <th>0</th>\n",
       "      <td>Air Force</td>\n",
       "      <td>Mt. West</td>\n",
       "      <td>Troy Calhoun</td>\n",
       "      <td>885000</td>\n",
       "      <td>885000</td>\n",
       "      <td>247000</td>\n",
       "      <td>--</td>\n",
       "      <td>$0</td>\n",
       "      <td>--</td>\n",
       "    </tr>\n",
       "    <tr>\n",
       "      <th>1</th>\n",
       "      <td>Akron</td>\n",
       "      <td>MAC</td>\n",
       "      <td>Terry Bowden</td>\n",
       "      <td>$411,000</td>\n",
       "      <td>$412,500</td>\n",
       "      <td>$225,000</td>\n",
       "      <td>$50,000</td>\n",
       "      <td>$0</td>\n",
       "      <td>$688,500</td>\n",
       "    </tr>\n",
       "    <tr>\n",
       "      <th>2</th>\n",
       "      <td>Alabama</td>\n",
       "      <td>SEC</td>\n",
       "      <td>Nick Saban</td>\n",
       "      <td>$8,307,000</td>\n",
       "      <td>$8,307,000</td>\n",
       "      <td>$1,100,000</td>\n",
       "      <td>$500,000</td>\n",
       "      <td>$0</td>\n",
       "      <td>$33,600,000</td>\n",
       "    </tr>\n",
       "    <tr>\n",
       "      <th>3</th>\n",
       "      <td>Alabama at Birmingham</td>\n",
       "      <td>C-USA</td>\n",
       "      <td>Bill Clark</td>\n",
       "      <td>$900,000</td>\n",
       "      <td>$900,000</td>\n",
       "      <td>$950,000</td>\n",
       "      <td>$165,471</td>\n",
       "      <td>$0</td>\n",
       "      <td>$3,847,500</td>\n",
       "    </tr>\n",
       "    <tr>\n",
       "      <th>4</th>\n",
       "      <td>Appalachian State</td>\n",
       "      <td>Sun Belt</td>\n",
       "      <td>Scott Satterfield</td>\n",
       "      <td>$712,500</td>\n",
       "      <td>$712,500</td>\n",
       "      <td>$295,000</td>\n",
       "      <td>$145,000</td>\n",
       "      <td>$0</td>\n",
       "      <td>$2,160,417</td>\n",
       "    </tr>\n",
       "  </tbody>\n",
       "</table>\n",
       "</div>"
      ],
      "text/plain": [
       "                  School Conference              Coach    SchoolPay  \\\n",
       "0              Air Force   Mt. West       Troy Calhoun       885000   \n",
       "1                  Akron        MAC       Terry Bowden    $411,000    \n",
       "2                Alabama        SEC         Nick Saban  $8,307,000    \n",
       "3  Alabama at Birmingham      C-USA         Bill Clark    $900,000    \n",
       "4      Appalachian State   Sun Belt  Scott Satterfield    $712,500    \n",
       "\n",
       "      TotalPay        Bonus  BonusPaid AssistantPay        Buyout  \n",
       "0       885000       247000         --          $0             --  \n",
       "1    $412,500     $225,000    $50,000           $0      $688,500   \n",
       "2  $8,307,000   $1,100,000   $500,000           $0   $33,600,000   \n",
       "3    $900,000     $950,000   $165,471           $0    $3,847,500   \n",
       "4    $712,500     $295,000   $145,000           $0    $2,160,417   "
      ]
     },
     "execution_count": 7,
     "metadata": {},
     "output_type": "execute_result"
    }
   ],
   "source": [
    "Coaches.head()"
   ]
  },
  {
   "cell_type": "code",
   "execution_count": 8,
   "metadata": {},
   "outputs": [],
   "source": [
    "# pd.set_option('display.float_format',lambda x: '%.2f' % x)\n",
    "# pd.reset_option('display.float_format')"
   ]
  },
  {
   "cell_type": "code",
   "execution_count": 9,
   "metadata": {},
   "outputs": [
    {
     "data": {
      "text/html": [
       "<div>\n",
       "<style scoped>\n",
       "    .dataframe tbody tr th:only-of-type {\n",
       "        vertical-align: middle;\n",
       "    }\n",
       "\n",
       "    .dataframe tbody tr th {\n",
       "        vertical-align: top;\n",
       "    }\n",
       "\n",
       "    .dataframe thead th {\n",
       "        text-align: right;\n",
       "    }\n",
       "</style>\n",
       "<table border=\"1\" class=\"dataframe\">\n",
       "  <thead>\n",
       "    <tr style=\"text-align: right;\">\n",
       "      <th></th>\n",
       "      <th>School</th>\n",
       "      <th>Conference</th>\n",
       "      <th>Coach</th>\n",
       "      <th>SchoolPay</th>\n",
       "      <th>TotalPay</th>\n",
       "      <th>Bonus</th>\n",
       "      <th>BonusPaid</th>\n",
       "      <th>AssistantPay</th>\n",
       "      <th>Buyout</th>\n",
       "    </tr>\n",
       "  </thead>\n",
       "  <tbody>\n",
       "    <tr>\n",
       "      <th>count</th>\n",
       "      <td>129</td>\n",
       "      <td>129</td>\n",
       "      <td>129</td>\n",
       "      <td>129</td>\n",
       "      <td>129</td>\n",
       "      <td>129</td>\n",
       "      <td>129</td>\n",
       "      <td>129</td>\n",
       "      <td>129</td>\n",
       "    </tr>\n",
       "    <tr>\n",
       "      <th>unique</th>\n",
       "      <td>129</td>\n",
       "      <td>11</td>\n",
       "      <td>129</td>\n",
       "      <td>104</td>\n",
       "      <td>105</td>\n",
       "      <td>85</td>\n",
       "      <td>51</td>\n",
       "      <td>1</td>\n",
       "      <td>102</td>\n",
       "    </tr>\n",
       "    <tr>\n",
       "      <th>top</th>\n",
       "      <td>Kansas</td>\n",
       "      <td>SEC</td>\n",
       "      <td>Dino Babers</td>\n",
       "      <td>$3,500,000</td>\n",
       "      <td>$3,500,000</td>\n",
       "      <td>--</td>\n",
       "      <td>--</td>\n",
       "      <td>$0</td>\n",
       "      <td>--</td>\n",
       "    </tr>\n",
       "    <tr>\n",
       "      <th>freq</th>\n",
       "      <td>1</td>\n",
       "      <td>14</td>\n",
       "      <td>1</td>\n",
       "      <td>5</td>\n",
       "      <td>5</td>\n",
       "      <td>22</td>\n",
       "      <td>41</td>\n",
       "      <td>129</td>\n",
       "      <td>22</td>\n",
       "    </tr>\n",
       "  </tbody>\n",
       "</table>\n",
       "</div>"
      ],
      "text/plain": [
       "        School Conference        Coach    SchoolPay     TotalPay Bonus  \\\n",
       "count      129        129          129          129          129   129   \n",
       "unique     129         11          129          104          105    85   \n",
       "top     Kansas        SEC  Dino Babers  $3,500,000   $3,500,000     --   \n",
       "freq         1         14            1            5            5    22   \n",
       "\n",
       "       BonusPaid AssistantPay Buyout  \n",
       "count        129          129    129  \n",
       "unique        51            1    102  \n",
       "top           --          $0      --  \n",
       "freq          41          129     22  "
      ]
     },
     "execution_count": 9,
     "metadata": {},
     "output_type": "execute_result"
    }
   ],
   "source": [
    "# summary statistics\n",
    "summary = Coaches.describe()\n",
    "summary.head()"
   ]
  },
  {
   "cell_type": "code",
   "execution_count": 10,
   "metadata": {},
   "outputs": [
    {
     "data": {
      "text/plain": [
       "School          0\n",
       "Conference      0\n",
       "Coach           0\n",
       "SchoolPay       0\n",
       "TotalPay        0\n",
       "Bonus           0\n",
       "BonusPaid       0\n",
       "AssistantPay    0\n",
       "Buyout          0\n",
       "dtype: int64"
      ]
     },
     "execution_count": 10,
     "metadata": {},
     "output_type": "execute_result"
    }
   ],
   "source": [
    "# confirm there are no NULL values in the dataset\n",
    "pd.isnull(Coaches).sum()"
   ]
  },
  {
   "cell_type": "code",
   "execution_count": 11,
   "metadata": {},
   "outputs": [],
   "source": [
    "#drop SchoolPay as its a almost same as TotalPay column\n",
    "Coaches.drop(\"SchoolPay\",axis=1,inplace=True)\n",
    "Coaches.drop(\"AssistantPay\",axis=1,inplace=True)\n",
    "Coaches.drop(\"BonusPaid\",axis=1,inplace=True)"
   ]
  },
  {
   "cell_type": "code",
   "execution_count": 12,
   "metadata": {},
   "outputs": [
    {
     "data": {
      "text/html": [
       "<div>\n",
       "<style scoped>\n",
       "    .dataframe tbody tr th:only-of-type {\n",
       "        vertical-align: middle;\n",
       "    }\n",
       "\n",
       "    .dataframe tbody tr th {\n",
       "        vertical-align: top;\n",
       "    }\n",
       "\n",
       "    .dataframe thead th {\n",
       "        text-align: right;\n",
       "    }\n",
       "</style>\n",
       "<table border=\"1\" class=\"dataframe\">\n",
       "  <thead>\n",
       "    <tr style=\"text-align: right;\">\n",
       "      <th></th>\n",
       "      <th>School</th>\n",
       "      <th>Conference</th>\n",
       "      <th>Coach</th>\n",
       "      <th>TotalPay</th>\n",
       "      <th>Bonus</th>\n",
       "      <th>Buyout</th>\n",
       "    </tr>\n",
       "  </thead>\n",
       "  <tbody>\n",
       "    <tr>\n",
       "      <th>count</th>\n",
       "      <td>129</td>\n",
       "      <td>129</td>\n",
       "      <td>129</td>\n",
       "      <td>129</td>\n",
       "      <td>129</td>\n",
       "      <td>129</td>\n",
       "    </tr>\n",
       "    <tr>\n",
       "      <th>unique</th>\n",
       "      <td>129</td>\n",
       "      <td>11</td>\n",
       "      <td>129</td>\n",
       "      <td>105</td>\n",
       "      <td>85</td>\n",
       "      <td>102</td>\n",
       "    </tr>\n",
       "    <tr>\n",
       "      <th>top</th>\n",
       "      <td>Kansas</td>\n",
       "      <td>SEC</td>\n",
       "      <td>Dino Babers</td>\n",
       "      <td>$3,500,000</td>\n",
       "      <td>--</td>\n",
       "      <td>--</td>\n",
       "    </tr>\n",
       "    <tr>\n",
       "      <th>freq</th>\n",
       "      <td>1</td>\n",
       "      <td>14</td>\n",
       "      <td>1</td>\n",
       "      <td>5</td>\n",
       "      <td>22</td>\n",
       "      <td>22</td>\n",
       "    </tr>\n",
       "  </tbody>\n",
       "</table>\n",
       "</div>"
      ],
      "text/plain": [
       "        School Conference        Coach     TotalPay Bonus Buyout\n",
       "count      129        129          129          129   129    129\n",
       "unique     129         11          129          105    85    102\n",
       "top     Kansas        SEC  Dino Babers  $3,500,000     --     --\n",
       "freq         1         14            1            5    22     22"
      ]
     },
     "execution_count": 12,
     "metadata": {},
     "output_type": "execute_result"
    }
   ],
   "source": [
    "# summary statistics\n",
    "summary = Coaches.describe()\n",
    "summary.head()"
   ]
  },
  {
   "cell_type": "code",
   "execution_count": 13,
   "metadata": {},
   "outputs": [
    {
     "data": {
      "text/html": [
       "<div>\n",
       "<style scoped>\n",
       "    .dataframe tbody tr th:only-of-type {\n",
       "        vertical-align: middle;\n",
       "    }\n",
       "\n",
       "    .dataframe tbody tr th {\n",
       "        vertical-align: top;\n",
       "    }\n",
       "\n",
       "    .dataframe thead th {\n",
       "        text-align: right;\n",
       "    }\n",
       "</style>\n",
       "<table border=\"1\" class=\"dataframe\">\n",
       "  <thead>\n",
       "    <tr style=\"text-align: right;\">\n",
       "      <th></th>\n",
       "      <th>School</th>\n",
       "      <th>Conference</th>\n",
       "      <th>Coach</th>\n",
       "      <th>TotalPay</th>\n",
       "      <th>Bonus</th>\n",
       "      <th>Buyout</th>\n",
       "    </tr>\n",
       "  </thead>\n",
       "  <tbody>\n",
       "    <tr>\n",
       "      <th>0</th>\n",
       "      <td>Air Force</td>\n",
       "      <td>Mt. West</td>\n",
       "      <td>Troy Calhoun</td>\n",
       "      <td>885000</td>\n",
       "      <td>247000</td>\n",
       "      <td>--</td>\n",
       "    </tr>\n",
       "    <tr>\n",
       "      <th>1</th>\n",
       "      <td>Akron</td>\n",
       "      <td>MAC</td>\n",
       "      <td>Terry Bowden</td>\n",
       "      <td>$412,500</td>\n",
       "      <td>$225,000</td>\n",
       "      <td>$688,500</td>\n",
       "    </tr>\n",
       "    <tr>\n",
       "      <th>2</th>\n",
       "      <td>Alabama</td>\n",
       "      <td>SEC</td>\n",
       "      <td>Nick Saban</td>\n",
       "      <td>$8,307,000</td>\n",
       "      <td>$1,100,000</td>\n",
       "      <td>$33,600,000</td>\n",
       "    </tr>\n",
       "    <tr>\n",
       "      <th>3</th>\n",
       "      <td>Alabama at Birmingham</td>\n",
       "      <td>C-USA</td>\n",
       "      <td>Bill Clark</td>\n",
       "      <td>$900,000</td>\n",
       "      <td>$950,000</td>\n",
       "      <td>$3,847,500</td>\n",
       "    </tr>\n",
       "    <tr>\n",
       "      <th>4</th>\n",
       "      <td>Appalachian State</td>\n",
       "      <td>Sun Belt</td>\n",
       "      <td>Scott Satterfield</td>\n",
       "      <td>$712,500</td>\n",
       "      <td>$295,000</td>\n",
       "      <td>$2,160,417</td>\n",
       "    </tr>\n",
       "  </tbody>\n",
       "</table>\n",
       "</div>"
      ],
      "text/plain": [
       "                  School Conference              Coach     TotalPay  \\\n",
       "0              Air Force   Mt. West       Troy Calhoun       885000   \n",
       "1                  Akron        MAC       Terry Bowden    $412,500    \n",
       "2                Alabama        SEC         Nick Saban  $8,307,000    \n",
       "3  Alabama at Birmingham      C-USA         Bill Clark    $900,000    \n",
       "4      Appalachian State   Sun Belt  Scott Satterfield    $712,500    \n",
       "\n",
       "         Bonus        Buyout  \n",
       "0       247000            --  \n",
       "1    $225,000      $688,500   \n",
       "2  $1,100,000   $33,600,000   \n",
       "3    $950,000    $3,847,500   \n",
       "4    $295,000    $2,160,417   "
      ]
     },
     "execution_count": 13,
     "metadata": {},
     "output_type": "execute_result"
    }
   ],
   "source": [
    "Coaches.head()"
   ]
  },
  {
   "cell_type": "code",
   "execution_count": 14,
   "metadata": {},
   "outputs": [],
   "source": [
    "# function to clean currency values\n",
    "def clean_currency(x):\n",
    "    \"\"\" If the value is a string, then remove currency symbol and delimiters\n",
    "    otherwise, the value is numeric and can be converted\n",
    "    \"\"\"\n",
    "    if isinstance(x, str):\n",
    "        return(x.replace('$', '').replace(',', '').replace('--', '0'))\n",
    "    return(x)"
   ]
  },
  {
   "cell_type": "code",
   "execution_count": 15,
   "metadata": {},
   "outputs": [],
   "source": [
    "#clean currency values\n",
    "Coaches[\"TotalPay\"] = Coaches[\"TotalPay\"].apply(clean_currency).astype('float')\n",
    "Coaches[\"Bonus\"] = Coaches[\"Bonus\"].apply(clean_currency).astype('float')\n",
    "# Coaches[\"BonusPaid\"] = Coaches[\"BonusPaid\"].apply(clean_currency).astype('float')\n",
    "Coaches[\"Buyout\"] = Coaches[\"Buyout\"].apply(clean_currency).astype('float')"
   ]
  },
  {
   "cell_type": "code",
   "execution_count": 16,
   "metadata": {},
   "outputs": [
    {
     "data": {
      "text/html": [
       "<div>\n",
       "<style scoped>\n",
       "    .dataframe tbody tr th:only-of-type {\n",
       "        vertical-align: middle;\n",
       "    }\n",
       "\n",
       "    .dataframe tbody tr th {\n",
       "        vertical-align: top;\n",
       "    }\n",
       "\n",
       "    .dataframe thead th {\n",
       "        text-align: right;\n",
       "    }\n",
       "</style>\n",
       "<table border=\"1\" class=\"dataframe\">\n",
       "  <thead>\n",
       "    <tr style=\"text-align: right;\">\n",
       "      <th></th>\n",
       "      <th>School</th>\n",
       "      <th>Conference</th>\n",
       "      <th>Coach</th>\n",
       "      <th>TotalPay</th>\n",
       "      <th>Bonus</th>\n",
       "      <th>Buyout</th>\n",
       "    </tr>\n",
       "  </thead>\n",
       "  <tbody>\n",
       "    <tr>\n",
       "      <th>0</th>\n",
       "      <td>Air Force</td>\n",
       "      <td>Mt. West</td>\n",
       "      <td>Troy Calhoun</td>\n",
       "      <td>885000.0</td>\n",
       "      <td>247000.0</td>\n",
       "      <td>0.0</td>\n",
       "    </tr>\n",
       "    <tr>\n",
       "      <th>9</th>\n",
       "      <td>Army</td>\n",
       "      <td>Ind.</td>\n",
       "      <td>Jeff Monken</td>\n",
       "      <td>932521.0</td>\n",
       "      <td>0.0</td>\n",
       "      <td>0.0</td>\n",
       "    </tr>\n",
       "    <tr>\n",
       "      <th>12</th>\n",
       "      <td>Baylor</td>\n",
       "      <td>Big 12</td>\n",
       "      <td>Matt Rhule</td>\n",
       "      <td>0.0</td>\n",
       "      <td>0.0</td>\n",
       "      <td>0.0</td>\n",
       "    </tr>\n",
       "    <tr>\n",
       "      <th>14</th>\n",
       "      <td>Boston College</td>\n",
       "      <td>ACC</td>\n",
       "      <td>Steve Addazio</td>\n",
       "      <td>2514859.0</td>\n",
       "      <td>0.0</td>\n",
       "      <td>0.0</td>\n",
       "    </tr>\n",
       "    <tr>\n",
       "      <th>16</th>\n",
       "      <td>Brigham Young</td>\n",
       "      <td>Ind.</td>\n",
       "      <td>Kalani Sitake</td>\n",
       "      <td>0.0</td>\n",
       "      <td>0.0</td>\n",
       "      <td>0.0</td>\n",
       "    </tr>\n",
       "    <tr>\n",
       "      <th>28</th>\n",
       "      <td>Duke</td>\n",
       "      <td>ACC</td>\n",
       "      <td>David Cutcliffe</td>\n",
       "      <td>2540928.0</td>\n",
       "      <td>0.0</td>\n",
       "      <td>0.0</td>\n",
       "    </tr>\n",
       "    <tr>\n",
       "      <th>50</th>\n",
       "      <td>Liberty</td>\n",
       "      <td>Ind.</td>\n",
       "      <td>Turner Gill</td>\n",
       "      <td>947281.0</td>\n",
       "      <td>0.0</td>\n",
       "      <td>0.0</td>\n",
       "    </tr>\n",
       "    <tr>\n",
       "      <th>60</th>\n",
       "      <td>Miami (Fla.)</td>\n",
       "      <td>ACC</td>\n",
       "      <td>Mark Richt</td>\n",
       "      <td>4058061.0</td>\n",
       "      <td>0.0</td>\n",
       "      <td>0.0</td>\n",
       "    </tr>\n",
       "    <tr>\n",
       "      <th>66</th>\n",
       "      <td>Mississippi</td>\n",
       "      <td>SEC</td>\n",
       "      <td>Matt Luke</td>\n",
       "      <td>3000000.0</td>\n",
       "      <td>1550000.0</td>\n",
       "      <td>0.0</td>\n",
       "    </tr>\n",
       "    <tr>\n",
       "      <th>67</th>\n",
       "      <td>Mississippi State</td>\n",
       "      <td>SEC</td>\n",
       "      <td>Joe Moorhead</td>\n",
       "      <td>2600000.0</td>\n",
       "      <td>1350000.0</td>\n",
       "      <td>0.0</td>\n",
       "    </tr>\n",
       "    <tr>\n",
       "      <th>69</th>\n",
       "      <td>Navy</td>\n",
       "      <td>AAC</td>\n",
       "      <td>Ken Niumatalolo</td>\n",
       "      <td>2163000.0</td>\n",
       "      <td>0.0</td>\n",
       "      <td>0.0</td>\n",
       "    </tr>\n",
       "    <tr>\n",
       "      <th>79</th>\n",
       "      <td>Northwestern</td>\n",
       "      <td>Big Ten</td>\n",
       "      <td>Pat Fitzgerald</td>\n",
       "      <td>3619775.0</td>\n",
       "      <td>0.0</td>\n",
       "      <td>0.0</td>\n",
       "    </tr>\n",
       "    <tr>\n",
       "      <th>80</th>\n",
       "      <td>Notre Dame</td>\n",
       "      <td>Ind.</td>\n",
       "      <td>Brian Kelly</td>\n",
       "      <td>2129638.0</td>\n",
       "      <td>0.0</td>\n",
       "      <td>0.0</td>\n",
       "    </tr>\n",
       "    <tr>\n",
       "      <th>89</th>\n",
       "      <td>Pittsburgh</td>\n",
       "      <td>ACC</td>\n",
       "      <td>Pat Narduzzi</td>\n",
       "      <td>3017718.0</td>\n",
       "      <td>0.0</td>\n",
       "      <td>0.0</td>\n",
       "    </tr>\n",
       "    <tr>\n",
       "      <th>91</th>\n",
       "      <td>Rice</td>\n",
       "      <td>C-USA</td>\n",
       "      <td>Mike Bloomgren</td>\n",
       "      <td>0.0</td>\n",
       "      <td>0.0</td>\n",
       "      <td>0.0</td>\n",
       "    </tr>\n",
       "    <tr>\n",
       "      <th>98</th>\n",
       "      <td>Southern California</td>\n",
       "      <td>Pac-12</td>\n",
       "      <td>Clay Helton</td>\n",
       "      <td>2625965.0</td>\n",
       "      <td>0.0</td>\n",
       "      <td>0.0</td>\n",
       "    </tr>\n",
       "    <tr>\n",
       "      <th>99</th>\n",
       "      <td>Southern Methodist</td>\n",
       "      <td>AAC</td>\n",
       "      <td>Sonny Dykes</td>\n",
       "      <td>0.0</td>\n",
       "      <td>0.0</td>\n",
       "      <td>0.0</td>\n",
       "    </tr>\n",
       "    <tr>\n",
       "      <th>101</th>\n",
       "      <td>Stanford</td>\n",
       "      <td>Pac-12</td>\n",
       "      <td>David Shaw</td>\n",
       "      <td>4311543.0</td>\n",
       "      <td>0.0</td>\n",
       "      <td>0.0</td>\n",
       "    </tr>\n",
       "    <tr>\n",
       "      <th>102</th>\n",
       "      <td>Syracuse</td>\n",
       "      <td>ACC</td>\n",
       "      <td>Dino Babers</td>\n",
       "      <td>2401206.0</td>\n",
       "      <td>0.0</td>\n",
       "      <td>0.0</td>\n",
       "    </tr>\n",
       "    <tr>\n",
       "      <th>106</th>\n",
       "      <td>Texas Christian</td>\n",
       "      <td>Big 12</td>\n",
       "      <td>Gary Patterson</td>\n",
       "      <td>4840717.0</td>\n",
       "      <td>0.0</td>\n",
       "      <td>0.0</td>\n",
       "    </tr>\n",
       "    <tr>\n",
       "      <th>113</th>\n",
       "      <td>Tulane</td>\n",
       "      <td>AAC</td>\n",
       "      <td>Willie Fritz</td>\n",
       "      <td>1629000.0</td>\n",
       "      <td>0.0</td>\n",
       "      <td>0.0</td>\n",
       "    </tr>\n",
       "    <tr>\n",
       "      <th>114</th>\n",
       "      <td>Tulsa</td>\n",
       "      <td>AAC</td>\n",
       "      <td>Philip Montgomery</td>\n",
       "      <td>1518177.0</td>\n",
       "      <td>0.0</td>\n",
       "      <td>0.0</td>\n",
       "    </tr>\n",
       "    <tr>\n",
       "      <th>118</th>\n",
       "      <td>Vanderbilt</td>\n",
       "      <td>SEC</td>\n",
       "      <td>Derek Mason</td>\n",
       "      <td>2812523.0</td>\n",
       "      <td>0.0</td>\n",
       "      <td>0.0</td>\n",
       "    </tr>\n",
       "    <tr>\n",
       "      <th>121</th>\n",
       "      <td>Wake Forest</td>\n",
       "      <td>ACC</td>\n",
       "      <td>Dave Clawson</td>\n",
       "      <td>1831580.0</td>\n",
       "      <td>0.0</td>\n",
       "      <td>0.0</td>\n",
       "    </tr>\n",
       "    <tr>\n",
       "      <th>127</th>\n",
       "      <td>Wisconsin</td>\n",
       "      <td>Big Ten</td>\n",
       "      <td>Paul Chryst</td>\n",
       "      <td>3750000.0</td>\n",
       "      <td>0.0</td>\n",
       "      <td>6000000.0</td>\n",
       "    </tr>\n",
       "  </tbody>\n",
       "</table>\n",
       "</div>"
      ],
      "text/plain": [
       "                  School Conference              Coach   TotalPay      Bonus  \\\n",
       "0              Air Force   Mt. West       Troy Calhoun   885000.0   247000.0   \n",
       "9                   Army       Ind.        Jeff Monken   932521.0        0.0   \n",
       "12                Baylor     Big 12         Matt Rhule        0.0        0.0   \n",
       "14        Boston College        ACC      Steve Addazio  2514859.0        0.0   \n",
       "16         Brigham Young       Ind.      Kalani Sitake        0.0        0.0   \n",
       "28                  Duke        ACC    David Cutcliffe  2540928.0        0.0   \n",
       "50               Liberty       Ind.        Turner Gill   947281.0        0.0   \n",
       "60          Miami (Fla.)        ACC         Mark Richt  4058061.0        0.0   \n",
       "66           Mississippi        SEC          Matt Luke  3000000.0  1550000.0   \n",
       "67     Mississippi State        SEC       Joe Moorhead  2600000.0  1350000.0   \n",
       "69                  Navy        AAC    Ken Niumatalolo  2163000.0        0.0   \n",
       "79          Northwestern    Big Ten     Pat Fitzgerald  3619775.0        0.0   \n",
       "80            Notre Dame       Ind.        Brian Kelly  2129638.0        0.0   \n",
       "89            Pittsburgh        ACC       Pat Narduzzi  3017718.0        0.0   \n",
       "91                  Rice      C-USA     Mike Bloomgren        0.0        0.0   \n",
       "98   Southern California     Pac-12        Clay Helton  2625965.0        0.0   \n",
       "99    Southern Methodist        AAC        Sonny Dykes        0.0        0.0   \n",
       "101             Stanford     Pac-12         David Shaw  4311543.0        0.0   \n",
       "102             Syracuse        ACC        Dino Babers  2401206.0        0.0   \n",
       "106      Texas Christian     Big 12     Gary Patterson  4840717.0        0.0   \n",
       "113               Tulane        AAC       Willie Fritz  1629000.0        0.0   \n",
       "114                Tulsa        AAC  Philip Montgomery  1518177.0        0.0   \n",
       "118           Vanderbilt        SEC        Derek Mason  2812523.0        0.0   \n",
       "121          Wake Forest        ACC       Dave Clawson  1831580.0        0.0   \n",
       "127            Wisconsin    Big Ten        Paul Chryst  3750000.0        0.0   \n",
       "\n",
       "        Buyout  \n",
       "0          0.0  \n",
       "9          0.0  \n",
       "12         0.0  \n",
       "14         0.0  \n",
       "16         0.0  \n",
       "28         0.0  \n",
       "50         0.0  \n",
       "60         0.0  \n",
       "66         0.0  \n",
       "67         0.0  \n",
       "69         0.0  \n",
       "79         0.0  \n",
       "80         0.0  \n",
       "89         0.0  \n",
       "91         0.0  \n",
       "98         0.0  \n",
       "99         0.0  \n",
       "101        0.0  \n",
       "102        0.0  \n",
       "106        0.0  \n",
       "113        0.0  \n",
       "114        0.0  \n",
       "118        0.0  \n",
       "121        0.0  \n",
       "127  6000000.0  "
      ]
     },
     "execution_count": 16,
     "metadata": {},
     "output_type": "execute_result"
    }
   ],
   "source": [
    "#display any columns with value as 0\n",
    "Coaches.loc[(Coaches==0).any(axis=1)]"
   ]
  },
  {
   "cell_type": "code",
   "execution_count": 17,
   "metadata": {},
   "outputs": [
    {
     "data": {
      "text/html": [
       "<div>\n",
       "<style scoped>\n",
       "    .dataframe tbody tr th:only-of-type {\n",
       "        vertical-align: middle;\n",
       "    }\n",
       "\n",
       "    .dataframe tbody tr th {\n",
       "        vertical-align: top;\n",
       "    }\n",
       "\n",
       "    .dataframe thead th {\n",
       "        text-align: right;\n",
       "    }\n",
       "</style>\n",
       "<table border=\"1\" class=\"dataframe\">\n",
       "  <thead>\n",
       "    <tr style=\"text-align: right;\">\n",
       "      <th></th>\n",
       "      <th>School</th>\n",
       "      <th>Conference</th>\n",
       "      <th>Coach</th>\n",
       "      <th>TotalPay</th>\n",
       "      <th>Bonus</th>\n",
       "      <th>Buyout</th>\n",
       "    </tr>\n",
       "  </thead>\n",
       "  <tbody>\n",
       "    <tr>\n",
       "      <th>12</th>\n",
       "      <td>Baylor</td>\n",
       "      <td>Big 12</td>\n",
       "      <td>Matt Rhule</td>\n",
       "      <td>0.0</td>\n",
       "      <td>0.0</td>\n",
       "      <td>0.0</td>\n",
       "    </tr>\n",
       "    <tr>\n",
       "      <th>16</th>\n",
       "      <td>Brigham Young</td>\n",
       "      <td>Ind.</td>\n",
       "      <td>Kalani Sitake</td>\n",
       "      <td>0.0</td>\n",
       "      <td>0.0</td>\n",
       "      <td>0.0</td>\n",
       "    </tr>\n",
       "    <tr>\n",
       "      <th>91</th>\n",
       "      <td>Rice</td>\n",
       "      <td>C-USA</td>\n",
       "      <td>Mike Bloomgren</td>\n",
       "      <td>0.0</td>\n",
       "      <td>0.0</td>\n",
       "      <td>0.0</td>\n",
       "    </tr>\n",
       "    <tr>\n",
       "      <th>99</th>\n",
       "      <td>Southern Methodist</td>\n",
       "      <td>AAC</td>\n",
       "      <td>Sonny Dykes</td>\n",
       "      <td>0.0</td>\n",
       "      <td>0.0</td>\n",
       "      <td>0.0</td>\n",
       "    </tr>\n",
       "  </tbody>\n",
       "</table>\n",
       "</div>"
      ],
      "text/plain": [
       "                School Conference           Coach  TotalPay  Bonus  Buyout\n",
       "12              Baylor     Big 12      Matt Rhule       0.0    0.0     0.0\n",
       "16       Brigham Young       Ind.   Kalani Sitake       0.0    0.0     0.0\n",
       "91                Rice      C-USA  Mike Bloomgren       0.0    0.0     0.0\n",
       "99  Southern Methodist        AAC     Sonny Dykes       0.0    0.0     0.0"
      ]
     },
     "execution_count": 17,
     "metadata": {},
     "output_type": "execute_result"
    }
   ],
   "source": [
    "#display all columns with value as 0\n",
    "Coaches[(Coaches.sum(axis=1)==0)]"
   ]
  },
  {
   "cell_type": "code",
   "execution_count": 18,
   "metadata": {},
   "outputs": [],
   "source": [
    "#remove rows with all columns having 0 values\n",
    "\n",
    "Coaches = Coaches[(Coaches.sum(axis=1)!=0)]\n"
   ]
  },
  {
   "cell_type": "code",
   "execution_count": 19,
   "metadata": {},
   "outputs": [
    {
     "data": {
      "text/html": [
       "<div>\n",
       "<style scoped>\n",
       "    .dataframe tbody tr th:only-of-type {\n",
       "        vertical-align: middle;\n",
       "    }\n",
       "\n",
       "    .dataframe tbody tr th {\n",
       "        vertical-align: top;\n",
       "    }\n",
       "\n",
       "    .dataframe thead th {\n",
       "        text-align: right;\n",
       "    }\n",
       "</style>\n",
       "<table border=\"1\" class=\"dataframe\">\n",
       "  <thead>\n",
       "    <tr style=\"text-align: right;\">\n",
       "      <th></th>\n",
       "      <th>School</th>\n",
       "      <th>Conference</th>\n",
       "      <th>Coach</th>\n",
       "      <th>TotalPay</th>\n",
       "      <th>Bonus</th>\n",
       "      <th>Buyout</th>\n",
       "    </tr>\n",
       "  </thead>\n",
       "  <tbody>\n",
       "    <tr>\n",
       "      <th>0</th>\n",
       "      <td>Air Force</td>\n",
       "      <td>Mt. West</td>\n",
       "      <td>Troy Calhoun</td>\n",
       "      <td>885000.0</td>\n",
       "      <td>247000.0</td>\n",
       "      <td>0.0</td>\n",
       "    </tr>\n",
       "    <tr>\n",
       "      <th>1</th>\n",
       "      <td>Akron</td>\n",
       "      <td>MAC</td>\n",
       "      <td>Terry Bowden</td>\n",
       "      <td>412500.0</td>\n",
       "      <td>225000.0</td>\n",
       "      <td>688500.0</td>\n",
       "    </tr>\n",
       "    <tr>\n",
       "      <th>2</th>\n",
       "      <td>Alabama</td>\n",
       "      <td>SEC</td>\n",
       "      <td>Nick Saban</td>\n",
       "      <td>8307000.0</td>\n",
       "      <td>1100000.0</td>\n",
       "      <td>33600000.0</td>\n",
       "    </tr>\n",
       "    <tr>\n",
       "      <th>3</th>\n",
       "      <td>Alabama at Birmingham</td>\n",
       "      <td>C-USA</td>\n",
       "      <td>Bill Clark</td>\n",
       "      <td>900000.0</td>\n",
       "      <td>950000.0</td>\n",
       "      <td>3847500.0</td>\n",
       "    </tr>\n",
       "    <tr>\n",
       "      <th>4</th>\n",
       "      <td>Appalachian State</td>\n",
       "      <td>Sun Belt</td>\n",
       "      <td>Scott Satterfield</td>\n",
       "      <td>712500.0</td>\n",
       "      <td>295000.0</td>\n",
       "      <td>2160417.0</td>\n",
       "    </tr>\n",
       "  </tbody>\n",
       "</table>\n",
       "</div>"
      ],
      "text/plain": [
       "                  School Conference              Coach   TotalPay      Bonus  \\\n",
       "0              Air Force   Mt. West       Troy Calhoun   885000.0   247000.0   \n",
       "1                  Akron        MAC       Terry Bowden   412500.0   225000.0   \n",
       "2                Alabama        SEC         Nick Saban  8307000.0  1100000.0   \n",
       "3  Alabama at Birmingham      C-USA         Bill Clark   900000.0   950000.0   \n",
       "4      Appalachian State   Sun Belt  Scott Satterfield   712500.0   295000.0   \n",
       "\n",
       "       Buyout  \n",
       "0         0.0  \n",
       "1    688500.0  \n",
       "2  33600000.0  \n",
       "3   3847500.0  \n",
       "4   2160417.0  "
      ]
     },
     "execution_count": 19,
     "metadata": {},
     "output_type": "execute_result"
    }
   ],
   "source": [
    "Coaches.head()"
   ]
  },
  {
   "cell_type": "code",
   "execution_count": 20,
   "metadata": {},
   "outputs": [
    {
     "name": "stdout",
     "output_type": "stream",
     "text": [
      "<class 'pandas.core.frame.DataFrame'>\n",
      "Int64Index: 125 entries, 0 to 128\n",
      "Data columns (total 6 columns):\n",
      " #   Column      Non-Null Count  Dtype  \n",
      "---  ------      --------------  -----  \n",
      " 0   School      125 non-null    object \n",
      " 1   Conference  125 non-null    object \n",
      " 2   Coach       125 non-null    object \n",
      " 3   TotalPay    125 non-null    float64\n",
      " 4   Bonus       125 non-null    float64\n",
      " 5   Buyout      125 non-null    float64\n",
      "dtypes: float64(3), object(3)\n",
      "memory usage: 6.8+ KB\n",
      "None\n"
     ]
    }
   ],
   "source": [
    "print(Coaches.info())"
   ]
  },
  {
   "cell_type": "code",
   "execution_count": 21,
   "metadata": {},
   "outputs": [
    {
     "data": {
      "text/html": [
       "<div>\n",
       "<style scoped>\n",
       "    .dataframe tbody tr th:only-of-type {\n",
       "        vertical-align: middle;\n",
       "    }\n",
       "\n",
       "    .dataframe tbody tr th {\n",
       "        vertical-align: top;\n",
       "    }\n",
       "\n",
       "    .dataframe thead th {\n",
       "        text-align: right;\n",
       "    }\n",
       "</style>\n",
       "<table border=\"1\" class=\"dataframe\">\n",
       "  <thead>\n",
       "    <tr style=\"text-align: right;\">\n",
       "      <th></th>\n",
       "      <th>School</th>\n",
       "      <th>Conference</th>\n",
       "      <th>Coach</th>\n",
       "      <th>TotalPay</th>\n",
       "      <th>Bonus</th>\n",
       "      <th>Buyout</th>\n",
       "    </tr>\n",
       "  </thead>\n",
       "  <tbody>\n",
       "    <tr>\n",
       "      <th>0</th>\n",
       "      <td>Air Force</td>\n",
       "      <td>Mt. West</td>\n",
       "      <td>Troy Calhoun</td>\n",
       "      <td>885000.0</td>\n",
       "      <td>247000.0</td>\n",
       "      <td>0.0</td>\n",
       "    </tr>\n",
       "    <tr>\n",
       "      <th>1</th>\n",
       "      <td>Akron</td>\n",
       "      <td>MAC</td>\n",
       "      <td>Terry Bowden</td>\n",
       "      <td>412500.0</td>\n",
       "      <td>225000.0</td>\n",
       "      <td>688500.0</td>\n",
       "    </tr>\n",
       "    <tr>\n",
       "      <th>2</th>\n",
       "      <td>Alabama</td>\n",
       "      <td>SEC</td>\n",
       "      <td>Nick Saban</td>\n",
       "      <td>8307000.0</td>\n",
       "      <td>1100000.0</td>\n",
       "      <td>33600000.0</td>\n",
       "    </tr>\n",
       "    <tr>\n",
       "      <th>3</th>\n",
       "      <td>Alabama at Birmingham</td>\n",
       "      <td>C-USA</td>\n",
       "      <td>Bill Clark</td>\n",
       "      <td>900000.0</td>\n",
       "      <td>950000.0</td>\n",
       "      <td>3847500.0</td>\n",
       "    </tr>\n",
       "    <tr>\n",
       "      <th>4</th>\n",
       "      <td>Appalachian State</td>\n",
       "      <td>Sun Belt</td>\n",
       "      <td>Scott Satterfield</td>\n",
       "      <td>712500.0</td>\n",
       "      <td>295000.0</td>\n",
       "      <td>2160417.0</td>\n",
       "    </tr>\n",
       "    <tr>\n",
       "      <th>...</th>\n",
       "      <td>...</td>\n",
       "      <td>...</td>\n",
       "      <td>...</td>\n",
       "      <td>...</td>\n",
       "      <td>...</td>\n",
       "      <td>...</td>\n",
       "    </tr>\n",
       "    <tr>\n",
       "      <th>124</th>\n",
       "      <td>West Virginia</td>\n",
       "      <td>Big 12</td>\n",
       "      <td>Dana Holgorsen</td>\n",
       "      <td>3617500.0</td>\n",
       "      <td>1000000.0</td>\n",
       "      <td>7150000.0</td>\n",
       "    </tr>\n",
       "    <tr>\n",
       "      <th>125</th>\n",
       "      <td>Western Kentucky</td>\n",
       "      <td>C-USA</td>\n",
       "      <td>Mike Sanford Jr.</td>\n",
       "      <td>805850.0</td>\n",
       "      <td>400000.0</td>\n",
       "      <td>1200000.0</td>\n",
       "    </tr>\n",
       "    <tr>\n",
       "      <th>126</th>\n",
       "      <td>Western Michigan</td>\n",
       "      <td>MAC</td>\n",
       "      <td>Tim Lester</td>\n",
       "      <td>800000.0</td>\n",
       "      <td>346500.0</td>\n",
       "      <td>800000.0</td>\n",
       "    </tr>\n",
       "    <tr>\n",
       "      <th>127</th>\n",
       "      <td>Wisconsin</td>\n",
       "      <td>Big Ten</td>\n",
       "      <td>Paul Chryst</td>\n",
       "      <td>3750000.0</td>\n",
       "      <td>0.0</td>\n",
       "      <td>6000000.0</td>\n",
       "    </tr>\n",
       "    <tr>\n",
       "      <th>128</th>\n",
       "      <td>Wyoming</td>\n",
       "      <td>Mt. West</td>\n",
       "      <td>Craig Bohl</td>\n",
       "      <td>1412000.0</td>\n",
       "      <td>450000.0</td>\n",
       "      <td>8016667.0</td>\n",
       "    </tr>\n",
       "  </tbody>\n",
       "</table>\n",
       "<p>125 rows × 6 columns</p>\n",
       "</div>"
      ],
      "text/plain": [
       "                    School Conference              Coach   TotalPay  \\\n",
       "0                Air Force   Mt. West       Troy Calhoun   885000.0   \n",
       "1                    Akron        MAC       Terry Bowden   412500.0   \n",
       "2                  Alabama        SEC         Nick Saban  8307000.0   \n",
       "3    Alabama at Birmingham      C-USA         Bill Clark   900000.0   \n",
       "4        Appalachian State   Sun Belt  Scott Satterfield   712500.0   \n",
       "..                     ...        ...                ...        ...   \n",
       "124          West Virginia     Big 12     Dana Holgorsen  3617500.0   \n",
       "125       Western Kentucky      C-USA   Mike Sanford Jr.   805850.0   \n",
       "126       Western Michigan        MAC         Tim Lester   800000.0   \n",
       "127              Wisconsin    Big Ten        Paul Chryst  3750000.0   \n",
       "128                Wyoming   Mt. West         Craig Bohl  1412000.0   \n",
       "\n",
       "         Bonus      Buyout  \n",
       "0     247000.0         0.0  \n",
       "1     225000.0    688500.0  \n",
       "2    1100000.0  33600000.0  \n",
       "3     950000.0   3847500.0  \n",
       "4     295000.0   2160417.0  \n",
       "..         ...         ...  \n",
       "124  1000000.0   7150000.0  \n",
       "125   400000.0   1200000.0  \n",
       "126   346500.0    800000.0  \n",
       "127        0.0   6000000.0  \n",
       "128   450000.0   8016667.0  \n",
       "\n",
       "[125 rows x 6 columns]"
      ]
     },
     "execution_count": 21,
     "metadata": {},
     "output_type": "execute_result"
    }
   ],
   "source": [
    "Coaches"
   ]
  },
  {
   "cell_type": "code",
   "execution_count": 22,
   "metadata": {},
   "outputs": [
    {
     "name": "stdout",
     "output_type": "stream",
     "text": [
      "['Mt. West' 'MAC' 'SEC' 'C-USA' 'Sun Belt' 'Pac-12' 'Ind.' 'ACC' 'AAC'\n",
      " 'Big Ten' 'Big 12']\n"
     ]
    }
   ],
   "source": [
    "print(Coaches[\"Conference\"].unique())"
   ]
  },
  {
   "cell_type": "code",
   "execution_count": 23,
   "metadata": {},
   "outputs": [
    {
     "data": {
      "image/png": "[encoded data removed]",
      "text/plain": [
       "<Figure size 864x648 with 2 Axes>"
      ]
     },
     "metadata": {
      "needs_background": "light"
     },
     "output_type": "display_data"
    }
   ],
   "source": [
    "# Enlarge the plot\n",
    "plt.figure(figsize=(12,9))\n",
    "\n",
    "# Calculate correlations\n",
    "corr = Coaches.corr()\n",
    " \n",
    "\n",
    "# Generate a mask for the upper triangle\n",
    "mask = np.zeros_like(corr, dtype=np.bool)\n",
    "mask[np.triu_indices_from(mask)] = True\n",
    "\n",
    "\n",
    "# Generate a custom diverging colormap\n",
    "cmap = sns.diverging_palette(220, 10, as_cmap=True)\n",
    "\n",
    "# Draw the heatmap with the mask and correct aspect ratio\n",
    "sns.heatmap(corr, mask=mask, cmap=cmap, vmax=1, center=0,\n",
    "            square=True, linewidths=.5, cbar_kws={\"shrink\": .5})\n",
    "plt.show()"
   ]
  },
  {
   "cell_type": "code",
   "execution_count": 24,
   "metadata": {},
   "outputs": [
    {
     "data": {
      "text/plain": [
       "<matplotlib.axes._subplots.AxesSubplot at 0x7f90b98182d0>"
      ]
     },
     "execution_count": 24,
     "metadata": {},
     "output_type": "execute_result"
    },
    {
     "data": {
      "image/png": "[encoded data removed]",
      "text/plain": [
       "<Figure size 864x648 with 1 Axes>"
      ]
     },
     "metadata": {
      "needs_background": "light"
     },
     "output_type": "display_data"
    }
   ],
   "source": [
    "# Enlarge the plot\n",
    "plt.figure(figsize=(12,9))\n",
    "\n",
    "# Distribution Plot (a.k.a. Histogram)\n",
    "sns.distplot(Coaches.TotalPay)"
   ]
  },
  {
   "cell_type": "code",
   "execution_count": 25,
   "metadata": {},
   "outputs": [
    {
     "data": {
      "text/plain": [
       "<matplotlib.axes._subplots.AxesSubplot at 0x7f90b9c5d390>"
      ]
     },
     "execution_count": 25,
     "metadata": {},
     "output_type": "execute_result"
    },
    {
     "data": {
      "image/png": "[encoded data removed]",
      "text/plain": [
       "<Figure size 864x648 with 1 Axes>"
      ]
     },
     "metadata": {
      "needs_background": "light"
     },
     "output_type": "display_data"
    }
   ],
   "source": [
    "# Enlarge the plot\n",
    "plt.figure(figsize=(12,9))\n",
    "\n",
    "Coaches[\"TotalPay\"].hist()"
   ]
  },
  {
   "cell_type": "code",
   "execution_count": 26,
   "metadata": {},
   "outputs": [],
   "source": [
    "ordered_conf_names = (sorted(set(Coaches['Conference']), reverse = False))"
   ]
  },
  {
   "cell_type": "code",
   "execution_count": 27,
   "metadata": {},
   "outputs": [
    {
     "data": {
      "text/plain": [
       "(array([ 0,  1,  2,  3,  4,  5,  6,  7,  8,  9, 10]),\n",
       " <a list of 11 Text xticklabel objects>)"
      ]
     },
     "execution_count": 27,
     "metadata": {},
     "output_type": "execute_result"
    },
    {
     "data": {
      "image/png": "[encoded data removed]",
      "text/plain": [
       "<Figure size 864x648 with 1 Axes>"
      ]
     },
     "metadata": {
      "needs_background": "light"
     },
     "output_type": "display_data"
    }
   ],
   "source": [
    "# Enlarge the plot\n",
    "\n",
    "plt.figure(figsize=(12,9))\n",
    "\n",
    "\n",
    "sns.stripplot(x = \"Conference\", y = \"TotalPay\", data = Coaches, order = ordered_conf_names)\n",
    "\n",
    "\n",
    "# Rotate x-labels\n",
    "plt.xticks(rotation=45)\n",
    "\n"
   ]
  },
  {
   "cell_type": "code",
   "execution_count": 28,
   "metadata": {},
   "outputs": [
    {
     "data": {
      "text/plain": [
       "(array([-1000000.,        0.,  1000000.,  2000000.,  3000000.,  4000000.,\n",
       "         5000000.,  6000000.,  7000000.,  8000000.,  9000000.]),\n",
       " <a list of 11 Text xticklabel objects>)"
      ]
     },
     "execution_count": 28,
     "metadata": {},
     "output_type": "execute_result"
    },
    {
     "data": {
      "image/png": "[encoded data removed]",
      "text/plain": [
       "<Figure size 864x648 with 1 Axes>"
      ]
     },
     "metadata": {
      "needs_background": "light"
     },
     "output_type": "display_data"
    }
   ],
   "source": [
    "# Enlarge the plot\n",
    "\n",
    "plt.figure(figsize=(12,9))\n",
    "\n",
    "sns.swarmplot(x = \"TotalPay\", y = \"Conference\", data = Coaches, order = ordered_conf_names)\n",
    "\n",
    "# Rotate x-labels\n",
    "plt.xticks(rotation=30)\n",
    "\n"
   ]
  },
  {
   "cell_type": "code",
   "execution_count": 37,
   "metadata": {},
   "outputs": [
    {
     "data": {
      "text/plain": [
       "(array([ 0,  1,  2,  3,  4,  5,  6,  7,  8,  9, 10]),\n",
       " <a list of 11 Text xticklabel objects>)"
      ]
     },
     "execution_count": 37,
     "metadata": {},
     "output_type": "execute_result"
    },
    {
     "data": {
      "image/png": "[encoded data removed]",
      "text/plain": [
       "<Figure size 864x648 with 1 Axes>"
      ]
     },
     "metadata": {
      "needs_background": "light"
     },
     "output_type": "display_data"
    }
   ],
   "source": [
    "# Enlarge the plot\n",
    "\n",
    "plt.figure(figsize=(12,9))\n",
    "\n",
    "sns.boxplot(x = \"Conference\", y = \"TotalPay\", data = Coaches, order = ordered_conf_names)\n",
    "\n",
    "# Rotate x-labels\n",
    "plt.xticks(rotation=30)"
   ]
  },
  {
   "cell_type": "code",
   "execution_count": 29,
   "metadata": {},
   "outputs": [
    {
     "data": {
      "text/plain": [
       "<matplotlib.axes._subplots.AxesSubplot at 0x7f90b98e3ad0>"
      ]
     },
     "execution_count": 29,
     "metadata": {},
     "output_type": "execute_result"
    },
    {
     "data": {
      "image/png": "[encoded data removed]",
      "text/plain": [
       "<Figure size 864x648 with 1 Axes>"
      ]
     },
     "metadata": {
      "needs_background": "light"
     },
     "output_type": "display_data"
    }
   ],
   "source": [
    "# Enlarge the plot\n",
    "plt.figure(figsize=(12,9))\n",
    "\n",
    "# Default boxplot\n",
    "sns.boxplot(data = Coaches)"
   ]
  },
  {
   "cell_type": "code",
   "execution_count": 30,
   "metadata": {},
   "outputs": [
    {
     "data": {
      "text/plain": [
       "(array([-1000000.,        0.,  1000000.,  2000000.,  3000000.,  4000000.,\n",
       "         5000000.,  6000000.,  7000000.,  8000000.,  9000000.]),\n",
       " <a list of 11 Text xticklabel objects>)"
      ]
     },
     "execution_count": 30,
     "metadata": {},
     "output_type": "execute_result"
    },
    {
     "data": {
      "text/plain": [
       "<Figure size 864x648 with 0 Axes>"
      ]
     },
     "metadata": {},
     "output_type": "display_data"
    },
    {
     "data": {
      "image/png": "[encoded data removed]",
      "text/plain": [
       "<Figure size 360x360 with 1 Axes>"
      ]
     },
     "metadata": {
      "needs_background": "light"
     },
     "output_type": "display_data"
    }
   ],
   "source": [
    "# Enlarge the plot\n",
    "plt.figure(figsize=(12,9))\n",
    "\n",
    "# Recommended way\n",
    "sns.lmplot(x='TotalPay', y='Bonus', data=Coaches)\n",
    "# Rotate x-labels\n",
    "plt.xticks(rotation=45)"
   ]
  },
  {
   "cell_type": "code",
   "execution_count": 31,
   "metadata": {},
   "outputs": [],
   "source": [
    "type_colors = ['#78C850',  # Grass\n",
    "                    '#F08030',  # Fire\n",
    "                    '#6890F0',  # Water\n",
    "                    '#A8B820',  # Bug\n",
    "                    '#A8A878',  # Normal\n",
    "                    '#A040A0',  # Poison\n",
    "                    '#F8D030',  # Electric\n",
    "                    '#E0C068',  # Ground\n",
    "                    '#EE99AC',  # Fairy\n",
    "                    '#C03028',  # Fighting\n",
    "                    '#F85888',  # Psychic\n",
    "                    '#B8A038',  # Rock\n",
    "                    '#705898',  # Ghost\n",
    "                    '#98D8D8',  # Ice\n",
    "                    '#7038F8',  # Dragon\n",
    "                   ]"
   ]
  },
  {
   "cell_type": "code",
   "execution_count": 32,
   "metadata": {},
   "outputs": [
    {
     "data": {
      "image/png": "[encoded data removed]",
      "text/plain": [
       "<Figure size 864x648 with 1 Axes>"
      ]
     },
     "metadata": {
      "needs_background": "light"
     },
     "output_type": "display_data"
    }
   ],
   "source": [
    "# Enlarge the plot\n",
    "plt.figure(figsize=(12,9))\n",
    "\n",
    "# Count Plot (a.k.a. Bar Plot)\n",
    "sns.countplot(x='Conference', data=Coaches,palette=type_colors, order = ordered_conf_names) \n",
    "\n",
    "# Rotate x-labels\n",
    "plt.xticks(rotation=45)\n",
    "\n",
    "plt.show()"
   ]
  },
  {
   "cell_type": "code",
   "execution_count": 33,
   "metadata": {},
   "outputs": [
    {
     "data": {
      "text/plain": [
       "<matplotlib.axes._subplots.AxesSubplot at 0x7f90baed7050>"
      ]
     },
     "execution_count": 33,
     "metadata": {},
     "output_type": "execute_result"
    },
    {
     "data": {
      "image/png": "[encoded data removed]",
      "text/plain": [
       "<Figure size 864x648 with 1 Axes>"
      ]
     },
     "metadata": {
      "needs_background": "light"
     },
     "output_type": "display_data"
    }
   ],
   "source": [
    "# Enlarge the plot\n",
    "plt.figure(figsize=(12,9))\n",
    "\n",
    "\n",
    "# Density Plot\n",
    "sns.kdeplot(Coaches.TotalPay, Coaches.Bonus)"
   ]
  },
  {
   "cell_type": "code",
   "execution_count": 34,
   "metadata": {},
   "outputs": [
    {
     "data": {
      "text/plain": [
       "<Figure size 1440x648 with 0 Axes>"
      ]
     },
     "metadata": {},
     "output_type": "display_data"
    },
    {
     "data": {
      "image/png": "[encoded data removed]",
      "text/plain": [
       "<Figure size 944x648 with 11 Axes>"
      ]
     },
     "metadata": {
      "needs_background": "light"
     },
     "output_type": "display_data"
    }
   ],
   "source": [
    "# Enlarge the plot\n",
    "plt.figure(figsize=(20,9))\n",
    "\n",
    "g = sns.FacetGrid(Coaches, col = \"Conference\", hue = \"Conference\", col_wrap=4)\n",
    "g.map(sns.scatterplot, \"TotalPay\", \"Bonus\")\n",
    "g.set_xticklabels(rotation=30)\n",
    "g.add_legend()\n",
    "\n",
    "plt.show()"
   ]
  },
  {
   "cell_type": "code",
   "execution_count": 35,
   "metadata": {},
   "outputs": [
    {
     "name": "stdout",
     "output_type": "stream",
     "text": [
      "<class 'pandas.core.frame.DataFrame'>\n",
      "Int64Index: 125 entries, 0 to 128\n",
      "Data columns (total 6 columns):\n",
      " #   Column      Non-Null Count  Dtype  \n",
      "---  ------      --------------  -----  \n",
      " 0   School      125 non-null    object \n",
      " 1   Conference  125 non-null    object \n",
      " 2   Coach       125 non-null    object \n",
      " 3   TotalPay    125 non-null    float64\n",
      " 4   Bonus       125 non-null    float64\n",
      " 5   Buyout      125 non-null    float64\n",
      "dtypes: float64(3), object(3)\n",
      "memory usage: 11.8+ KB\n"
     ]
    }
   ],
   "source": [
    "Coaches.info()"
   ]
  }
 ],
 "metadata": {
  "kernelspec": {
   "display_name": "Python 3",
   "language": "python",
   "name": "python3"
  },
  "language_info": {
   "codemirror_mode": {
    "name": "ipython",
    "version": 3
   },
   "file_extension": ".py",
   "mimetype": "text/x-python",
   "name": "python",
   "nbconvert_exporter": "python",
   "pygments_lexer": "ipython3",
   "version": "3.7.6"
  }
 },
 "nbformat": 4,
 "nbformat_minor": 4
}
