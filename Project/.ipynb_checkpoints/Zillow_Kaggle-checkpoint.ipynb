{
 "cells": [
  {
   "cell_type": "markdown",
   "metadata": {},
   "source": [
    "# Kaggle Competition - Improving Zillow Zestimate\n",
    "\n",
    "Submission by Robert Latimer"
   ]
  },
  {
   "cell_type": "code",
   "execution_count": 3,
   "metadata": {},
   "outputs": [],
   "source": [
    "import pandas as pd\n",
    "import numpy as np\n",
    "import matplotlib.pyplot as plt\n",
    "import matplotlib.dates as dates\n",
    "% matplotlib inline"
   ]
  },
  {
   "cell_type": "markdown",
   "metadata": {},
   "source": [
    "We have four spreadsheets:\n",
    "    * properties_2016.csv - all the properties with their home features for 2016.\n",
    "    * train_2016_v2.csv - the training set with transactions from 1/1/2016 to 12/31/2016\n",
    "    * sample_submission.csv - a sample submission file in the correct format\n",
    "    * zillow_data_dictionary.xlsx - explains the data fields"
   ]
  },
  {
   "cell_type": "markdown",
   "metadata": {},
   "source": [
    "The goal of this model is to improve the Zestimate residual error. More specifically, we are trying to minimize the mean absolute error between the predicted log error and the actual log error. This information is recorded in the transactions training data.\n",
    "\n",
    "**logerror = log(Zestimate) − log(SalePrice)\n",
    " **\n",
    " \n",
    "For each property (unique parcelid), we will predict a log error for each time point. We should be predicting 6 timepoints: **October 2016 (201610), November 2016 (201611), December 2016 (201612), October 2017 (201710), November 2017 (201711), and December 2017 (201712)**. The file should contain a header and have the following format:\n",
    "\n",
    "`ParcelId,201610,201611,201612,201710,201711,201712\n",
    "10754147,0.1234,1.2234,-1.3012,1.4012,0.8642,3.1412\n",
    "10759547,0,0,0,0,0,0\n",
    "etc.`"
   ]
  },
  {
   "cell_type": "markdown",
   "metadata": {},
   "source": [
    "## Let's start by vizualizing some of the data"
   ]
  },
  {
   "cell_type": "markdown",
   "metadata": {},
   "source": [
    "### Transaction Data"
   ]
  },
  {
   "cell_type": "code",
   "execution_count": 5,
   "metadata": {},
   "outputs": [],
   "source": [
    "transaction_data = pd.read_csv('train_2016_v2.csv', parse_dates =[\"transactiondate\"])"
   ]
  },
  {
   "cell_type": "code",
   "execution_count": 10,
   "metadata": {},
   "outputs": [
    {
     "data": {
      "text/plain": [
       "<bound method DataFrame.head of        parcelid  logerror transactiondate\n",
       "0      11016594    0.0276      2016-01-01\n",
       "1      14366692   -0.1684      2016-01-01\n",
       "2      12098116   -0.0040      2016-01-01\n",
       "3      12643413    0.0218      2016-01-02\n",
       "4      14432541   -0.0050      2016-01-02\n",
       "5      11509835   -0.2705      2016-01-02\n",
       "6      12286022    0.0440      2016-01-02\n",
       "7      17177301    0.1638      2016-01-02\n",
       "8      14739064   -0.0030      2016-01-02\n",
       "9      14677559    0.0843      2016-01-03\n",
       "10     10854446    0.3825      2016-01-03\n",
       "11     11672170   -0.0161      2016-01-03\n",
       "12     10949761    0.0344      2016-01-03\n",
       "13     14665244    0.0816      2016-01-03\n",
       "14     14148540   -0.0450      2016-01-03\n",
       "15     14057104    0.0020      2016-01-03\n",
       "16     17296797    0.0440      2016-01-03\n",
       "17     12524288   -0.0419      2016-01-03\n",
       "18     14091502   -0.0020      2016-01-03\n",
       "19     10815909    0.0100      2016-01-03\n",
       "20     12453853   -0.0387      2016-01-03\n",
       "21     14253461    0.0218      2016-01-03\n",
       "22     14001034    0.0149      2016-01-03\n",
       "23     11458863    0.1151      2016-01-03\n",
       "24     13957980   -0.1696      2016-01-03\n",
       "25     12752047   -0.0440      2016-01-03\n",
       "26     11188425   -0.0747      2016-01-03\n",
       "27     14646051    0.0080      2016-01-03\n",
       "28     10805063    0.0010      2016-01-03\n",
       "29     12524725   -0.0534      2016-01-03\n",
       "...         ...       ...             ...\n",
       "90245  10757551    0.0953      2016-12-30\n",
       "90246  12558267    0.0139      2016-12-30\n",
       "90247  11710734    0.2095      2016-12-30\n",
       "90248  14347592    0.0080      2016-12-30\n",
       "90249  11341061   -0.1312      2016-12-30\n",
       "90250  14027878    0.0421      2016-12-30\n",
       "90251  12756771    0.0658      2016-12-30\n",
       "90252  12758333    0.0030      2016-12-30\n",
       "90253  11295458   -0.0294      2016-12-30\n",
       "90254  12757889   -0.0111      2016-12-30\n",
       "90255  11308315    0.0070      2016-12-30\n",
       "90256  14353215    0.0218      2016-12-30\n",
       "90257  10753416    0.0526      2016-12-30\n",
       "90258  11756902    0.0889      2016-12-30\n",
       "90259  11994047    0.0178      2016-12-30\n",
       "90260  11440746    0.0237      2016-12-30\n",
       "90261  11703478    0.0431      2016-12-30\n",
       "90262  10965821   -0.2231      2016-12-30\n",
       "90263  12067066    0.1398      2016-12-30\n",
       "90264  11683263    0.0478      2016-12-30\n",
       "90265  12062080   -0.3769      2016-12-30\n",
       "90266  12265636   -0.0030      2016-12-30\n",
       "90267  17109680    0.0010      2016-12-30\n",
       "90268  12268527   -0.0151      2016-12-30\n",
       "90269  12920746    0.0344      2016-12-30\n",
       "90270  10774160   -0.0356      2016-12-30\n",
       "90271  12046695    0.0070      2016-12-30\n",
       "90272  12995401   -0.2679      2016-12-30\n",
       "90273  11402105    0.0602      2016-12-30\n",
       "90274  12566293    0.4207      2016-12-30\n",
       "\n",
       "[90275 rows x 3 columns]>"
      ]
     },
     "execution_count": 10,
     "metadata": {},
     "output_type": "execute_result"
    }
   ],
   "source": [
    "transaction_data.head"
   ]
  },
  {
   "cell_type": "code",
   "execution_count": 11,
   "metadata": {},
   "outputs": [
    {
     "data": {
      "text/plain": [
       "(90275, 3)"
      ]
     },
     "execution_count": 11,
     "metadata": {},
     "output_type": "execute_result"
    }
   ],
   "source": [
    "transaction_data.shape"
   ]
  },
  {
   "cell_type": "markdown",
   "metadata": {},
   "source": [
    "This means there were 90,275 houses sold in 2016."
   ]
  },
  {
   "cell_type": "code",
   "execution_count": 14,
   "metadata": {},
   "outputs": [
    {
     "name": "stdout",
     "output_type": "stream",
     "text": [
      "90150\n",
      "125\n"
     ]
    }
   ],
   "source": [
    "unique_props = len(transaction_data['parcelid'].unique())\n",
    "multiple_sales = len(transaction_data) - unique_props\n",
    "print unique_props\n",
    "print multiple_sales"
   ]
  },
  {
   "cell_type": "markdown",
   "metadata": {},
   "source": [
    "Of the 90,275 total sales, 90,150 properties are were only sold once and 125 of the properties were sold more than once in 2016."
   ]
  },
  {
   "cell_type": "markdown",
   "metadata": {},
   "source": [
    "Now let's break the `'transactiondate'` column into separate columns to graph transactions over time."
   ]
  },
  {
   "cell_type": "code",
   "execution_count": 16,
   "metadata": {},
   "outputs": [],
   "source": [
    "transaction_data['sale_month'] = transaction_data['transactiondate'].apply(lambda x: (x.to_pydatetime()).month)\n",
    "transaction_data['sale_day'] = transaction_data['transactiondate'].apply(lambda x: (x.to_pydatetime()).day)\n",
    "transaction_data['sale_year'] = transaction_data['transactiondate'].apply(lambda x: (x.to_pydatetime()).year)"
   ]
  },
  {
   "cell_type": "code",
   "execution_count": 22,
   "metadata": {},
   "outputs": [
    {
     "data": {
      "text/html": [
       "<div>\n",
       "<style>\n",
       "    .dataframe thead tr:only-child th {\n",
       "        text-align: right;\n",
       "    }\n",
       "\n",
       "    .dataframe thead th {\n",
       "        text-align: left;\n",
       "    }\n",
       "\n",
       "    .dataframe tbody tr th {\n",
       "        vertical-align: top;\n",
       "    }\n",
       "</style>\n",
       "<table border=\"1\" class=\"dataframe\">\n",
       "  <thead>\n",
       "    <tr style=\"text-align: right;\">\n",
       "      <th></th>\n",
       "      <th>parcelid</th>\n",
       "      <th>logerror</th>\n",
       "      <th>transactiondate</th>\n",
       "      <th>sale_month</th>\n",
       "      <th>sale_day</th>\n",
       "      <th>sale_year</th>\n",
       "    </tr>\n",
       "  </thead>\n",
       "  <tbody>\n",
       "    <tr>\n",
       "      <th>0</th>\n",
       "      <td>11016594</td>\n",
       "      <td>0.0276</td>\n",
       "      <td>2016-01-01</td>\n",
       "      <td>1</td>\n",
       "      <td>1</td>\n",
       "      <td>2016</td>\n",
       "    </tr>\n",
       "    <tr>\n",
       "      <th>1</th>\n",
       "      <td>14366692</td>\n",
       "      <td>-0.1684</td>\n",
       "      <td>2016-01-01</td>\n",
       "      <td>1</td>\n",
       "      <td>1</td>\n",
       "      <td>2016</td>\n",
       "    </tr>\n",
       "    <tr>\n",
       "      <th>2</th>\n",
       "      <td>12098116</td>\n",
       "      <td>-0.0040</td>\n",
       "      <td>2016-01-01</td>\n",
       "      <td>1</td>\n",
       "      <td>1</td>\n",
       "      <td>2016</td>\n",
       "    </tr>\n",
       "    <tr>\n",
       "      <th>3</th>\n",
       "      <td>12643413</td>\n",
       "      <td>0.0218</td>\n",
       "      <td>2016-01-02</td>\n",
       "      <td>1</td>\n",
       "      <td>2</td>\n",
       "      <td>2016</td>\n",
       "    </tr>\n",
       "    <tr>\n",
       "      <th>4</th>\n",
       "      <td>14432541</td>\n",
       "      <td>-0.0050</td>\n",
       "      <td>2016-01-02</td>\n",
       "      <td>1</td>\n",
       "      <td>2</td>\n",
       "      <td>2016</td>\n",
       "    </tr>\n",
       "    <tr>\n",
       "      <th>5</th>\n",
       "      <td>11509835</td>\n",
       "      <td>-0.2705</td>\n",
       "      <td>2016-01-02</td>\n",
       "      <td>1</td>\n",
       "      <td>2</td>\n",
       "      <td>2016</td>\n",
       "    </tr>\n",
       "    <tr>\n",
       "      <th>6</th>\n",
       "      <td>12286022</td>\n",
       "      <td>0.0440</td>\n",
       "      <td>2016-01-02</td>\n",
       "      <td>1</td>\n",
       "      <td>2</td>\n",
       "      <td>2016</td>\n",
       "    </tr>\n",
       "    <tr>\n",
       "      <th>7</th>\n",
       "      <td>17177301</td>\n",
       "      <td>0.1638</td>\n",
       "      <td>2016-01-02</td>\n",
       "      <td>1</td>\n",
       "      <td>2</td>\n",
       "      <td>2016</td>\n",
       "    </tr>\n",
       "    <tr>\n",
       "      <th>8</th>\n",
       "      <td>14739064</td>\n",
       "      <td>-0.0030</td>\n",
       "      <td>2016-01-02</td>\n",
       "      <td>1</td>\n",
       "      <td>2</td>\n",
       "      <td>2016</td>\n",
       "    </tr>\n",
       "    <tr>\n",
       "      <th>9</th>\n",
       "      <td>14677559</td>\n",
       "      <td>0.0843</td>\n",
       "      <td>2016-01-03</td>\n",
       "      <td>1</td>\n",
       "      <td>3</td>\n",
       "      <td>2016</td>\n",
       "    </tr>\n",
       "  </tbody>\n",
       "</table>\n",
       "</div>"
      ],
      "text/plain": [
       "   parcelid  logerror transactiondate  sale_month  sale_day  sale_year\n",
       "0  11016594    0.0276      2016-01-01           1         1       2016\n",
       "1  14366692   -0.1684      2016-01-01           1         1       2016\n",
       "2  12098116   -0.0040      2016-01-01           1         1       2016\n",
       "3  12643413    0.0218      2016-01-02           1         2       2016\n",
       "4  14432541   -0.0050      2016-01-02           1         2       2016\n",
       "5  11509835   -0.2705      2016-01-02           1         2       2016\n",
       "6  12286022    0.0440      2016-01-02           1         2       2016\n",
       "7  17177301    0.1638      2016-01-02           1         2       2016\n",
       "8  14739064   -0.0030      2016-01-02           1         2       2016\n",
       "9  14677559    0.0843      2016-01-03           1         3       2016"
      ]
     },
     "execution_count": 22,
     "metadata": {},
     "output_type": "execute_result"
    }
   ],
   "source": [
    "transaction_data.head(10)"
   ]
  },
  {
   "cell_type": "markdown",
   "metadata": {},
   "source": [
    "Now let's graph the sales over time."
   ]
  },
  {
   "cell_type": "code",
   "execution_count": 24,
   "metadata": {},
   "outputs": [
    {
     "data": {
      "text/plain": [
       "<matplotlib.text.Text at 0x114906090>"
      ]
     },
     "execution_count": 24,
     "metadata": {},
     "output_type": "execute_result"
    },
    {
     "data": {
      "image/png": "[encoded data removed]",
      "text/plain": [
       "<matplotlib.figure.Figure at 0x114a2ad90>"
      ]
     },
     "metadata": {},
     "output_type": "display_data"
    }
   ],
   "source": [
    "plt.figure(figsize=(12,4))\n",
    "plt.bar(range(1,13),(transaction_data.groupby('sale_month').count())['parcelid'],color='k')\n",
    "plt.xlabel('Sale Month')\n",
    "plt.ylabel('Number of Transactions')"
   ]
  },
  {
   "cell_type": "markdown",
   "metadata": {},
   "source": [
    "Here we can see that home sales are relatively seasonal. Most sales occur between March and September, with a considerable dropoff between October and February."
   ]
  },
  {
   "cell_type": "markdown",
   "metadata": {},
   "source": [
    "Now I'm curious to see what the average log error is month by month."
   ]
  },
  {
   "cell_type": "code",
   "execution_count": 36,
   "metadata": {},
   "outputs": [],
   "source": [
    "jan_transactions = transaction_data[transaction_data['sale_month'] == 1]['logerror']"
   ]
  },
  {
   "cell_type": "code",
   "execution_count": 37,
   "metadata": {},
   "outputs": [
    {
     "data": {
      "text/plain": [
       "<bound method Series.tail of 0       0.0276\n",
       "1      -0.1684\n",
       "2      -0.0040\n",
       "3       0.0218\n",
       "4      -0.0050\n",
       "5      -0.2705\n",
       "6       0.0440\n",
       "7       0.1638\n",
       "8      -0.0030\n",
       "9       0.0843\n",
       "10      0.3825\n",
       "11     -0.0161\n",
       "12      0.0344\n",
       "13      0.0816\n",
       "14     -0.0450\n",
       "15      0.0020\n",
       "16      0.0440\n",
       "17     -0.0419\n",
       "18     -0.0020\n",
       "19      0.0100\n",
       "20     -0.0387\n",
       "21      0.0218\n",
       "22      0.0149\n",
       "23      0.1151\n",
       "24     -0.1696\n",
       "25     -0.0440\n",
       "26     -0.0747\n",
       "27      0.0080\n",
       "28      0.0010\n",
       "29     -0.0534\n",
       "         ...  \n",
       "6558    0.0129\n",
       "6559   -0.0284\n",
       "6560    0.0169\n",
       "6561    0.0917\n",
       "6562    0.0816\n",
       "6563    0.0373\n",
       "6564   -0.3496\n",
       "6565    0.0178\n",
       "6566   -0.0640\n",
       "6567   -0.0408\n",
       "6568   -0.0030\n",
       "6569   -0.1233\n",
       "6570    0.0188\n",
       "6571   -0.0987\n",
       "6572   -0.0171\n",
       "6573   -0.0070\n",
       "6574    0.0227\n",
       "6575    0.0354\n",
       "6576    0.0497\n",
       "6577   -0.0523\n",
       "6578    0.0440\n",
       "6579    0.0109\n",
       "6580    0.0119\n",
       "6581    0.4240\n",
       "6582   -0.0111\n",
       "6583   -0.0050\n",
       "6584   -0.0387\n",
       "6585    0.0431\n",
       "6586   -0.0243\n",
       "6587   -0.0419\n",
       "Name: logerror, Length: 6556, dtype: float64>"
      ]
     },
     "execution_count": 37,
     "metadata": {},
     "output_type": "execute_result"
    }
   ],
   "source": [
    "jan_transactions.tail"
   ]
  },
  {
   "cell_type": "code",
   "execution_count": 47,
   "metadata": {},
   "outputs": [
    {
     "name": "stdout",
     "output_type": "stream",
     "text": [
      "0.0159\n"
     ]
    }
   ],
   "source": [
    "jan_log_error = np.mean([jan_transactions])\n",
    "print np.around(jan_log_error,4)"
   ]
  },
  {
   "cell_type": "code",
   "execution_count": 88,
   "metadata": {},
   "outputs": [],
   "source": [
    "avg_logs_table = []"
   ]
  },
  {
   "cell_type": "code",
   "execution_count": 93,
   "metadata": {},
   "outputs": [
    {
     "name": "stdout",
     "output_type": "stream",
     "text": [
      "[0.015869524100061077, 0.01608212537501983, 0.009866759130836856, 0.006605488132316614, 0.006925880935649025, 0.007172239516572072, 0.011687302704333059, 0.011572814051164615, 0.016255362924282046, 0.016341631504922665, 0.014510131434830202, 0.019122311673375463]\n"
     ]
    }
   ],
   "source": [
    "for i in range(1,13):\n",
    "    avg_logs = np.mean(transaction_data[transaction_data['sale_month'] == i]['logerror'])\n",
    "    avg_logs_table.append(avg_logs)\n",
    "print avg_logs_table"
   ]
  },
  {
   "cell_type": "code",
   "execution_count": 87,
   "metadata": {},
   "outputs": [
    {
     "data": {
      "text/plain": [
       "<matplotlib.text.Text at 0x114f2a6d0>"
      ]
     },
     "execution_count": 87,
     "metadata": {},
     "output_type": "execute_result"
    },
    {
     "data": {
      "image/png": "[encoded data removed]",
      "text/plain": [
       "<matplotlib.figure.Figure at 0x114f42a10>"
      ]
     },
     "metadata": {},
     "output_type": "display_data"
    }
   ],
   "source": [
    "t = range(1,13)\n",
    "plt.plot(t,avg_logs_table)\n",
    "plt.xlabel('Month')\n",
    "plt.ylabel('Average Log Error')"
   ]
  },
  {
   "cell_type": "markdown",
   "metadata": {},
   "source": [
    "I realized that we took the mean, but our logerrors were both positive (property is overpriced) and negative (property was underestimated) values. Seeing how the average log error for each month is a positive value, however, we can conclude that Zillow's Zestimate is overvaluing home prices.\n",
    "\n",
    "Let's try making a graph with the absolute value of the log errors."
   ]
  },
  {
   "cell_type": "code",
   "execution_count": 113,
   "metadata": {},
   "outputs": [
    {
     "name": "stderr",
     "output_type": "stream",
     "text": [
      "/Volumes/RobStorage/anaconda2/lib/python2.7/site-packages/ipykernel_launcher.py:2: SettingWithCopyWarning: \n",
      "A value is trying to be set on a copy of a slice from a DataFrame.\n",
      "Try using .loc[row_indexer,col_indexer] = value instead\n",
      "\n",
      "See the caveats in the documentation: http://pandas.pydata.org/pandas-docs/stable/indexing.html#indexing-view-versus-copy\n",
      "  \n"
     ]
    },
    {
     "data": {
      "text/plain": [
       "<bound method DataFrame.head of        logerror  sale_month\n",
       "0        0.0276           1\n",
       "1        0.1684           1\n",
       "2        0.0040           1\n",
       "3        0.0218           1\n",
       "4        0.0050           1\n",
       "5        0.2705           1\n",
       "6        0.0440           1\n",
       "7        0.1638           1\n",
       "8        0.0030           1\n",
       "9        0.0843           1\n",
       "10       0.3825           1\n",
       "11       0.0161           1\n",
       "12       0.0344           1\n",
       "13       0.0816           1\n",
       "14       0.0450           1\n",
       "15       0.0020           1\n",
       "16       0.0440           1\n",
       "17       0.0419           1\n",
       "18       0.0020           1\n",
       "19       0.0100           1\n",
       "20       0.0387           1\n",
       "21       0.0218           1\n",
       "22       0.0149           1\n",
       "23       0.1151           1\n",
       "24       0.1696           1\n",
       "25       0.0440           1\n",
       "26       0.0747           1\n",
       "27       0.0080           1\n",
       "28       0.0010           1\n",
       "29       0.0534           1\n",
       "...         ...         ...\n",
       "90245    0.0953          12\n",
       "90246    0.0139          12\n",
       "90247    0.2095          12\n",
       "90248    0.0080          12\n",
       "90249    0.1312          12\n",
       "90250    0.0421          12\n",
       "90251    0.0658          12\n",
       "90252    0.0030          12\n",
       "90253    0.0294          12\n",
       "90254    0.0111          12\n",
       "90255    0.0070          12\n",
       "90256    0.0218          12\n",
       "90257    0.0526          12\n",
       "90258    0.0889          12\n",
       "90259    0.0178          12\n",
       "90260    0.0237          12\n",
       "90261    0.0431          12\n",
       "90262    0.2231          12\n",
       "90263    0.1398          12\n",
       "90264    0.0478          12\n",
       "90265    0.3769          12\n",
       "90266    0.0030          12\n",
       "90267    0.0010          12\n",
       "90268    0.0151          12\n",
       "90269    0.0344          12\n",
       "90270    0.0356          12\n",
       "90271    0.0070          12\n",
       "90272    0.2679          12\n",
       "90273    0.0602          12\n",
       "90274    0.4207          12\n",
       "\n",
       "[90275 rows x 2 columns]>"
      ]
     },
     "execution_count": 113,
     "metadata": {},
     "output_type": "execute_result"
    }
   ],
   "source": [
    "abs_log_error_list = transaction_data[['logerror','sale_month']]\n",
    "abs_log_error_list['logerror'] = np.abs(abs_log_error_list['logerror'])\n",
    "#abs_log_errors = np.abs(abs_log_error_list['logerror'])\n",
    "abs_log_error_list.head"
   ]
  },
  {
   "cell_type": "code",
   "execution_count": 114,
   "metadata": {},
   "outputs": [
    {
     "name": "stdout",
     "output_type": "stream",
     "text": [
      "[0.07269484441732726, 0.07743447023527479, 0.07204392048081316, 0.06997150681988983, 0.06624098986045543, 0.06615773667826351, 0.06504399316376759, 0.06610425735013294, 0.06727859007832837, 0.06474645368695962, 0.06396522453450172, 0.07595186889016677]\n"
     ]
    }
   ],
   "source": [
    "avg_abs_logs_table = []\n",
    "for i in range(1,13):\n",
    "    avg_logs = np.mean(abs_log_error_list[abs_log_error_list['sale_month'] == i]['logerror'])\n",
    "    avg_abs_logs_table.append(avg_logs)\n",
    "print avg_abs_logs_table"
   ]
  },
  {
   "cell_type": "code",
   "execution_count": 145,
   "metadata": {},
   "outputs": [
    {
     "data": {
      "text/plain": [
       "<matplotlib.text.Text at 0x116c75450>"
      ]
     },
     "execution_count": 145,
     "metadata": {},
     "output_type": "execute_result"
    },
    {
     "data": {
      "image/png": "[encoded data removed]",
      "text/plain": [
       "<matplotlib.figure.Figure at 0x11738f790>"
      ]
     },
     "metadata": {},
     "output_type": "display_data"
    }
   ],
   "source": [
    "plt.plot(avg_abs_logs_table)\n",
    "plt.xticks(np.linspace(0,11,12,endpoint=True))\n",
    "plt.yticks(np.linspace(0.05,0.09,5,endpoint=True))\n",
    "plt.xlabel('Month')\n",
    "plt.ylabel('Average Absolute Log Error')"
   ]
  },
  {
   "cell_type": "markdown",
   "metadata": {},
   "source": [
    "The average absolute log errors are highest in December, January, February and March. These are also months where fewer houses are sold. Speculating, one might hypothesize that selling prices during these months might be a bit more sparatic than other months. If a seller is trying to sell a home in December, when demand is lower than other months, the seller may be willing to accept an offer below market rather than hold onto the home for a few more months. "
   ]
  },
  {
   "cell_type": "code",
   "execution_count": 146,
   "metadata": {
    "collapsed": true
   },
   "outputs": [],
   "source": [
    "import seaborn as sns\n",
    "# histogram of log error\n",
    "upper_limit = np.percentile(transaction_data.logerror.values, 99)\n",
    "lower_limit = np.percentile(transaction_data.logerror.values, 1)"
   ]
  },
  {
   "cell_type": "code",
   "execution_count": 151,
   "metadata": {},
   "outputs": [
    {
     "data": {
      "text/plain": [
       "<matplotlib.text.Text at 0x11a78d2d0>"
      ]
     },
     "execution_count": 151,
     "metadata": {},
     "output_type": "execute_result"
    },
    {
     "data": {
      "image/png": "[encoded data removed]",
      "text/plain": [
       "<matplotlib.figure.Figure at 0x11a749410>"
      ]
     },
     "metadata": {},
     "output_type": "display_data"
    }
   ],
   "source": [
    "from scipy.stats import norm\n",
    "plt.figure(figsize=(12,4))\n",
    "sns.distplot(transaction_data.logerror.values, bins=500, kde=False)\n",
    "plt.xlabel('Log Error')\n",
    "mu, std = norm.fit(transaction_data.logerror.values)\n",
    "xmin,xmax=plt.xlim()\n",
    "x = np.linspace(-5,5,1000)\n",
    "p = norm.pdf(x, 0, 0.025)\n",
    "plt.plot(x, p*(x[1]-x[0])*90275, 'k', linewidth=2)\n",
    "plt.axis([-0.3,0.3,0,20000])\n",
    "plt.ylabel('N')"
   ]
  },
  {
   "cell_type": "markdown",
   "metadata": {},
   "source": [
    "The log distribution does not follow a pure normal distribution."
   ]
  },
  {
   "cell_type": "markdown",
   "metadata": {},
   "source": [
    "## Property Data"
   ]
  },
  {
   "cell_type": "code",
   "execution_count": null,
   "metadata": {
    "collapsed": true
   },
   "outputs": [],
   "source": []
  }
 ],
 "metadata": {
  "kernelspec": {
   "display_name": "Python 2",
   "language": "python",
   "name": "python2"
  },
  "language_info": {
   "codemirror_mode": {
    "name": "ipython",
    "version": 2
   },
   "file_extension": ".py",
   "mimetype": "text/x-python",
   "name": "python",
   "nbconvert_exporter": "python",
   "pygments_lexer": "ipython2",
   "version": "2.7.13"
  }
 },
 "nbformat": 4,
 "nbformat_minor": 2
}
