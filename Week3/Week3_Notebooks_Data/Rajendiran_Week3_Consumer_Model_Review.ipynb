{
  "nbformat": 4,
  "nbformat_minor": 0,
  "metadata": {
    "colab": {
      "name": "Rajendiran_Week3_Consumer_Model_Review.ipynb",
      "provenance": [],
      "collapsed_sections": [],
      "toc_visible": true
    },
    "kernelspec": {
      "name": "python3",
      "display_name": "Python 3"
    },
    "language_info": {
      "name": "python"
    }
  },
  "cells": [
    {
      "cell_type": "code",
      "metadata": {
        "colab": {
          "base_uri": "https://localhost:8080/",
          "height": 35
        },
        "id": "vSaxh-ldYqA1",
        "outputId": "ddbd4116-87ad-402e-ccf5-2c217235fa25"
      },
      "source": [
        "pwd"
      ],
      "execution_count": 6,
      "outputs": [
        {
          "output_type": "execute_result",
          "data": {
            "application/vnd.google.colaboratory.intrinsic+json": {
              "type": "string"
            },
            "text/plain": [
              "'/content'"
            ]
          },
          "metadata": {
            "tags": []
          },
          "execution_count": 6
        }
      ]
    },
    {
      "cell_type": "markdown",
      "metadata": {
        "id": "MeVQUNDaY8-B"
      },
      "source": [
        "*   Course: IST 718\n",
        "*   Authors: Sathish Kumar Rajediran\n",
        "*   Task: Week3 Async\n",
        "*   Task Item: DATA BASED ON CELL PHONE SWITCHING BETWEEN PLANS\n",
        "*   Date: April 08,2021"
      ]
    },
    {
      "cell_type": "code",
      "metadata": {
        "colab": {
          "base_uri": "https://localhost:8080/",
          "height": 69
        },
        "id": "mqZaHGOIZQWd",
        "outputId": "44d3127c-d9de-480e-ea32-5845bccd7a4b"
      },
      "source": [
        "# ***********************************************************************************\n",
        "#      import libraries\n",
        "# ***********************************************************************************\n",
        "\n",
        "# standard library\n",
        "import os\n",
        "import sys\n",
        "from datetime import datetime\n",
        "import time\n",
        "import timeit\n",
        "\n",
        "\n",
        "## ENSURE evaluate_classifier.py IS WITHIN THE SAME DIRECTORY\n",
        "\n",
        "# Identifying Customer Targets (Python)\n",
        "\n",
        "%matplotlib inline\n",
        "\n",
        "# import packages for text processing and machine learning\n",
        "import pandas as pd  # DataFrame structure and operations\n",
        "import numpy as np  # arrays and numerical processing\n",
        "import matplotlib.pyplot as plt  # 2D plotting\n",
        "import statsmodels.api as sm  # logistic regression\n",
        "import statsmodels.formula.api as smf  # R-like model specification\n",
        "import patsy  # translate model specification into design matrices\n",
        "\n",
        "import seaborn as sns  # PROVIDES TRELLIS AND SMALL MULTIPLE PLOTTING\n",
        "\n",
        "# import user-defined module\n",
        "import evaluate_classifier as eval\n",
        "\n",
        "print('Libraries imported successfully!\\n')\n",
        "\n",
        "os.getcwd()"
      ],
      "execution_count": 7,
      "outputs": [
        {
          "output_type": "stream",
          "text": [
            "Libraries imported successfully!\n",
            "\n"
          ],
          "name": "stdout"
        },
        {
          "output_type": "execute_result",
          "data": {
            "application/vnd.google.colaboratory.intrinsic+json": {
              "type": "string"
            },
            "text/plain": [
              "'/content'"
            ]
          },
          "metadata": {
            "tags": []
          },
          "execution_count": 7
        }
      ]
    },
    {
      "cell_type": "code",
      "metadata": {
        "id": "Caxp_SivZ7ao"
      },
      "source": [
        "# Show all columns and do not truncate in the data frame\n",
        "pd.set_option('display.max_columns', None)\n",
        "pd.set_option('display.max_colwidth', None)"
      ],
      "execution_count": 8,
      "outputs": []
    },
    {
      "cell_type": "code",
      "metadata": {
        "colab": {
          "base_uri": "https://localhost:8080/"
        },
        "id": "xGo2aXQnZhuh",
        "outputId": "bf278d64-987f-4df7-8fe5-8303ab6a7f69"
      },
      "source": [
        "# OBTAIN data from text file in local directory\n",
        "\n",
        "# read in comma-delimited text file and create data frame\n",
        "# there are blank character fields for missing data\n",
        "# read them as character fields initially\n",
        "cell = pd.read_csv('/content/drive/MyDrive/IST718/CellSwitching.csv', sep = ',', header=0)\n",
        "print(cell.head())\n",
        "print(cell.shape)"
      ],
      "execution_count": 9,
      "outputs": [
        {
          "output_type": "stream",
          "text": [
            "   age          job  marital  education default  balance rentown repairplan  \\\n",
            "0   30   unemployed  married    primary      no     1787    rent         no   \n",
            "1   33     services  married  secondary      no     4789     own        yes   \n",
            "2   35   management   single   tertiary      no     1350     own         no   \n",
            "3   30   management  married   tertiary      no     1476     own        yes   \n",
            "4   59  blue-collar  married  secondary      no        0     own         no   \n",
            "\n",
            "    contact  plannum  months  devices poutcome  bresponse  \n",
            "0  cellular       19      79        1  unknown          0  \n",
            "1  cellular       11     220        5  failure          0  \n",
            "2  cellular       16     185        2  failure          0  \n",
            "3   unknown        3     199        1  unknown          0  \n",
            "4   unknown        5     226        1  unknown          0  \n",
            "(4521, 14)\n"
          ],
          "name": "stdout"
        }
      ]
    },
    {
      "cell_type": "code",
      "metadata": {
        "colab": {
          "base_uri": "https://localhost:8080/"
        },
        "id": "z1BdwhvEZ1vA",
        "outputId": "4e5fd6eb-1455-4f66-a21b-d4dfaa540961"
      },
      "source": [
        "# define jobtype variable\n",
        "job_to_jobtype = {'admin.':'White Collar',\\\n",
        "    'entrepreneur':'White Collar',\\\n",
        "    'management':'White Collar',\\\n",
        "    'self-employed':'White Collar',\\\n",
        "    'blue-collar':'Blue Collar',\\\n",
        "    'services':'Blue Collar',\\\n",
        "    'technician':'Blue Collar'}\n",
        "cell['jobtype'] = cell['job'].map(job_to_jobtype)\n",
        "cell['jobtype'] = cell['jobtype'].fillna('Other/Unknown')\n",
        "\n",
        "# set marital variable\n",
        "marital_to_label = {'divorced':'Divorced',\\\n",
        "    'married':'Married',\\\n",
        "    'single':'Single'}\n",
        "cell['marital'] = cell['marital'].map(marital_to_label)\n",
        "cell['marital'] = cell['marital'].fillna('Unknown')\n",
        "\n",
        "# set education variable\n",
        "education_to_label = {'primary':'Primary',\\\n",
        "    'secondary':'Secondary',\\\n",
        "    'tertiary':'Tertiary'}\n",
        "cell['education'] = cell['education'].map(education_to_label)\n",
        "cell['education'] = cell['education'].fillna('Unknown')\n",
        "\n",
        "# set no/yes variable labels\n",
        "noyes_to_label = {'no':'No', 'yes':'Yes'}\n",
        "cell['default'] = cell['default'].map(noyes_to_label)\n",
        "cell['default'] = cell['default'].fillna('No')\n",
        "\n",
        "# code response as binary variable\n",
        "noyes_to_binary = {'No':0, 'Yes':1}\n",
        "cell['repairplan'] = cell['repairplan'].map(noyes_to_binary)\n",
        "cell['repairplan'] = cell['repairplan'].fillna('No')\n",
        "\n",
        "# work only with cell clients who are being approached for the first time  \n",
        "filter = cell['poutcome'].map(lambda d: d == \"unknown\")\n",
        "\n",
        "# apply the filter and select columns needed for targeting model\n",
        "cellwork = pd.DataFrame(cell[filter], columns = ['bresponse','age','jobtype',\\\n",
        "    'education', 'marital', 'default', 'balance', 'rentown', 'repairplan', 'months', 'devices'])\n",
        "print(cellwork.head()) \n",
        "print(cellwork.shape)   "
      ],
      "execution_count": 10,
      "outputs": [
        {
          "output_type": "stream",
          "text": [
            "   bresponse  age        jobtype  education  marital default  balance rentown  \\\n",
            "0          0   30  Other/Unknown    Primary  Married      No     1787    rent   \n",
            "3          0   30   White Collar   Tertiary  Married      No     1476     own   \n",
            "4          0   59    Blue Collar  Secondary  Married      No        0     own   \n",
            "7          0   39    Blue Collar  Secondary  Married      No      147     own   \n",
            "8          0   41   White Collar   Tertiary  Married      No      221     own   \n",
            "\n",
            "  repairplan  months  devices  \n",
            "0         No      79        1  \n",
            "3         No     199        1  \n",
            "4         No     226        1  \n",
            "7         No     151        1  \n",
            "8         No      57        1  \n",
            "(3705, 11)\n"
          ],
          "name": "stdout"
        }
      ]
    },
    {
      "cell_type": "code",
      "metadata": {
        "colab": {
          "base_uri": "https://localhost:8080/",
          "height": 458
        },
        "id": "AG5Y4nenaafK",
        "outputId": "6a6ad264-117e-467a-c309-bc8c0f39eb40"
      },
      "source": [
        "sns.jointplot(x=\"age\", y=\"bresponse\", data=cellwork)"
      ],
      "execution_count": 11,
      "outputs": [
        {
          "output_type": "execute_result",
          "data": {
            "text/plain": [
              "<seaborn.axisgrid.JointGrid at 0x7f55c05f2d10>"
            ]
          },
          "metadata": {
            "tags": []
          },
          "execution_count": 11
        },
        {
          "output_type": "display_data",
          "data": {
            "image/png": "[encoded data removed]",
            "text/plain": [
              "<Figure size 432x432 with 3 Axes>"
            ]
          },
          "metadata": {
            "tags": [],
            "needs_background": "light"
          }
        }
      ]
    },
    {
      "cell_type": "code",
      "metadata": {
        "colab": {
          "base_uri": "https://localhost:8080/",
          "height": 367
        },
        "id": "H9b8foXvadXp",
        "outputId": "ee238442-0e2d-4d7d-a8f5-0b897b5bd3fc"
      },
      "source": [
        "sns.distplot(cellwork['age'], kde=False, rug=True);\n",
        "\n"
      ],
      "execution_count": 12,
      "outputs": [
        {
          "output_type": "stream",
          "text": [
            "/usr/local/lib/python3.7/dist-packages/seaborn/distributions.py:2557: FutureWarning: `distplot` is a deprecated function and will be removed in a future version. Please adapt your code to use either `displot` (a figure-level function with similar flexibility) or `histplot` (an axes-level function for histograms).\n",
            "  warnings.warn(msg, FutureWarning)\n",
            "/usr/local/lib/python3.7/dist-packages/seaborn/distributions.py:2056: FutureWarning: The `axis` variable is no longer used and will be removed. Instead, assign variables directly to `x` or `y`.\n",
            "  warnings.warn(msg, FutureWarning)\n"
          ],
          "name": "stderr"
        },
        {
          "output_type": "display_data",
          "data": {
            "image/png": "[encoded data removed]",
            "text/plain": [
              "<Figure size 432x288 with 1 Axes>"
            ]
          },
          "metadata": {
            "tags": [],
            "needs_background": "light"
          }
        }
      ]
    },
    {
      "cell_type": "code",
      "metadata": {
        "colab": {
          "base_uri": "https://localhost:8080/",
          "height": 299
        },
        "id": "S0MY61huagN-",
        "outputId": "762776a7-13c3-4ba0-a477-22e0f559e5f3"
      },
      "source": [
        "sns.boxplot(x=\"bresponse\", y=\"age\", data=cellwork)"
      ],
      "execution_count": 13,
      "outputs": [
        {
          "output_type": "execute_result",
          "data": {
            "text/plain": [
              "<matplotlib.axes._subplots.AxesSubplot at 0x7f55c05f2750>"
            ]
          },
          "metadata": {
            "tags": []
          },
          "execution_count": 13
        },
        {
          "output_type": "display_data",
          "data": {
            "image/png": "[encoded data removed]",
            "text/plain": [
              "<Figure size 432x288 with 1 Axes>"
            ]
          },
          "metadata": {
            "tags": [],
            "needs_background": "light"
          }
        }
      ]
    },
    {
      "cell_type": "code",
      "metadata": {
        "colab": {
          "base_uri": "https://localhost:8080/",
          "height": 279
        },
        "id": "tnwMSZTKajDA",
        "outputId": "c248f7b0-83e3-4fc5-e86d-8582db9504de"
      },
      "source": [
        "ax = sns.countplot(y=\"bresponse\", data=cellwork,\n",
        "             hue=\"age\")\n",
        "\n",
        "ax.legend_.remove()\n",
        "# sns.xlabel=(\"Customer Count\")\n",
        "# sns.ylabel=(\"Customers who switch\")\n",
        "plt.show()"
      ],
      "execution_count": 14,
      "outputs": [
        {
          "output_type": "display_data",
          "data": {
            "image/png": "[encoded data removed]",
            "text/plain": [
              "<Figure size 432x288 with 1 Axes>"
            ]
          },
          "metadata": {
            "tags": [],
            "needs_background": "light"
          }
        }
      ]
    },
    {
      "cell_type": "code",
      "metadata": {
        "colab": {
          "base_uri": "https://localhost:8080/",
          "height": 367
        },
        "id": "ZcI7XUsnaly8",
        "outputId": "af30fa5b-eefb-4969-d684-00d56a249d85"
      },
      "source": [
        "# MORE INTENSIVE PLOTS - SWARM & VIOLIN\n",
        "\n",
        "# sns.swarmplot(x=\"bresponse\", y=\"age\", data=cellwork)\n",
        "# plt.show()\n",
        "\n",
        "sns.violinplot(x=\"bresponse\", y=\"age\", data=cellwork, inner=None)\n",
        "sns.swarmplot(x=\"bresponse\", y=\"age\", data=cellwork, color=\"w\", alpha=.5)\n",
        "plt.show()\n",
        "\n"
      ],
      "execution_count": 15,
      "outputs": [
        {
          "output_type": "stream",
          "text": [
            "/usr/local/lib/python3.7/dist-packages/seaborn/categorical.py:1296: UserWarning: 83.9% of the points cannot be placed; you may want to decrease the size of the markers or use stripplot.\n",
            "  warnings.warn(msg, UserWarning)\n",
            "/usr/local/lib/python3.7/dist-packages/seaborn/categorical.py:1296: UserWarning: 5.3% of the points cannot be placed; you may want to decrease the size of the markers or use stripplot.\n",
            "  warnings.warn(msg, UserWarning)\n"
          ],
          "name": "stderr"
        },
        {
          "output_type": "display_data",
          "data": {
            "image/png": "[encoded data removed]",
            "text/plain": [
              "<Figure size 432x288 with 1 Axes>"
            ]
          },
          "metadata": {
            "tags": [],
            "needs_background": "light"
          }
        }
      ]
    },
    {
      "cell_type": "code",
      "metadata": {
        "colab": {
          "base_uri": "https://localhost:8080/",
          "height": 279
        },
        "id": "oTS772Zkaov_",
        "outputId": "0ddc70df-e1ad-46e1-bf33-b3e296d4af3c"
      },
      "source": [
        "sns.countplot(y=\"bresponse\", data=cellwork,\n",
        "             hue=\"jobtype\")\n",
        "sns.xlabel=(\"Customer Count\")\n",
        "sns.ylabel=(\"Customers who switch\")\n",
        "plt.show()\n",
        "\n",
        "\n"
      ],
      "execution_count": 16,
      "outputs": [
        {
          "output_type": "display_data",
          "data": {
            "image/png": "[encoded data removed]",
            "text/plain": [
              "<Figure size 432x288 with 1 Axes>"
            ]
          },
          "metadata": {
            "tags": [],
            "needs_background": "light"
          }
        }
      ]
    },
    {
      "cell_type": "code",
      "metadata": {
        "colab": {
          "base_uri": "https://localhost:8080/",
          "height": 279
        },
        "id": "J9N2yYX2asDl",
        "outputId": "a0e6828c-c3f3-4197-b143-ada5f5ebb4f1"
      },
      "source": [
        "sns.countplot(y=\"bresponse\", data=cellwork,\n",
        "             hue=\"education\")\n",
        "sns.xlabel=(\"Customer Count\")\n",
        "sns.ylabel=(\"Customers who switch\")\n",
        "plt.show()\n",
        "\n",
        "\n"
      ],
      "execution_count": 17,
      "outputs": [
        {
          "output_type": "display_data",
          "data": {
            "image/png": "[encoded data removed]",
            "text/plain": [
              "<Figure size 432x288 with 1 Axes>"
            ]
          },
          "metadata": {
            "tags": [],
            "needs_background": "light"
          }
        }
      ]
    },
    {
      "cell_type": "markdown",
      "metadata": {
        "id": "KEPyD3TqayeV"
      },
      "source": [
        "## Another deviation between response ratios"
      ]
    },
    {
      "cell_type": "code",
      "metadata": {
        "colab": {
          "base_uri": "https://localhost:8080/",
          "height": 279
        },
        "id": "CdHig4gTa1_b",
        "outputId": "d028a588-8aad-4060-cb05-1603000962f1"
      },
      "source": [
        "sns.countplot(y=\"bresponse\", data=cellwork,\n",
        "             hue=\"rentown\")\n",
        "sns.xlabel=(\"Customer Count\")\n",
        "sns.ylabel=(\"Customers who switch\")\n",
        "plt.show()"
      ],
      "execution_count": 18,
      "outputs": [
        {
          "output_type": "display_data",
          "data": {
            "image/png": "[encoded data removed]",
            "text/plain": [
              "<Figure size 432x288 with 1 Axes>"
            ]
          },
          "metadata": {
            "tags": [],
            "needs_background": "light"
          }
        }
      ]
    },
    {
      "cell_type": "markdown",
      "metadata": {
        "id": "fOEiZ1PNa8ay"
      },
      "source": [
        "## End Model Review"
      ]
    },
    {
      "cell_type": "markdown",
      "metadata": {
        "id": "fgNQ4xYja60N"
      },
      "source": [
        "## Start Code Review"
      ]
    },
    {
      "cell_type": "code",
      "metadata": {
        "colab": {
          "base_uri": "https://localhost:8080/",
          "height": 265
        },
        "id": "iSahZIvWbCqU",
        "outputId": "2b45be0e-23db-4c63-9e73-01a629ddd85e"
      },
      "source": [
        "corr = cellwork.corr()\n",
        "\n",
        "# Generate a mask for the upper triangle\n",
        "mask = np.zeros_like(corr, dtype=np.bool)\n",
        "mask[np.triu_indices_from(mask)] = True\n",
        "\n",
        "# Set up the matplotlib figure\n",
        "#f, ax = plt.subplots(figsize=(11, 9))\n",
        "\n",
        "# Generate a custom diverging colormap\n",
        "cmap = sns.diverging_palette(220, 10, as_cmap=True)\n",
        "\n",
        "# Draw the heatmap with the mask and correct aspect ratio\n",
        "sns.heatmap(corr, mask=mask, cmap=cmap, vmax=.3, center=0,\n",
        "            square=True, linewidths=.5, cbar_kws={\"shrink\": .5})\n",
        "plt.show()"
      ],
      "execution_count": 19,
      "outputs": [
        {
          "output_type": "display_data",
          "data": {
            "image/png": "[encoded data removed]",
            "text/plain": [
              "<Figure size 432x288 with 2 Axes>"
            ]
          },
          "metadata": {
            "tags": [],
            "needs_background": "light"
          }
        }
      ]
    },
    {
      "cell_type": "code",
      "metadata": {
        "colab": {
          "base_uri": "https://localhost:8080/",
          "height": 553
        },
        "id": "umK-VJwrbF_x",
        "outputId": "c6cc199e-4482-4715-e42d-09a073da9791"
      },
      "source": [
        "# QUICK SCATTER PLOT TO LOOK AT RELATIONSHIP BETWEEN VARIABLES\n",
        "\n",
        "sns.set(color_codes=True)\n",
        "\n",
        "sns.regplot(x=\"months\", y=\"bresponse\", data=cell, y_jitter=0.03)\n",
        "plt.show()\n",
        "\n",
        "sns.regplot(x=\"age\", y=\"bresponse\", data=cell, y_jitter=0.03)\n",
        "plt.show()\n",
        "\n"
      ],
      "execution_count": 20,
      "outputs": [
        {
          "output_type": "display_data",
          "data": {
            "image/png": "[encoded data removed]",
            "text/plain": [
              "<Figure size 432x288 with 1 Axes>"
            ]
          },
          "metadata": {
            "tags": []
          }
        },
        {
          "output_type": "display_data",
          "data": {
            "image/png": "[encoded data removed]",
            "text/plain": [
              "<Figure size 432x288 with 1 Axes>"
            ]
          },
          "metadata": {
            "tags": []
          }
        }
      ]
    },
    {
      "cell_type": "code",
      "metadata": {
        "id": "Y3rSojYTbJGG"
      },
      "source": [
        "# HOW MIGHT WE LOOK AT ACCOUNT BALANCE AND RESPONSE\n",
        "\n",
        "# sns.regplot(x=\"balance\", y=\"bresponse\", data=cell, y_jitter=0.03)\n",
        "\n",
        "# HOW MIGHT WE LOOK AT RENT/OWN VERSUS RESPONSE\n",
        "\n",
        "# sns.regplot(x=\"rentown\", y=\"bresponse\", data=cell, y_jitter=0.03)\n",
        "#plt.show()"
      ],
      "execution_count": 21,
      "outputs": []
    },
    {
      "cell_type": "code",
      "metadata": {
        "colab": {
          "base_uri": "https://localhost:8080/"
        },
        "id": "OW0CFu5hbKQZ",
        "outputId": "edbfbae3-7a61-42c2-cfa9-46ae6aacc264"
      },
      "source": [
        "print(cellwork.describe())\n",
        "#print(cell['loan'])\n",
        "\n",
        "print(cell.pivot_table(['age'], index = ['bresponse']))\n",
        "print(cell.pivot_table(['devices'], index = ['bresponse']))\n",
        "print(cell.pivot_table(['months'], index = ['bresponse']))\n",
        "#print(cellwork.pivot_table(['repairplan'], index = ['bresponse']))\n",
        "#print(cell.pivot_table(['rentown'], index = ['bresponse']))\n",
        "\n"
      ],
      "execution_count": 22,
      "outputs": [
        {
          "output_type": "stream",
          "text": [
            "         bresponse          age       balance       months  devices\n",
            "count  3705.000000  3705.000000   3705.000000  3705.000000   3705.0\n",
            "mean      0.090958    41.083671   1374.862078   262.103104      1.0\n",
            "std       0.287588    10.373818   3008.524207   262.937329      0.0\n",
            "min       0.000000    19.000000  -3313.000000     4.000000      1.0\n",
            "25%       0.000000    33.000000     60.000000   102.000000      1.0\n",
            "50%       0.000000    39.000000    415.000000   180.000000      1.0\n",
            "75%       0.000000    49.000000   1412.000000   327.000000      1.0\n",
            "max       1.000000    87.000000  71188.000000  3025.000000      1.0\n",
            "                 age\n",
            "bresponse           \n",
            "0          40.998000\n",
            "1          42.491363\n",
            "            devices\n",
            "bresponse          \n",
            "0          1.471250\n",
            "1          2.090211\n",
            "               months\n",
            "bresponse            \n",
            "0          226.347500\n",
            "1          552.742802\n"
          ],
          "name": "stdout"
        }
      ]
    },
    {
      "cell_type": "code",
      "metadata": {
        "colab": {
          "base_uri": "https://localhost:8080/"
        },
        "id": "r-acydsjbMX7",
        "outputId": "600ffb58-f13e-4123-865a-5631cac6d661"
      },
      "source": [
        "\n",
        "# examine descriptive statistics and frequency tables for variables in model\n",
        "print(cellwork.describe())\n",
        "print('\\njobtype:\\n',cellwork['jobtype'].value_counts())\n",
        "print('\\nmarital:\\n',cellwork['marital'].value_counts())\n",
        "print('\\neducation:\\n',cellwork['education'].value_counts())\n",
        "print('\\ndefault:\\n',cellwork['default'].value_counts())\n",
        "print('\\nhousing:\\n',cellwork['rentown'].value_counts())\n",
        "#print('\\nloan:\\n',cellwork['loan'].value_counts())\n",
        "\n"
      ],
      "execution_count": 23,
      "outputs": [
        {
          "output_type": "stream",
          "text": [
            "         bresponse          age       balance       months  devices\n",
            "count  3705.000000  3705.000000   3705.000000  3705.000000   3705.0\n",
            "mean      0.090958    41.083671   1374.862078   262.103104      1.0\n",
            "std       0.287588    10.373818   3008.524207   262.937329      0.0\n",
            "min       0.000000    19.000000  -3313.000000     4.000000      1.0\n",
            "25%       0.000000    33.000000     60.000000   102.000000      1.0\n",
            "50%       0.000000    39.000000    415.000000   180.000000      1.0\n",
            "75%       0.000000    49.000000   1412.000000   327.000000      1.0\n",
            "max       1.000000    87.000000  71188.000000  3025.000000      1.0\n",
            "\n",
            "jobtype:\n",
            " Blue Collar      1776\n",
            "White Collar     1453\n",
            "Other/Unknown     476\n",
            "Name: jobtype, dtype: int64\n",
            "\n",
            "marital:\n",
            " Married     2305\n",
            "Single       957\n",
            "Divorced     443\n",
            "Name: marital, dtype: int64\n",
            "\n",
            "education:\n",
            " Secondary    1891\n",
            "Tertiary     1084\n",
            "Primary       580\n",
            "Unknown       150\n",
            "Name: education, dtype: int64\n",
            "\n",
            "default:\n",
            " No     3634\n",
            "Yes      71\n",
            "Name: default, dtype: int64\n",
            "\n",
            "housing:\n",
            " own     2043\n",
            "rent    1662\n",
            "Name: rentown, dtype: int64\n"
          ],
          "name": "stdout"
        }
      ]
    },
    {
      "cell_type": "code",
      "metadata": {
        "colab": {
          "base_uri": "https://localhost:8080/"
        },
        "id": "XdfMTiV3bRpl",
        "outputId": "b1374149-bc16-4cd7-c594-67cae0a718f6"
      },
      "source": [
        "\n",
        "# examine means of continuous explanatory variables by response\n",
        "print(cellwork.pivot_table(['age'], index = ['bresponse']))\n",
        "print(cellwork.pivot_table(['balance'], index = ['bresponse']))\n",
        "\n"
      ],
      "execution_count": 24,
      "outputs": [
        {
          "output_type": "stream",
          "text": [
            "                 age\n",
            "bresponse           \n",
            "0          40.983076\n",
            "1          42.089021\n",
            "               balance\n",
            "bresponse             \n",
            "0          1359.654097\n",
            "1          1526.851632\n"
          ],
          "name": "stdout"
        }
      ]
    },
    {
      "cell_type": "code",
      "metadata": {
        "colab": {
          "base_uri": "https://localhost:8080/"
        },
        "id": "JLK6xhl5bRrV",
        "outputId": "bf3574d8-75df-4597-d809-47ca39164e15"
      },
      "source": [
        "# baseline response rate computed (will be used later)\n",
        "filter_took_offer = cellwork['bresponse'].map(lambda d: d == 1)\n",
        "baseline_response_rate = len(cellwork[filter_took_offer]) / len(cellwork)\n",
        "print('\\nBaseline proportion of clients responding to offer: ',\\\n",
        "    round(baseline_response_rate,5), '\\n')"
      ],
      "execution_count": 25,
      "outputs": [
        {
          "output_type": "stream",
          "text": [
            "\n",
            "Baseline proportion of clients responding to offer:  0.09096 \n",
            "\n"
          ],
          "name": "stdout"
        }
      ]
    },
    {
      "cell_type": "code",
      "metadata": {
        "colab": {
          "base_uri": "https://localhost:8080/"
        },
        "id": "I8fdiD45bWgv",
        "outputId": "2ea91bc9-e2a2-4bbb-b5e2-ae668a34e52b"
      },
      "source": [
        "\n",
        "# examine proportion responding across levels \n",
        "# of categorical variables\n",
        "print(cellwork.pivot_table(['bresponse'], index = ['jobtype']))\n",
        "print(cellwork.pivot_table(['bresponse'], index = ['education']))\n",
        "print(cellwork.pivot_table(['bresponse'], index = ['marital']))\n",
        "print(cellwork.pivot_table(['bresponse'], index = ['default']))\n",
        "print(cellwork.pivot_table(['bresponse'], index = ['rentown']))\n",
        "#print(cellwork.pivot_table(['bresponse'], index = ['repairplan']))\n",
        "\n"
      ],
      "execution_count": 26,
      "outputs": [
        {
          "output_type": "stream",
          "text": [
            "               bresponse\n",
            "jobtype                 \n",
            "Blue Collar     0.072072\n",
            "Other/Unknown   0.144958\n",
            "White Collar    0.096352\n",
            "           bresponse\n",
            "education           \n",
            "Primary     0.082759\n",
            "Secondary   0.082496\n",
            "Tertiary    0.112546\n",
            "Unknown     0.073333\n",
            "          bresponse\n",
            "marital            \n",
            "Divorced   0.126411\n",
            "Married    0.073753\n",
            "Single     0.115987\n",
            "         bresponse\n",
            "default           \n",
            "No        0.090534\n",
            "Yes       0.112676\n",
            "         bresponse\n",
            "rentown           \n",
            "own       0.069995\n",
            "rent      0.116727\n"
          ],
          "name": "stdout"
        }
      ]
    },
    {
      "cell_type": "markdown",
      "metadata": {
        "id": "8-76oNTebceT"
      },
      "source": [
        "## LOGIT Model for Switch"
      ]
    },
    {
      "cell_type": "code",
      "metadata": {
        "colab": {
          "base_uri": "https://localhost:8080/"
        },
        "id": "KxAk0GC4bWig",
        "outputId": "d46a0609-dbdd-430e-de2a-cb10f2cb292c"
      },
      "source": [
        "# specify model for logisitc regression\n",
        "cell = 'bresponse ~ age + jobtype + education + marital +\\\n",
        "    default + balance + rentown'\n",
        "\n",
        "# ----------------------------------\n",
        "# fit logistic regression model \n",
        "# ----------------------------------\n",
        "# convert R-like formula into design matrix needed for statsmodels        \n",
        "y,x = patsy.dmatrices(cell, cellwork, return_type = 'dataframe')    \n",
        "\n",
        "my_logit_model = sm.Logit(y,x)\n",
        "# fit the model to the full data set\n",
        "my_logit_model_fit = my_logit_model.fit()\n",
        "print(my_logit_model_fit.summary())\n",
        "\n",
        "# predicted probability of reponding to the offer\n",
        "cellwork['pred_logit_prob'] = my_logit_model_fit.predict(linear = False)"
      ],
      "execution_count": 27,
      "outputs": [
        {
          "output_type": "stream",
          "text": [
            "Optimization terminated successfully.\n",
            "         Current function value: 0.295795\n",
            "         Iterations 7\n",
            "                           Logit Regression Results                           \n",
            "==============================================================================\n",
            "Dep. Variable:              bresponse   No. Observations:                 3705\n",
            "Model:                          Logit   Df Residuals:                     3693\n",
            "Method:                           MLE   Df Model:                           11\n",
            "Date:                Fri, 09 Apr 2021   Pseudo R-squ.:                 0.02938\n",
            "Time:                        17:38:15   Log-Likelihood:                -1095.9\n",
            "converged:                       True   LL-Null:                       -1129.1\n",
            "Covariance Type:            nonrobust   LLR p-value:                 5.996e-10\n",
            "============================================================================================\n",
            "                               coef    std err          z      P>|z|      [0.025      0.975]\n",
            "--------------------------------------------------------------------------------------------\n",
            "Intercept                   -2.9029      0.371     -7.815      0.000      -3.631      -2.175\n",
            "jobtype[T.Other/Unknown]     0.5842      0.172      3.390      0.001       0.246       0.922\n",
            "jobtype[T.White Collar]      0.1358      0.144      0.941      0.347      -0.147       0.419\n",
            "education[T.Secondary]       0.0844      0.181      0.465      0.642      -0.271       0.440\n",
            "education[T.Tertiary]        0.3111      0.203      1.529      0.126      -0.088       0.710\n",
            "education[T.Unknown]        -0.2773      0.352     -0.787      0.431      -0.968       0.413\n",
            "marital[T.Married]          -0.5536      0.166     -3.328      0.001      -0.880      -0.228\n",
            "marital[T.Single]            0.0059      0.193      0.031      0.976      -0.373       0.385\n",
            "default[T.Yes]               0.2293      0.385      0.595      0.552      -0.526       0.985\n",
            "rentown[T.rent]              0.3978      0.122      3.271      0.001       0.159       0.636\n",
            "age                          0.0100      0.006      1.587      0.113      -0.002       0.022\n",
            "balance                   8.154e-06    1.7e-05      0.480      0.631   -2.51e-05    4.14e-05\n",
            "============================================================================================\n"
          ],
          "name": "stdout"
        }
      ]
    },
    {
      "cell_type": "markdown",
      "metadata": {
        "id": "PWnQY7ggbqtw"
      },
      "source": [
        "## End Code Review"
      ]
    },
    {
      "cell_type": "code",
      "metadata": {
        "id": "I80FND2pbgw5"
      },
      "source": [
        "# map target from probability cutoff specified\n",
        "def prob_to_pred(x, cutoff):\n",
        "    if(x > cutoff):\n",
        "        return(1)\n",
        "    else:\n",
        "        return(0)"
      ],
      "execution_count": 28,
      "outputs": []
    },
    {
      "cell_type": "code",
      "metadata": {
        "id": "gqBEpTGSbjTS"
      },
      "source": [
        "# try cutoff set at 0.50\n",
        "#cellwork['pred_logit_50'] =\\\n",
        "#    cellwork['pred_logit_prob'].\\\n",
        "#    apply(lambda d: prob_to_pred(d, cutoff = 0.50))    \n",
        "#print('\\nConfusion matrix for 0.50 cutoff\\n',\\\n",
        "#    pd.crosstab(cellwork.pred_logit_50, cellwork.bresponse, margins = True))    \n",
        "# cutoff 0.50 does not work for targeting... all predictions 0 or No    \n",
        "\n"
      ],
      "execution_count": 29,
      "outputs": []
    },
    {
      "cell_type": "code",
      "metadata": {
        "colab": {
          "base_uri": "https://localhost:8080/"
        },
        "id": "VOHaw_T1bmiv",
        "outputId": "0da291f6-97ec-4c68-f621-4fbd5de53d68"
      },
      "source": [
        "# try cutoff set at 0.10\n",
        "cellwork['pred_logit_10'] = cellwork['pred_logit_prob'].apply(lambda d: prob_to_pred(d, cutoff = 0.10)) \n",
        "       \n",
        "print('\\n Confusion matrix for (0.10 cutoff)\\n',pd.crosstab(cellwork.pred_logit_10, cellwork.bresponse, margins = True)) \n",
        "\n",
        "print('\\n Logistic Regression Performance (0.10 cutoff)\\n',\\\n",
        "    'Percentage of Targets Correctly Classified:',\\\n",
        "    100 * round(eval.evaluate_classifier(cellwork['pred_logit_10'],\\\n",
        "    cellwork['bresponse'])[4], 3),'\\n')"
      ],
      "execution_count": 30,
      "outputs": [
        {
          "output_type": "stream",
          "text": [
            "\n",
            " Confusion matrix for (0.10 cutoff)\n",
            " bresponse         0    1   All\n",
            "pred_logit_10                 \n",
            "0              2279  170  2449\n",
            "1              1089  167  1256\n",
            "All            3368  337  3705\n",
            "\n",
            " Logistic Regression Performance (0.10 cutoff)\n",
            " Percentage of Targets Correctly Classified: 66.0 \n",
            "\n"
          ],
          "name": "stdout"
        }
      ]
    },
    {
      "cell_type": "code",
      "metadata": {
        "colab": {
          "base_uri": "https://localhost:8080/"
        },
        "id": "hZCRJJIwexPR",
        "outputId": "19646156-86bd-4dd4-fd06-67859b89b830"
      },
      "source": [
        "print(eval.evaluate_classifier(cellwork['pred_logit_10'],cellwork['bresponse'])[4],3)"
      ],
      "execution_count": 31,
      "outputs": [
        {
          "output_type": "stream",
          "text": [
            "0.6601889338731444 3\n"
          ],
          "name": "stdout"
        }
      ]
    },
    {
      "cell_type": "code",
      "metadata": {
        "colab": {
          "base_uri": "https://localhost:8080/",
          "height": 204
        },
        "id": "4tdfroF3b8cL",
        "outputId": "f9d1e1fd-05cf-43dd-af31-ce217a30204c"
      },
      "source": [
        "cellwork.head()"
      ],
      "execution_count": 32,
      "outputs": [
        {
          "output_type": "execute_result",
          "data": {
            "text/html": [
              "<div>\n",
              "<style scoped>\n",
              "    .dataframe tbody tr th:only-of-type {\n",
              "        vertical-align: middle;\n",
              "    }\n",
              "\n",
              "    .dataframe tbody tr th {\n",
              "        vertical-align: top;\n",
              "    }\n",
              "\n",
              "    .dataframe thead th {\n",
              "        text-align: right;\n",
              "    }\n",
              "</style>\n",
              "<table border=\"1\" class=\"dataframe\">\n",
              "  <thead>\n",
              "    <tr style=\"text-align: right;\">\n",
              "      <th></th>\n",
              "      <th>bresponse</th>\n",
              "      <th>age</th>\n",
              "      <th>jobtype</th>\n",
              "      <th>education</th>\n",
              "      <th>marital</th>\n",
              "      <th>default</th>\n",
              "      <th>balance</th>\n",
              "      <th>rentown</th>\n",
              "      <th>repairplan</th>\n",
              "      <th>months</th>\n",
              "      <th>devices</th>\n",
              "      <th>pred_logit_prob</th>\n",
              "      <th>pred_logit_10</th>\n",
              "    </tr>\n",
              "  </thead>\n",
              "  <tbody>\n",
              "    <tr>\n",
              "      <th>0</th>\n",
              "      <td>0</td>\n",
              "      <td>30</td>\n",
              "      <td>Other/Unknown</td>\n",
              "      <td>Primary</td>\n",
              "      <td>Married</td>\n",
              "      <td>No</td>\n",
              "      <td>1787</td>\n",
              "      <td>rent</td>\n",
              "      <td>No</td>\n",
              "      <td>79</td>\n",
              "      <td>1</td>\n",
              "      <td>0.103486</td>\n",
              "      <td>1</td>\n",
              "    </tr>\n",
              "    <tr>\n",
              "      <th>3</th>\n",
              "      <td>0</td>\n",
              "      <td>30</td>\n",
              "      <td>White Collar</td>\n",
              "      <td>Tertiary</td>\n",
              "      <td>Married</td>\n",
              "      <td>No</td>\n",
              "      <td>1476</td>\n",
              "      <td>own</td>\n",
              "      <td>No</td>\n",
              "      <td>199</td>\n",
              "      <td>1</td>\n",
              "      <td>0.063168</td>\n",
              "      <td>0</td>\n",
              "    </tr>\n",
              "    <tr>\n",
              "      <th>4</th>\n",
              "      <td>0</td>\n",
              "      <td>59</td>\n",
              "      <td>Blue Collar</td>\n",
              "      <td>Secondary</td>\n",
              "      <td>Married</td>\n",
              "      <td>No</td>\n",
              "      <td>0</td>\n",
              "      <td>own</td>\n",
              "      <td>No</td>\n",
              "      <td>226</td>\n",
              "      <td>1</td>\n",
              "      <td>0.058397</td>\n",
              "      <td>0</td>\n",
              "    </tr>\n",
              "    <tr>\n",
              "      <th>7</th>\n",
              "      <td>0</td>\n",
              "      <td>39</td>\n",
              "      <td>Blue Collar</td>\n",
              "      <td>Secondary</td>\n",
              "      <td>Married</td>\n",
              "      <td>No</td>\n",
              "      <td>147</td>\n",
              "      <td>own</td>\n",
              "      <td>No</td>\n",
              "      <td>151</td>\n",
              "      <td>1</td>\n",
              "      <td>0.048349</td>\n",
              "      <td>0</td>\n",
              "    </tr>\n",
              "    <tr>\n",
              "      <th>8</th>\n",
              "      <td>0</td>\n",
              "      <td>41</td>\n",
              "      <td>White Collar</td>\n",
              "      <td>Tertiary</td>\n",
              "      <td>Married</td>\n",
              "      <td>No</td>\n",
              "      <td>221</td>\n",
              "      <td>own</td>\n",
              "      <td>No</td>\n",
              "      <td>57</td>\n",
              "      <td>1</td>\n",
              "      <td>0.069359</td>\n",
              "      <td>0</td>\n",
              "    </tr>\n",
              "  </tbody>\n",
              "</table>\n",
              "</div>"
            ],
            "text/plain": [
              "   bresponse  age        jobtype  education  marital default  balance rentown  \\\n",
              "0          0   30  Other/Unknown    Primary  Married      No     1787    rent   \n",
              "3          0   30   White Collar   Tertiary  Married      No     1476     own   \n",
              "4          0   59    Blue Collar  Secondary  Married      No        0     own   \n",
              "7          0   39    Blue Collar  Secondary  Married      No      147     own   \n",
              "8          0   41   White Collar   Tertiary  Married      No      221     own   \n",
              "\n",
              "  repairplan  months  devices  pred_logit_prob  pred_logit_10  \n",
              "0         No      79        1         0.103486              1  \n",
              "3         No     199        1         0.063168              0  \n",
              "4         No     226        1         0.058397              0  \n",
              "7         No     151        1         0.048349              0  \n",
              "8         No      57        1         0.069359              0  "
            ]
          },
          "metadata": {
            "tags": []
          },
          "execution_count": 32
        }
      ]
    },
    {
      "cell_type": "code",
      "metadata": {
        "id": "JwpfRkaZbmkK"
      },
      "source": [
        "\n",
        "# direct calculation of lift \n",
        "# decile labels from highest to lowest \n",
        "decile_label = []\n",
        "for i in range(10):\n",
        "    decile_label.append('Decile_'+str(10 - i))\n",
        "# draws on baseline response rate computed earlier    \n",
        "def lift(x):\n",
        "    return(x / baseline_response_rate)"
      ],
      "execution_count": 33,
      "outputs": []
    },
    {
      "cell_type": "code",
      "metadata": {
        "colab": {
          "base_uri": "https://localhost:8080/"
        },
        "id": "sL2_9k8tdDjk",
        "outputId": "655f47bd-8d88-4c03-fd6b-2e322ca49c1a"
      },
      "source": [
        "\n",
        "prediction_deciles = pd.qcut(cellwork.pred_logit_prob, 10, labels = decile_label)\n",
        "decile_groups = cellwork.bresponse.groupby(prediction_deciles)\n",
        "print(decile_groups.mean())\n",
        "lift_values = decile_groups.mean() / baseline_response_rate\n",
        "print('\\nLift Chart Values by Decile:\\n', lift_values, '\\n')"
      ],
      "execution_count": 34,
      "outputs": [
        {
          "output_type": "stream",
          "text": [
            "pred_logit_prob\n",
            "Decile_10    0.051213\n",
            "Decile_9     0.043243\n",
            "Decile_8     0.067385\n",
            "Decile_7     0.072973\n",
            "Decile_6     0.075472\n",
            "Decile_5     0.086486\n",
            "Decile_4     0.105405\n",
            "Decile_3     0.105121\n",
            "Decile_2     0.110811\n",
            "Decile_1     0.191375\n",
            "Name: bresponse, dtype: float64\n",
            "\n",
            "Lift Chart Values by Decile:\n",
            " pred_logit_prob\n",
            "Decile_10    0.563038\n",
            "Decile_9     0.475419\n",
            "Decile_8     0.740840\n",
            "Decile_7     0.802270\n",
            "Decile_6     0.829741\n",
            "Decile_5     0.950838\n",
            "Decile_4     1.158834\n",
            "Decile_3     1.155710\n",
            "Decile_2     1.218261\n",
            "Decile_1     2.103986\n",
            "Name: bresponse, dtype: float64 \n",
            "\n"
          ],
          "name": "stdout"
        }
      ]
    },
    {
      "cell_type": "code",
      "metadata": {
        "colab": {
          "base_uri": "https://localhost:8080/"
        },
        "id": "4h-pUGM0dLr2",
        "outputId": "52a3e09b-538e-47e2-b70b-766f697d3609"
      },
      "source": [
        "# apply the filter and select columns needed for targeting model\n",
        "switchcell = pd.DataFrame(cellwork)\n",
        "\n",
        "# columns=['bresponse','age','jobtype', 'education',\n",
        "#                                        'marital', 'default', 'devices', 'balance', 'housing', 'loan']\n",
        "print(cellwork.head()) \n",
        "print(cellwork.shape)   "
      ],
      "execution_count": 36,
      "outputs": [
        {
          "output_type": "stream",
          "text": [
            "   bresponse  age        jobtype  education  marital default  balance rentown  \\\n",
            "0          0   30  Other/Unknown    Primary  Married      No     1787    rent   \n",
            "3          0   30   White Collar   Tertiary  Married      No     1476     own   \n",
            "4          0   59    Blue Collar  Secondary  Married      No        0     own   \n",
            "7          0   39    Blue Collar  Secondary  Married      No      147     own   \n",
            "8          0   41   White Collar   Tertiary  Married      No      221     own   \n",
            "\n",
            "  repairplan  months  devices  pred_logit_prob  pred_logit_10  \n",
            "0         No      79        1         0.103486              1  \n",
            "3         No     199        1         0.063168              0  \n",
            "4         No     226        1         0.058397              0  \n",
            "7         No     151        1         0.048349              0  \n",
            "8         No      57        1         0.069359              0  \n",
            "(3705, 13)\n"
          ],
          "name": "stdout"
        }
      ]
    },
    {
      "cell_type": "code",
      "metadata": {
        "id": "NvH9HjSSdLzN"
      },
      "source": [
        ""
      ],
      "execution_count": null,
      "outputs": []
    }
  ]
}