{
 "cells": [
  {
   "cell_type": "code",
   "execution_count": 1,
   "metadata": {},
   "outputs": [
    {
     "name": "stdout",
     "output_type": "stream",
     "text": [
      "Libraries imported successfully!\n",
      "\n"
     ]
    },
    {
     "data": {
      "text/plain": [
       "'/Users/sathishrajendiran/ist718-python/Walk/Week5'"
      ]
     },
     "execution_count": 1,
     "metadata": {},
     "output_type": "execute_result"
    }
   ],
   "source": [
    "# ***********************************************************************************\n",
    "#      import libraries\n",
    "# ***********************************************************************************\n",
    "\n",
    "# standard library\n",
    "import os\n",
    "import sys\n",
    "import datetime\n",
    "import time\n",
    "import timeit\n",
    "import warnings\n",
    "import random\n",
    "warnings.filterwarnings(\"ignore\")\n",
    "\n",
    "\n",
    "# TEXT ANALYSIS \n",
    "# BASED ON MILLER (2015) and RASCHKA (2015)\n",
    "\n",
    "# import packages for text processing and multivariate analysis\n",
    "import re  # regular expressions\n",
    "import nltk  # draw on the Python natural language toolkit\n",
    "import pandas as pd  # DataFrame structure and operations\n",
    "import numpy as np  # arrays and numerical processing\n",
    "import scipy\n",
    "\n",
    "#Visualization packages\n",
    "import seaborn as sns; sns.set()\n",
    "import matplotlib.pyplot as plt\n",
    "\n",
    "\n",
    "# terms-by-documents matrix\n",
    "from sklearn.feature_extraction.text import CountVectorizer\n",
    "\n",
    "# alternative distance metrics for multidimensional scaling\n",
    "from sklearn.metrics import euclidean_distances \n",
    "from sklearn.metrics.pairwise import linear_kernel as cosine_distances\n",
    "from sklearn.metrics.pairwise import manhattan_distances as manhattan_distances\n",
    "\n",
    "from sklearn import manifold  # multidimensional scaling\n",
    "from sklearn.cluster import KMeans  # cluster analysis by partitioning\n",
    "from sklearn.decomposition import PCA  # principal component analysis\n",
    "\n",
    "\n",
    "print('Libraries imported successfully!\\n')\n",
    "os.getcwd()"
   ]
  },
  {
   "cell_type": "code",
   "execution_count": 2,
   "metadata": {},
   "outputs": [],
   "source": [
    "# define list of codes to be dropped from documents\n",
    "# carriage-returns, line-feeds, tabs\n",
    "codelist = ['\\r', '\\n', '\\t']    \n",
    "\n",
    "# contractions and other word strings to drop from further analysis, adding\n",
    "# to the usual English stopwords to be dropped from the document collection\n",
    "more_stop_words = ['cant','didnt','doesnt','dont','goes','isnt','hes',\\\n",
    "    'shes','thats','theres','theyre','wont','youll','youre','youve',\\\n",
    "    're','tv','g','us','en','ve','vg','didn','pg','gp','our','we',\n",
    "    'll','film','video','name','years','days','one','two','three',\\\n",
    "    'four','five','six','seven','eight','nine','ten','eleven','twelve'] \n",
    "# start with the initial list and add to it for movie text work \n",
    "stoplist = nltk.corpus.stopwords.words('english') + more_stop_words \n"
   ]
  },
  {
   "cell_type": "code",
   "execution_count": 3,
   "metadata": {},
   "outputs": [],
   "source": [
    "# text parsing function for creating text documents \n",
    "# there is more we could do for data preparation \n",
    "# stemming... looking for contractions... possessives... \n",
    "# but we will work with what we have in this parsing function\n",
    "# if we want to do stemming at a later time, we can use\n",
    "#     porter = nltk.PorterStemmer()  \n",
    "# in a construction like this\n",
    "#     words_stemmed =  [porter.stem(word) for word in initial_words]  \n",
    "def text_parse(string):\n",
    "    # replace non-alphanumeric with space \n",
    "    temp_string = re.sub('[^a-zA-Z]', '  ', string)    \n",
    "    # replace codes with space\n",
    "    for i in range(len(codelist)):\n",
    "        stopstring = ' ' + codelist[i] + '  '\n",
    "        temp_string = re.sub(stopstring, '  ', temp_string)      \n",
    "    # replace single-character words with space\n",
    "    temp_string = re.sub('\\s.\\s', ' ', temp_string)   \n",
    "    # convert uppercase to lowercase\n",
    "    temp_string = temp_string.lower()    \n",
    "    # replace selected character strings/stop-words with space\n",
    "    for i in range(len(stoplist)):\n",
    "        stopstring = ' ' + str(stoplist[i]) + ' '\n",
    "        temp_string = re.sub(stopstring, ' ', temp_string)        \n",
    "    # replace multiple blank characters with one blank character\n",
    "    temp_string = re.sub('\\s+', ' ', temp_string)    \n",
    "    return(temp_string)    \n"
   ]
  },
  {
   "cell_type": "code",
   "execution_count": 4,
   "metadata": {},
   "outputs": [],
   "source": [
    "# read in the comma-delimited text file with from initial data\n",
    "# preparation... create the movies data frame for analysis\n",
    "movies = pd.read_csv('movie_tagline_data_parsed.csv') "
   ]
  },
  {
   "cell_type": "code",
   "execution_count": 5,
   "metadata": {},
   "outputs": [],
   "source": [
    "# movies.head()"
   ]
  },
  {
   "cell_type": "code",
   "execution_count": 6,
   "metadata": {},
   "outputs": [
    {
     "data": {
      "text/plain": [
       "<seaborn.axisgrid.FacetGrid at 0x7fdaaf069730>"
      ]
     },
     "execution_count": 6,
     "metadata": {},
     "output_type": "execute_result"
    },
    {
     "data": {
      "text/plain": [
       "<Figure size 1080x864 with 0 Axes>"
      ]
     },
     "metadata": {},
     "output_type": "display_data"
    },
    {
     "data": {
      "image/png": "[encoded data removed]",
      "text/plain": [
       "<Figure size 360x360 with 1 Axes>"
      ]
     },
     "metadata": {},
     "output_type": "display_data"
    }
   ],
   "source": [
    "# Enlarge the plot\n",
    "\n",
    "plt.figure(figsize=(15,12))\n",
    "sns.set(style = 'whitegrid') \n",
    "\n",
    "sns.displot(movies, x=\"year\", binwidth=20, discrete=True)\n"
   ]
  },
  {
   "cell_type": "code",
   "execution_count": 7,
   "metadata": {},
   "outputs": [
    {
     "data": {
      "image/png": "[encoded data removed]",
      "text/plain": [
       "<Figure size 432x288 with 1 Axes>"
      ]
     },
     "metadata": {},
     "output_type": "display_data"
    },
    {
     "data": {
      "text/plain": [
       "<Figure size 432x288 with 0 Axes>"
      ]
     },
     "metadata": {},
     "output_type": "display_data"
    }
   ],
   "source": [
    "# EXPLORATORY DATA ANALYSIS\n",
    "\n",
    "# plot frequency of movies by year... histogram\n",
    "plt.figure()\n",
    "plt.hist(movies['year'], bins= 100)\n",
    "plt.xlabel('Year')\n",
    "plt.ylabel('Number of Movies in Database')\n",
    "plt.show()\n",
    "plt.savefig('fig_text_movies_by_year_histogram.pdf', \n",
    "    bbox_inches = 'tight', dpi=None, facecolor='w', edgecolor='b', \n",
    "    orientation='landscape', papertype=None, format=None, \n",
    "    transparent=True, pad_inches=0.25, frameon=None)  "
   ]
  },
  {
   "cell_type": "code",
   "execution_count": 8,
   "metadata": {},
   "outputs": [],
   "source": [
    "# we work with movies from 1974 to 2013\n",
    "# create aggregate tagline_text collection for each year of interest\n",
    "year = []  # initialize year list\n",
    "tagline_text = []  # initialize aggregate tagline text\n",
    "parsed_text = []  # parsed tagline text for subsequent analysis \n",
    "aggregate_document = ''  # intialize aggregate taglines document\n",
    "for iyear in range(1974,2014):\n",
    "    year.append(iyear)\n",
    "    gather_taglines = ''  # initialize aggregate tagline text\n",
    "    this_year_data_frame = movies[movies['year'] == iyear]\n",
    "    for this_record_index in this_year_data_frame.index.values:\n",
    "        this_record = this_year_data_frame.loc[this_record_index]\n",
    "        gather_taglines = gather_taglines + this_record['tagline']    \n",
    "    tagline_text.append(gather_taglines)\n",
    "    parsed_text.append(text_parse(gather_taglines))\n",
    "    aggregate_document = aggregate_document + gather_taglines\n",
    "big_bag_of_words = text_parse(aggregate_document)\n",
    "    \n",
    "# create document collection... 40 years of data = 40 documents\n",
    "tagline_data = {'year': year, 'tagline_text':tagline_text,\\\n",
    "    'parsed_text':parsed_text}        \n",
    "tagline_data_frame = pd.DataFrame(tagline_data)"
   ]
  },
  {
   "cell_type": "code",
   "execution_count": 9,
   "metadata": {},
   "outputs": [],
   "source": [
    "# tagline_data_frame.head()"
   ]
  },
  {
   "cell_type": "code",
   "execution_count": 10,
   "metadata": {},
   "outputs": [
    {
     "name": "stdout",
     "output_type": "stream",
     "text": [
      "\n",
      "Top 200 words in movie taglines database\n",
      "\n",
      "<map object at 0x7fdab342e220>\n"
     ]
    }
   ],
   "source": [
    "# create terms-by-documents matrix from the parsed text\n",
    "# extracting the top 200 words in the tagline corpus\n",
    "tdm_method = CountVectorizer(max_features = 200, binary = True)\n",
    "examine_movies_tdm = tdm_method.fit(parsed_text)\n",
    "top_words = examine_movies_tdm.get_feature_names()\n",
    "\n",
    "# get clean printing of the top words \n",
    "print('\\nTop 200 words in movie taglines database\\n')\n",
    "print(map(lambda t: t.encode('ascii'), top_words))  # print sans unicode\n",
    "\n",
    "# extract the terms-by-documents matrix \n",
    "# in scipy compressed sparse column format\n",
    "sparse_movies_tdm = tdm_method.fit_transform(parsed_text)\n",
    "# convert sparse matrix into regular terms-by-documents matrix\n",
    "movies_tdm = sparse_movies_tdm.todense()\n",
    "# define the documents-by-terms matrix \n",
    "movies_dtm = movies_tdm.transpose()"
   ]
  },
  {
   "cell_type": "code",
   "execution_count": 11,
   "metadata": {},
   "outputs": [],
   "source": [
    "# dissimilarity measures and multidimensional scaling\n",
    "# consider alternative pairwise distance metrics from sklearn modules\n",
    "# euclidean_distances, cosine_distances, manhattan_distances (city-block)\n",
    "# note that different metrics provide different solutions\n",
    "# movies_distance_matrix = euclidean_distances(movies_tdm)\n",
    "# movies_distance_matrix = manhattan_distances(movies_tdm)\n",
    "movies_distance_matrix = cosine_distances(movies_tdm)\n",
    "\n",
    "mds_method = manifold.MDS(n_components = 2, random_state = 9999,\\\n",
    "    dissimilarity = 'precomputed')\n",
    "mds_fit = mds_method.fit(movies_distance_matrix)  \n",
    "mds_coordinates = mds_method.fit_transform(movies_distance_matrix) "
   ]
  },
  {
   "cell_type": "code",
   "execution_count": 12,
   "metadata": {},
   "outputs": [
    {
     "data": {
      "image/png": "[encoded data removed]",
      "text/plain": [
       "<Figure size 432x288 with 1 Axes>"
      ]
     },
     "metadata": {},
     "output_type": "display_data"
    },
    {
     "data": {
      "text/plain": [
       "<Figure size 432x288 with 0 Axes>"
      ]
     },
     "metadata": {},
     "output_type": "display_data"
    }
   ],
   "source": [
    "# plot tagline text for years in two dimensions \n",
    "# defined by multidimensional scaling\n",
    "plt.figure()\n",
    "plt.scatter(mds_coordinates[:,0],mds_coordinates[:,1],\\\n",
    "    facecolors = 'none', edgecolors = 'none')  # plots points in white (invisible)\n",
    "labels = []\n",
    "for iyear in range(1974,2014):\n",
    "    labels.append(str(iyear))  \n",
    "for label, x, y in zip(labels, mds_coordinates[:,0], mds_coordinates[:,1]):\n",
    "    plt.annotate(label, (x,y), xycoords = 'data')\n",
    "plt.xlabel('First Dimension')\n",
    "plt.ylabel('Second Dimension')    \n",
    "plt.show()\n",
    "plt.savefig('fig_text_mds_1974_2013.pdf', \n",
    "    bbox_inches = 'tight', dpi=None, facecolor='w', edgecolor='b', \n",
    "    orientation='landscape', papertype=None, format=None, \n",
    "    transparent=True, pad_inches=0.25, frameon=None)  "
   ]
  },
  {
   "cell_type": "code",
   "execution_count": 13,
   "metadata": {},
   "outputs": [
    {
     "name": "stdout",
     "output_type": "stream",
     "text": [
      "\n",
      " Top Words in Cluster : 0 ------------------------------\n",
      "       word  cluster  dist_to_0  dist_to_1  dist_to_2  dist_to_3  dist_to_4\n",
      "82     hero        0   0.908539   1.569439   1.505199   1.602340   1.041576\n",
      "125    must        0   1.064489   1.727680   1.897092   1.815149   1.630751\n",
      "162    stop        0   1.231971   1.555526   1.783898   1.856416   1.436525\n",
      "142   ready        0   1.292903   1.941001   1.918930   2.094200   1.700997\n",
      "33   deadly        0   1.292903   1.740217   1.736555   1.823477   1.391382\n",
      "\n",
      " Top Words in Cluster : 1 ------------------------------\n",
      "      word  cluster  dist_to_0  dist_to_1  dist_to_2  dist_to_3  dist_to_4\n",
      "183   want        4   1.586742   1.329468   1.359764   1.564059   0.967442\n",
      "71   girls        4   1.586742   1.329468   1.359764   1.564059   0.967442\n",
      "192  women        4   1.657866   1.329468   1.586072   1.602340   1.020944\n",
      "199  young        4   1.351090   1.377650   1.264499   1.299502   0.291342\n",
      "73   going        4   1.791664   1.377650   1.612129   1.806782   1.336790\n",
      "\n",
      " Top Words in Cluster : 2 ------------------------------\n",
      "        word  cluster  dist_to_0  dist_to_1  dist_to_2  dist_to_3  dist_to_4\n",
      "15      best        2   1.657866   1.623900   0.826009   1.484539   1.041576\n",
      "83      high        2   1.854947   1.583230   0.965553   1.720881   1.391382\n",
      "43      even        2   1.680906   1.715051   1.007782   1.667218   1.391382\n",
      "130    night        2   1.703633   1.765025   1.161447   1.772922   1.391382\n",
      "89   journey        2   1.834095   1.895672   1.196784   1.712054   1.637261\n",
      "\n",
      " Top Words in Cluster : 3 ------------------------------\n",
      "       word  cluster  dist_to_0  dist_to_1  dist_to_2  dist_to_3  dist_to_4\n",
      "16   beyond        3   1.610799   1.596902   1.612129   0.865628   1.041576\n",
      "118    mind        3   1.610799   1.596902   1.612129   0.865628   1.041576\n",
      "123  murder        3   1.610799   1.596902   1.612129   0.865628   1.041576\n",
      "86      hot        3   1.680906   1.663576   1.897092   0.949119   1.344725\n",
      "17      big        3   1.770067   1.789488   1.736555   0.949119   1.352613\n",
      "\n",
      " Top Words in Cluster : 4 ------------------------------\n",
      "      word  cluster  dist_to_0  dist_to_1  dist_to_2  dist_to_3  dist_to_4\n",
      "121  movie        4    1.35109    1.37765   1.264499   1.299502   0.291342\n",
      "72      go        4    1.35109    1.37765   1.264499   1.299502   0.291342\n",
      "199  young        4    1.35109    1.37765   1.264499   1.299502   0.291342\n",
      "69     get        4    1.35109    1.37765   1.264499   1.299502   0.291342\n",
      "34   death        4    1.35109    1.37765   1.264499   1.299502   0.291342\n"
     ]
    }
   ],
   "source": [
    "# use transpose of the terms-by-document matrix and cluster analysis\n",
    "# try five clusters/groups of words\n",
    "clustering_method = KMeans(n_clusters = 5, random_state = 9999) \n",
    "clustering_solution = clustering_method.fit(movies_dtm)\n",
    "cluster_membership = clustering_method.predict(movies_dtm)\n",
    "word_distance_to_center = clustering_method.transform(movies_dtm)\n",
    "\n",
    "# top words data frame for reporting k-means clustering results\n",
    "top_words_data = {'word': top_words, 'cluster': cluster_membership,\\\n",
    "    'dist_to_0': word_distance_to_center[0:,0],\\\n",
    "    'dist_to_1': word_distance_to_center[0:,1],\\\n",
    "    'dist_to_2': word_distance_to_center[0:,2],\\\n",
    "    'dist_to_3': word_distance_to_center[0:,3],\\\n",
    "    'dist_to_4': word_distance_to_center[0:,4]}\n",
    "distance_name_list = ['dist_to_0','dist_to_1','dist_to_2','dist_to_3','dist_to_4']    \n",
    "top_words_data_frame = pd.DataFrame(top_words_data)\n",
    "for cluster in range(5):\n",
    "    words_in_cluster =\\\n",
    "        top_words_data_frame[top_words_data_frame['cluster'] == cluster] \n",
    "    \n",
    "#     sorted_data_frame =\\\n",
    "#         top_words_data_frame.sort_index(by = distance_name_list[cluster],\\\n",
    "#         ascending = True)\n",
    "    \n",
    "    sorted_data_frame = top_words_data_frame.sort_values(distance_name_list[cluster], inplace= True)\n",
    "        \n",
    "        \n",
    "    print('\\n Top Words in Cluster :',cluster,'------------------------------')\n",
    "    \n",
    "    print(top_words_data_frame.head())\n",
    "    \n",
    "    \n",
    "    "
   ]
  },
  {
   "cell_type": "code",
   "execution_count": 14,
   "metadata": {},
   "outputs": [],
   "source": [
    "#   print(top_words_data_frame.tail())"
   ]
  },
  {
   "cell_type": "code",
   "execution_count": 15,
   "metadata": {},
   "outputs": [],
   "source": [
    "# print(top_words_data_frame[top_words_data_frame['cluster']== 1])"
   ]
  },
  {
   "cell_type": "code",
   "execution_count": 16,
   "metadata": {},
   "outputs": [],
   "source": [
    "# could examine possible clustering solutions with partitioning\n",
    "# by changing the n_clusters setting for KMeans\n",
    "\n",
    "# a five-cluster solution seems to make sense with words\n",
    "# toward the center of each cluster fitting together\n",
    "# let's use pairs of top words from each cluster to name the clusters\n",
    "# cluster index 0: forever-hero\n",
    "# cluster index 1: best-high\n",
    "# cluster index 2: young-comedy\n",
    "# cluster index 3: everything-family\n",
    "# cluster index 4: going-real\n",
    "\n",
    "# name the clusters in the top words data frame\n",
    "cluster_to_name = {0:'forever-hero',\\\n",
    "    1:'best-high', 2:'young-comedy',\\\n",
    "    3:'everything-family', 4:'going-real'}\n",
    "top_words_data_frame['cluster_name'] = top_words_data_frame['cluster'].map(cluster_to_name)"
   ]
  },
  {
   "cell_type": "code",
   "execution_count": 17,
   "metadata": {},
   "outputs": [
    {
     "data": {
      "text/plain": [
       "array(['going-real', 'everything-family', 'forever-hero', 'young-comedy',\n",
       "       'best-high'], dtype=object)"
      ]
     },
     "execution_count": 17,
     "metadata": {},
     "output_type": "execute_result"
    }
   ],
   "source": [
    "top_words_data_frame.cluster_name.unique()"
   ]
  },
  {
   "cell_type": "code",
   "execution_count": 18,
   "metadata": {},
   "outputs": [],
   "source": [
    "# use word clusters to define text measures...\n",
    "# in particular, let the raw score for a cluster for a year be the percentage\n",
    "# of words in that year's tagline documents that fall within the cluster\n",
    "# then to examine movies in time, standardize cluster scores across the\n",
    "# forty years of the study and plot as a multiple time series\n",
    "forever_hero_df =\\\n",
    "    top_words_data_frame[top_words_data_frame['cluster'] == 0]     \n",
    "forever_hero_word_list = str(forever_hero_df['word'])  \n",
    "\n",
    "best_high_df =\\\n",
    "    top_words_data_frame[top_words_data_frame['cluster'] == 1]     \n",
    "best_high_word_list = str(best_high_df['word'])  \n",
    "\n",
    "young_comedy_df =\\\n",
    "    top_words_data_frame[top_words_data_frame['cluster'] == 2]     \n",
    "young_comedy_word_list = str(young_comedy_df['word'])  \n",
    "\n",
    "everything_family_df =\\\n",
    "    top_words_data_frame[top_words_data_frame['cluster'] == 3]     \n",
    "everything_family_word_list = str(everything_family_df['word'])  \n",
    "\n",
    "going_real_df =\\\n",
    "    top_words_data_frame[top_words_data_frame['cluster'] == 4]     \n",
    "going_real_word_list = str(going_real_df['word'])  "
   ]
  },
  {
   "cell_type": "code",
   "execution_count": 19,
   "metadata": {},
   "outputs": [],
   "source": [
    "# forever_hero_df['word'])"
   ]
  },
  {
   "cell_type": "code",
   "execution_count": 20,
   "metadata": {},
   "outputs": [],
   "source": [
    "# len(parsed_text)\n",
    "\n",
    "# parsed_text[-1]"
   ]
  },
  {
   "cell_type": "code",
   "execution_count": 21,
   "metadata": {},
   "outputs": [
    {
     "name": "stdout",
     "output_type": "stream",
     "text": [
      "              year   total_words  forever_hero_words  forever_hero  \\\n",
      "count    40.000000     40.000000           40.000000     40.000000   \n",
      "mean   1993.500000   5063.175000          306.550000      6.008901   \n",
      "std      11.690452   4694.148555          280.382244      0.956612   \n",
      "min    1974.000000   1322.000000           36.000000      2.352941   \n",
      "25%    1983.750000   1789.500000          107.500000      5.667108   \n",
      "50%    1993.500000   2395.000000          148.500000      6.047463   \n",
      "75%    2003.250000   7461.000000          443.250000      6.592368   \n",
      "max    2013.000000  16670.000000          978.000000      7.838983   \n",
      "\n",
      "       best_high_words  best_high  young_comedy_words  young_comedy  \\\n",
      "count        40.000000  40.000000           40.000000     40.000000   \n",
      "mean        198.225000   3.854447          239.725000      4.641786   \n",
      "std         181.861808   0.637090          222.690194      0.703090   \n",
      "min          34.000000   1.789474           21.000000      1.588502   \n",
      "25%          67.000000   3.588184           82.500000      4.477695   \n",
      "50%          94.500000   3.925390          115.500000      4.727236   \n",
      "75%         307.250000   4.206054          361.500000      5.008764   \n",
      "max         590.000000   4.931578          796.000000      5.827474   \n",
      "\n",
      "       everything_family_words  everything_family  going_real_words  \\\n",
      "count                40.000000          40.000000         40.000000   \n",
      "mean                378.525000           7.382246        156.900000   \n",
      "std                 343.397653           1.257656        147.573849   \n",
      "min                  45.000000           3.335804         30.000000   \n",
      "25%                 131.000000           6.843414         49.750000   \n",
      "50%                 187.500000           7.485488         72.000000   \n",
      "75%                 603.500000           8.369883        245.500000   \n",
      "max                1170.000000           9.332469        494.000000   \n",
      "\n",
      "       going_real  \n",
      "count   40.000000  \n",
      "mean     2.986586  \n",
      "std      0.471531  \n",
      "min      1.803714  \n",
      "25%      2.703834  \n",
      "50%      3.028347  \n",
      "75%      3.355159  \n",
      "max      3.785830  \n",
      "   year                                       tagline_text  \\\n",
      "0  1974    One of the Funniest Police Shows Ever One of...   \n",
      "1  1975    Mosaiken und Fresken als Zeugen der Geschich...   \n",
      "2  1976    Let all the poisons that lurk in the mud hat...   \n",
      "3  1977    Soup and Rob are up to their old tricks agai...   \n",
      "4  1978    They were searching for a star called Earth,...   \n",
      "\n",
      "                                         parsed_text  total_words  \\\n",
      "0   funniest police shows ever funniest police co...         1646   \n",
      "1   mosaiken und fresken als zeugen der geschicht...         1530   \n",
      "2   let poisons lurk mud hatch maryland lottery l...         1554   \n",
      "3   soup rob old tricks get ready match stars may...         1353   \n",
      "4   searching star called earth first win great w...         1552   \n",
      "\n",
      "   forever_hero_words  forever_hero  best_high_words  best_high  \\\n",
      "0                  95      5.771567               69   4.191981   \n",
      "1                  36      2.352941               64   4.183007   \n",
      "2                  66      4.247104               42   2.702703   \n",
      "3                  69      5.099778               43   3.178123   \n",
      "4                  64      4.123711               51   3.286082   \n",
      "\n",
      "   young_comedy_words  young_comedy  everything_family_words  \\\n",
      "0                  64      3.888214                      119   \n",
      "1                  73      4.771242                      113   \n",
      "2                  81      5.212355                       67   \n",
      "3                  54      3.991131                       85   \n",
      "4                  53      3.414948                       82   \n",
      "\n",
      "   everything_family  going_real_words  going_real  \n",
      "0           7.229648                50    3.037667  \n",
      "1           7.385621                39    2.549020  \n",
      "2           4.311454                38    2.445302  \n",
      "3           6.282336                32    2.365115  \n",
      "4           5.283505                36    2.319588  \n",
      "    year                                       tagline_text  \\\n",
      "35  2009    The Pillars of a Love Triangle  The Twin Cit...   \n",
      "36  2010    all about Alice and her very important date(...   \n",
      "37  2011    12 days that shook Chile  It's not just a ne...   \n",
      "38  2012    The Movie Unrated And Uncensored  The First ...   \n",
      "39  2013    Pretty on the outside, ugly-crying on the in...   \n",
      "\n",
      "                                          parsed_text  total_words  \\\n",
      "35   pillars love triangle twin cities locally pro...        16670   \n",
      "36   alice important date healing broken heart hil...        12237   \n",
      "37   shook chile neighborhood lifestyle dollar chr...        12661   \n",
      "38   movie unrated uncensored first family comedy ...        12884   \n",
      "39   pretty outside ugly crying inside jash gave c...         7656   \n",
      "\n",
      "    forever_hero_words  forever_hero  best_high_words  best_high  \\\n",
      "35                 975      5.848830              590   3.539292   \n",
      "36                 702      5.736700              470   3.840811   \n",
      "37                 723      5.710449              499   3.941237   \n",
      "38                 728      5.650419              525   4.074821   \n",
      "39                 402      5.250784              266   3.474399   \n",
      "\n",
      "    young_comedy_words  young_comedy  everything_family_words  \\\n",
      "35                 796      4.775045                     1170   \n",
      "36                 566      4.625317                      898   \n",
      "37                 590      4.659979                      936   \n",
      "38                 556      4.315430                      894   \n",
      "39                 345      4.506270                      593   \n",
      "\n",
      "    everything_family  going_real_words  going_real  \n",
      "35           7.018596               494    2.963407  \n",
      "36           7.338400               356    2.909210  \n",
      "37           7.392781               374    2.953953  \n",
      "38           6.938839               396    3.073580  \n",
      "39           7.745559               234    3.056426  \n"
     ]
    }
   ],
   "source": [
    "# cluster scores as percentage of total words\n",
    "def cluster_scoring(cluster_count, total_count):\n",
    "    return (100 * (cluster_count/total_count))\n",
    "                                                                    \n",
    "# initialize word counts    \n",
    "forever_hero_words = []; \n",
    "best_high_words = []; \n",
    "young_comedy_words = []; \n",
    "everything_family_words = []; \n",
    "going_real_words = []; \n",
    "total_words = []\n",
    "# initialize cluster scores\n",
    "forever_hero = []; \n",
    "best_high = []; \n",
    "young_comedy = []; \n",
    "everything_family = []; \n",
    "going_real = []\n",
    "# compute text measures for each year\n",
    "for iyear in range(len(year)):\n",
    "    text = parsed_text[iyear]  # this year's text for scoring\n",
    "    total_count = len([w for w in text.split()])\n",
    "    total_words.append(total_count)\n",
    "    \n",
    "    forever_hero_count =\\\n",
    "        len([w for w in text.split() if w in forever_hero_word_list])\n",
    "    forever_hero_words.append(forever_hero_count)\n",
    "    forever_hero.append(cluster_scoring(forever_hero_count, total_count))\n",
    "    \n",
    "    best_high_count =\\\n",
    "         len([w for w in text.split() if w in best_high_word_list])\n",
    "    best_high_words.append(best_high_count)\n",
    "    best_high.append(cluster_scoring(best_high_count, total_count))\n",
    "    \n",
    "    young_comedy_count =\\\n",
    "        len([w for w in text.split() if w in young_comedy_word_list])\n",
    "    young_comedy_words.append(young_comedy_count)\n",
    "    young_comedy.append(cluster_scoring(young_comedy_count, total_count))    \n",
    "        \n",
    "    everything_family_count =\\\n",
    "        len([w for w in text.split() if w in everything_family_word_list])\n",
    "    everything_family_words.append(everything_family_count)\n",
    "    everything_family.append\\\n",
    "        (cluster_scoring(everything_family_count, total_count))    \n",
    "        \n",
    "    going_real_count =\\\n",
    "        len([w for w in text.split() if w in going_real_word_list])    \n",
    "    going_real_words.append(going_real_count)\n",
    "    going_real.append(cluster_scoring(going_real_count, total_count))   \n",
    "\n",
    "add_cluster_data = {'total_words':total_words,\\\n",
    "    'forever_hero_words':forever_hero_words,\\\n",
    "    'forever_hero':forever_hero,\\\n",
    "    'best_high_words':best_high_words,\\\n",
    "    'best_high':best_high,\\\n",
    "    'young_comedy_words':young_comedy_words,\\\n",
    "    'young_comedy':young_comedy,\\\n",
    "    'everything_family_words':everything_family_words,\\\n",
    "    'everything_family':everything_family,\\\n",
    "    'going_real_words':going_real_words,\\\n",
    "    'going_real':going_real}   \n",
    "add_cluster_data_frame = pd.DataFrame(add_cluster_data)      \n",
    "tagline_data_frame =\\\n",
    "    pd.concat([tagline_data_frame,add_cluster_data_frame],axis=1) \n",
    "\n",
    "# check text measure calculations\n",
    "print(tagline_data_frame.describe())\n",
    "print(tagline_data_frame.head())\n",
    "print(tagline_data_frame.tail())\n"
   ]
  },
  {
   "cell_type": "code",
   "execution_count": 22,
   "metadata": {},
   "outputs": [],
   "source": [
    "# print(tagline_data_frame.head())\n",
    "# print(tagline_data_frame.tail())"
   ]
  },
  {
   "cell_type": "code",
   "execution_count": 23,
   "metadata": {},
   "outputs": [],
   "source": [
    "# tagline_data_frame.head()"
   ]
  },
  {
   "cell_type": "code",
   "execution_count": 24,
   "metadata": {},
   "outputs": [],
   "source": [
    "# compute text measure standard scores across years \n",
    "tagline_data_frame['z_forever_hero'] =\\\n",
    "    tagline_data_frame['forever_hero'].\\\n",
    "    apply(lambda d: (d - tagline_data_frame['forever_hero'].mean())/\\\n",
    "    tagline_data_frame['forever_hero'].std())\n",
    "    \n",
    "tagline_data_frame['z_best_high'] =\\\n",
    "    tagline_data_frame['best_high'].\\\n",
    "    apply(lambda d: (d - tagline_data_frame['best_high'].mean())/\\\n",
    "    tagline_data_frame['best_high'].std())    \n",
    "    \n",
    "tagline_data_frame['z_young_comedy'] =\\\n",
    "    tagline_data_frame['young_comedy'].\\\n",
    "    apply(lambda d: (d - tagline_data_frame['young_comedy'].mean())/\\\n",
    "    tagline_data_frame['young_comedy'].std())    \n",
    "\n",
    "tagline_data_frame['z_everything_family'] =\\\n",
    "    tagline_data_frame['everything_family'].\\\n",
    "    apply(lambda d: (d - tagline_data_frame['everything_family'].mean())/\\\n",
    "    tagline_data_frame['everything_family'].std())    \n",
    "        \n",
    "tagline_data_frame['z_going_real'] =\\\n",
    "    tagline_data_frame['going_real'].\\\n",
    "    apply(lambda d: (d - tagline_data_frame['going_real'].mean())/\\\n",
    "    tagline_data_frame['going_real'].std())            \n",
    "                "
   ]
  },
  {
   "cell_type": "code",
   "execution_count": 25,
   "metadata": {},
   "outputs": [
    {
     "data": {
      "image/png": "[encoded data removed]",
      "text/plain": [
       "<Figure size 432x288 with 1 Axes>"
      ]
     },
     "metadata": {},
     "output_type": "display_data"
    },
    {
     "data": {
      "text/plain": [
       "<Figure size 432x288 with 0 Axes>"
      ]
     },
     "metadata": {},
     "output_type": "display_data"
    }
   ],
   "source": [
    "# prepare data frame for multiple time series plot\n",
    "prelim_mts = pd.DataFrame(tagline_data_frame, columns =\\\n",
    "    ['year', 'z_forever_hero', 'z_best_high', 'z_young_comedy',\\\n",
    "    'z_everything_family', 'z_going_real'])\n",
    "prelim_mts.rename(columns = {'z_forever_hero':'Forever-Hero',\\\n",
    "    'z_best_high':'Best-High', 'z_young_comedy':'Young-Comedy',\\\n",
    "    'z_everything_family':'Everything-Family',\\\n",
    "    'z_going_real':'Going-Real'}, inplace = True)\n",
    "mts = prelim_mts.set_index('year')    \n",
    "\n",
    "# generate the plot  \n",
    "mts.plot()\n",
    "plt.xlabel('')\n",
    "plt.ylabel('Standardized Text Measure')\n",
    "plt.show()\n",
    "plt.savefig('fig_text_mts_1974_2013.pdf', \n",
    "    bbox_inches = 'tight', dpi=None,  \n",
    "    orientation='portrait', papertype=None, format=None, \n",
    "    transparent=True, pad_inches=0.25, frameon=None)  \n",
    "    "
   ]
  },
  {
   "cell_type": "code",
   "execution_count": null,
   "metadata": {},
   "outputs": [],
   "source": []
  }
 ],
 "metadata": {
  "kernelspec": {
   "display_name": "Python 3",
   "language": "python",
   "name": "python3"
  },
  "language_info": {
   "codemirror_mode": {
    "name": "ipython",
    "version": 3
   },
   "file_extension": ".py",
   "mimetype": "text/x-python",
   "name": "python",
   "nbconvert_exporter": "python",
   "pygments_lexer": "ipython3",
   "version": "3.8.5"
  }
 },
 "nbformat": 4,
 "nbformat_minor": 2
}
