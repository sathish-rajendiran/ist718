{
 "cells": [
  {
   "cell_type": "code",
   "execution_count": 30,
   "metadata": {},
   "outputs": [
    {
     "data": {
      "text/plain": [
       "'/Users/sathishrajendiran/ist718-python/Walk/Week6'"
      ]
     },
     "execution_count": 30,
     "metadata": {},
     "output_type": "execute_result"
    }
   ],
   "source": [
    "pwd"
   ]
  },
  {
   "cell_type": "code",
   "execution_count": 1,
   "metadata": {},
   "outputs": [
    {
     "name": "stdout",
     "output_type": "stream",
     "text": [
      "Requirement already satisfied: pyprind in /Users/sathishrajendiran/opt/anaconda3/lib/python3.8/site-packages (2.11.3)\r\n"
     ]
    }
   ],
   "source": [
    "!pip install pyprind"
   ]
  },
  {
   "cell_type": "code",
   "execution_count": 23,
   "metadata": {},
   "outputs": [],
   "source": [
    "# Sports Team Simulation\n",
    "# Baseball\n",
    "# Based on Miller (2015)\n",
    "\n",
    "import numpy as np\n",
    "import random\n",
    "from scipy.stats import nbinom\n",
    "from array import array\n",
    "\n",
    "import pyprind   # PROVIDES TIMING AWARENESS\n"
   ]
  },
  {
   "cell_type": "code",
   "execution_count": 26,
   "metadata": {},
   "outputs": [],
   "source": [
    "def simulator(home_mean, away_mean, niterations):\n",
    "    # estimates probability of home team win\n",
    "    random.seed(1234)  # set to obtain reproducible results\n",
    "    home_game_score = [0] * niterations\n",
    "    away_game_score = [0] * niterations\n",
    "    home_win = [0] * niterations\n",
    "    i = 0\n",
    "    while (i < niterations):\n",
    "        home_game_score[i] = \\\n",
    "            nbinom.rvs(n = 4.0, p = 4.0/(4.0 + home_mean), size = 1)[0] \n",
    "        away_game_score[i] = \\\n",
    "            nbinom.rvs(n = 4.0, p = 4.0/(4.0 + away_mean), size = 1)[0]         \n",
    "        if (home_game_score[i] > away_game_score[i]):\n",
    "            home_win[i] = 1\n",
    "        if ((away_game_score[i] > home_game_score[i]) or \\\n",
    "            (away_game_score[i] < home_game_score[i])):\n",
    "            i = i + 1 \n",
    "    n_home_win = sum(home_win)\n",
    "    return n_home_win / niterations      "
   ]
  },
  {
   "cell_type": "code",
   "execution_count": 27,
   "metadata": {},
   "outputs": [
    {
     "name": "stdout",
     "output_type": "stream",
     "text": [
      "0 0\n",
      "0 1\n",
      "0 2\n",
      "0 3\n",
      "0 4\n",
      "0 5\n",
      "0 6\n",
      "0 7\n",
      "1 0\n",
      "1 1\n",
      "1 2\n",
      "1 3\n",
      "1 4\n",
      "1 5\n",
      "1 6\n",
      "1 8\n",
      "2 0\n",
      "2 1\n",
      "2 2\n",
      "2 3\n",
      "2 4\n",
      "2 5\n",
      "2 7\n",
      "2 8\n",
      "3 0\n",
      "3 1\n",
      "3 2\n",
      "3 3\n",
      "3 4\n",
      "3 6\n",
      "3 7\n",
      "3 8\n",
      "4 0\n",
      "4 1\n",
      "4 2\n",
      "4 3\n",
      "4 5\n",
      "4 6\n",
      "4 7\n",
      "4 8\n",
      "5 0\n",
      "5 1\n",
      "5 2\n",
      "5 4\n",
      "5 5\n",
      "5 6\n",
      "5 7\n",
      "5 8\n",
      "6 0\n",
      "6 1\n",
      "6 3\n",
      "6 4\n",
      "6 5\n",
      "6 6\n",
      "6 7\n",
      "6 8\n",
      "7 0\n",
      "7 2\n",
      "7 3\n",
      "7 4\n",
      "7 5\n",
      "7 6\n",
      "7 7\n",
      "7 8\n",
      "8 1\n",
      "8 2\n",
      "8 3\n",
      "8 4\n",
      "8 5\n",
      "8 6\n",
      "8 7\n",
      "8 8\n",
      "[[1 0 0 0 0 0 0 0 0]\n",
      " [1 0 0 0 0 0 0 0 0]\n",
      " [1 0 0 0 0 0 0 0 0]\n",
      " [0 1 0 0 0 0 0 0 0]\n",
      " [1 0 0 0 0 0 0 0 0]\n",
      " [0 0 0 0 0 0 0 0 0]\n",
      " [0 0 0 0 0 0 0 0 0]\n",
      " [0 0 0 0 0 0 0 0 0]\n",
      " [0 0 0 0 0 0 0 0 0]]\n"
     ]
    }
   ],
   "source": [
    "# NOT USED FOR IN CLASS DEMO\n",
    "\n",
    "pbar = pyprind.ProgBar(50000)\n",
    "\n",
    "niterations = 20  # use smaller number for testing\n",
    "\n",
    "#probability matrix for results... home team rows, away team columns\n",
    "probmat = np.array([[0] * 9] * 9)\n",
    "\n",
    "#matrix representation of home and away team runs for table\n",
    "homemat = np.array([[9] * 9, [8] * 9, [7] * 9, [6] * 9, [5] * 9,\\\n",
    "   [4] * 9, [3] * 9, [2] *9, [1] * 9])\n",
    "awayrow = np.array([1, 2, 3, 4, 5, 6, 7, 8, 9])    \n",
    "awaymat = np.array([awayrow] * 9)\n",
    "\n",
    "# generate table of probabilities\n",
    "for index_home in range(9):\n",
    "   for index_away in range(9):\n",
    "       if (homemat[index_home,index_away] != awaymat[index_home,index_away]):\n",
    "           print(index_home, index_away)\n",
    "           probmat[index_home, index_away] = \\\n",
    "               simulator(float(homemat[index_home, index_away]), \\\n",
    "                        float(awaymat[index_home, index_away]), niterations)\n",
    "           pbar.update()\n",
    "\n",
    "print(probmat)                "
   ]
  },
  {
   "cell_type": "code",
   "execution_count": 5,
   "metadata": {},
   "outputs": [
    {
     "data": {
      "text/plain": [
       "5.94945"
      ]
     },
     "execution_count": 5,
     "metadata": {},
     "output_type": "execute_result"
    }
   ],
   "source": [
    "# estimates probability of home team win\n",
    "random.seed(1234)  # set to obtain reproducible results\n",
    "\n",
    "niterations = 100000  # use smaller number for testing\n",
    "\n",
    "home_game_score = [0] * niterations\n",
    "away_game_score = [0] * niterations\n",
    "home_mean = 5.97\n",
    "away_mean = 4.97\n",
    "i = 0\n",
    "while (i < niterations):\n",
    "    home_game_score[i] = \\\n",
    "        nbinom.rvs(n = 4.0, p = 4.0/(4.0 + home_mean), size = 1)[0] \n",
    "    away_game_score[i] = \\\n",
    "        nbinom.rvs(n = 4.0, p = 4.0/(4.0 + away_mean), size = 1)[0]         \n",
    "    i = i + 1 \n",
    "\n",
    "np.mean(home_game_score)\n",
    "    \n"
   ]
  },
  {
   "cell_type": "code",
   "execution_count": 6,
   "metadata": {},
   "outputs": [
    {
     "data": {
      "text/plain": [
       "4.96924"
      ]
     },
     "execution_count": 6,
     "metadata": {},
     "output_type": "execute_result"
    }
   ],
   "source": [
    "np.mean(away_game_score)\n"
   ]
  },
  {
   "cell_type": "code",
   "execution_count": 7,
   "metadata": {},
   "outputs": [
    {
     "data": {
      "image/png": "[encoded data removed]",
      "text/plain": [
       "<Figure size 432x288 with 1 Axes>"
      ]
     },
     "metadata": {
      "needs_background": "light"
     },
     "output_type": "display_data"
    },
    {
     "data": {
      "image/png": "[encoded data removed]",
      "text/plain": [
       "<Figure size 432x288 with 1 Axes>"
      ]
     },
     "metadata": {
      "needs_background": "light"
     },
     "output_type": "display_data"
    },
    {
     "data": {
      "image/png": "[encoded data removed]",
      "text/plain": [
       "<Figure size 432x288 with 1 Axes>"
      ]
     },
     "metadata": {
      "needs_background": "light"
     },
     "output_type": "display_data"
    },
    {
     "data": {
      "image/png": "[encoded data removed]",
      "text/plain": [
       "<Figure size 432x288 with 1 Axes>"
      ]
     },
     "metadata": {
      "needs_background": "light"
     },
     "output_type": "display_data"
    }
   ],
   "source": [
    "#  BUILD PLOTS FOR Negative Binomial MODEL\n",
    "import seaborn as sns\n",
    "\n",
    "import matplotlib.pyplot as plt\n",
    "\n",
    "mas = 4 / (4 + 4.97)\n",
    "mad = 4 / (4 + 3.45)\n",
    "yhs = 4 / (4 + 5.97)\n",
    "yhd = 4 / (4 + 4.84)\n",
    "\n",
    "MetAwayScore = np.random.negative_binomial(4, mas, 10000)\n",
    "MetAwayDefend = np.random.negative_binomial(4, mad, 10000)\n",
    "YankHomeScore = np.random.negative_binomial(4, yhs, 10000)\n",
    "YankHomeDefend = np.random.negative_binomial(4, yhd, 10000)\n",
    "\n",
    "plt.hist(MetAwayScore, bins='auto', rwidth = .5, density=True)\n",
    "plt.title(\"Runs Scored - Mets\")\n",
    "plt.show()\n",
    "\n",
    "plt.hist(MetAwayDefend, bins='auto', rwidth = .5, density=True) \n",
    "plt.title(\"Runs Allowed - Mets\")\n",
    "plt.show()\n",
    "\n",
    "plt.hist(YankHomeScore, bins='auto', rwidth = .5, density=True) \n",
    "plt.title(\"Runs Scored - Yanks\")\n",
    "plt.show()\n",
    "\n",
    "plt.hist(YankHomeDefend, bins='auto', rwidth = .5, density=True)\n",
    "plt.title(\"Runs Allowed - Yanks\")\n",
    "plt.show()"
   ]
  },
  {
   "cell_type": "code",
   "execution_count": 8,
   "metadata": {},
   "outputs": [
    {
     "data": {
      "image/png": "[encoded data removed]",
      "text/plain": [
       "<Figure size 432x288 with 1 Axes>"
      ]
     },
     "metadata": {
      "needs_background": "light"
     },
     "output_type": "display_data"
    },
    {
     "data": {
      "image/png": "[encoded data removed]",
      "text/plain": [
       "<Figure size 432x288 with 1 Axes>"
      ]
     },
     "metadata": {
      "needs_background": "light"
     },
     "output_type": "display_data"
    },
    {
     "data": {
      "image/png": "[encoded data removed]",
      "text/plain": [
       "<Figure size 432x288 with 1 Axes>"
      ]
     },
     "metadata": {
      "needs_background": "light"
     },
     "output_type": "display_data"
    },
    {
     "data": {
      "image/png": "[encoded data removed]",
      "text/plain": [
       "<Figure size 432x288 with 1 Axes>"
      ]
     },
     "metadata": {
      "needs_background": "light"
     },
     "output_type": "display_data"
    }
   ],
   "source": [
    "#  BUILD PLOTS FOR Poisson MODEL\n",
    "\n",
    "MetAwayScore = np.random.poisson(4.97, 1000000)\n",
    "MetAwayDefend = np.random.poisson(3.45, 100000)\n",
    "YankHomeScore = np.random.poisson(5.97, 10000)\n",
    "YankHomeDefend = np.random.poisson(4.84, 10000)\n",
    "\n",
    "plt.hist(MetAwayScore, bins='auto', rwidth = .5, density=True) \n",
    "plt.title(\"Runs Scored - Mets\")\n",
    "plt.show()\n",
    "\n",
    "plt.hist(MetAwayDefend, bins='auto', rwidth = .5, density=True)  \n",
    "plt.title(\"Runs Allowed - Mets\")\n",
    "plt.show()\n",
    "\n",
    "plt.hist(YankHomeScore, bins='auto', rwidth = .5, density=True)  \n",
    "plt.title(\"Runs Scored - Yanks\")\n",
    "plt.show()\n",
    "\n",
    "plt.hist(YankHomeDefend, bins='auto', rwidth = .5, density=True) \n",
    "plt.title(\"Runs Allowed - Yanks\")\n",
    "plt.show()"
   ]
  },
  {
   "cell_type": "code",
   "execution_count": 9,
   "metadata": {},
   "outputs": [],
   "source": [
    "# Suggestion for the student: Develop simulators for football or basketball.\n",
    "# Use matplotlib to create a probability heat-map for the probmat results.\n",
    "\n"
   ]
  },
  {
   "cell_type": "code",
   "execution_count": 28,
   "metadata": {},
   "outputs": [
    {
     "name": "stdout",
     "output_type": "stream",
     "text": [
      "[[1 0 0 0 0 0 0 0 0]\n",
      " [1 0 0 0 0 0 0 0 0]\n",
      " [1 0 0 0 0 0 0 0 0]\n",
      " [0 1 0 0 0 0 0 0 0]\n",
      " [1 0 0 0 0 0 0 0 0]\n",
      " [0 0 0 0 0 0 0 0 0]\n",
      " [0 0 0 0 0 0 0 0 0]\n",
      " [0 0 0 0 0 0 0 0 0]\n",
      " [0 0 0 0 0 0 0 0 0]]\n"
     ]
    }
   ],
   "source": [
    "print(probmat) "
   ]
  },
  {
   "cell_type": "code",
   "execution_count": 29,
   "metadata": {},
   "outputs": [
    {
     "data": {
      "image/png": "[encoded data removed]",
      "text/plain": [
       "<Figure size 432x288 with 2 Axes>"
      ]
     },
     "metadata": {
      "needs_background": "light"
     },
     "output_type": "display_data"
    }
   ],
   "source": [
    "import matplotlib.pylab as plt\n",
    "ax = sns.heatmap(probmat, linewidth=0.5)\n",
    "plt.show()"
   ]
  }
 ],
 "metadata": {
  "kernelspec": {
   "display_name": "Python 3",
   "language": "python",
   "name": "python3"
  },
  "language_info": {
   "codemirror_mode": {
    "name": "ipython",
    "version": 3
   },
   "file_extension": ".py",
   "mimetype": "text/x-python",
   "name": "python",
   "nbconvert_exporter": "python",
   "pygments_lexer": "ipython3",
   "version": "3.8.5"
  }
 },
 "nbformat": 4,
 "nbformat_minor": 2
}
